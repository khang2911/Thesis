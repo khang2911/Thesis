{
 "cells": [
  {
   "cell_type": "code",
   "execution_count": 24,
   "metadata": {},
   "outputs": [],
   "source": [
    "import pubmed_parser as pp\n",
    "import os\n",
    "import sys\n",
    "import json"
   ]
  },
  {
   "cell_type": "code",
   "execution_count": 25,
   "metadata": {},
   "outputs": [],
   "source": [
    "###### Set up input and output directory\n",
    "IDlist = os.listdir('..\\\\data\\\\unzip')\n",
    "outdir = '..\\\\data'\n",
    "outfile = open(os.path.join(outdir,os.path.basename('text_extract.json')),'w')"
   ]
  },
  {
   "cell_type": "code",
   "execution_count": 26,
   "metadata": {},
   "outputs": [],
   "source": [
    "##### Extract text from nxml file for each ID\n",
    "faillist = []\n",
    "contentdict = {}\n",
    "for ID in IDlist :\n",
    "    nxmlfile = os.listdir('..\\\\data\\\\unzip\\\\%s'%ID)[0]\n",
    "    nxmlpath = '..\\\\data\\\\unzip\\\\%s\\\\%s'%(ID,nxmlfile)\n",
    "    text = ''\n",
    "    content_dict = pp.parse_pubmed_paragraph(nxmlpath, all_paragraph=False)\n",
    "    for section in content_dict :\n",
    "        text+= section['text']\n",
    "    if text != '' :\n",
    "        contentdict[ID] = text\n",
    "    else :\n",
    "        faillist.append(ID)\n",
    "#####\n",
    "outfile.write(json.dumps(contentdict))  \n",
    "outfile.close()"
   ]
  },
  {
   "cell_type": "code",
   "execution_count": 27,
   "metadata": {},
   "outputs": [
    {
     "data": {
      "text/plain": [
       "['PMC5498867', 'PMC5535876', 'PMC5622381', 'PMC5668469']"
      ]
     },
     "execution_count": 27,
     "metadata": {},
     "output_type": "execute_result"
    }
   ],
   "source": [
    "faillist"
   ]
  },
  {
   "cell_type": "code",
   "execution_count": null,
   "metadata": {},
   "outputs": [],
   "source": []
  }
 ],
 "metadata": {
  "kernelspec": {
   "display_name": "Python 3",
   "language": "python",
   "name": "python3"
  },
  "language_info": {
   "codemirror_mode": {
    "name": "ipython",
    "version": 3
   },
   "file_extension": ".py",
   "mimetype": "text/x-python",
   "name": "python",
   "nbconvert_exporter": "python",
   "pygments_lexer": "ipython3",
   "version": "3.6.1"
  }
 },
 "nbformat": 4,
 "nbformat_minor": 2
}
