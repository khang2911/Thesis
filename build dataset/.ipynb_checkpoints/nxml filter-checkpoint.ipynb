{
 "cells": [
  {
   "cell_type": "code",
   "execution_count": 2,
   "metadata": {},
   "outputs": [],
   "source": [
    "import os\n",
    "import sys"
   ]
  },
  {
   "cell_type": "code",
   "execution_count": 4,
   "metadata": {},
   "outputs": [],
   "source": [
    "##### take folder name list from folder unzip ##### (unzip data is unzip from tar folder)\n",
    "folders = os.listdir('C:\\\\Users\\\\KHANG\\\\thesis\\\\Thesis\\\\data\\\\unzip')"
   ]
  },
  {
   "cell_type": "code",
   "execution_count": 7,
   "metadata": {},
   "outputs": [],
   "source": [
    "##### Delete all file except .nxml file\n",
    "for folder in folders :\n",
    "    files = os.listdir('C:\\\\Users\\\\KHANG\\\\thesis\\\\Thesis\\\\data\\\\unzip\\\\%s'%folder)\n",
    "    for file in files :\n",
    "        if file.split('.')[-1] != 'nxml' :\n",
    "            os.system('DEL /F C:\\\\Users\\\\KHANG\\\\thesis\\\\Thesis\\\\data\\\\unzip\\\\%s\\\\%s'%(folder,file))"
   ]
  },
  {
   "cell_type": "code",
   "execution_count": null,
   "metadata": {},
   "outputs": [],
   "source": []
  }
 ],
 "metadata": {
  "kernelspec": {
   "display_name": "Python 3",
   "language": "python",
   "name": "python3"
  },
  "language_info": {
   "codemirror_mode": {
    "name": "ipython",
    "version": 3
   },
   "file_extension": ".py",
   "mimetype": "text/x-python",
   "name": "python",
   "nbconvert_exporter": "python",
   "pygments_lexer": "ipython3",
   "version": "3.6.1"
  }
 },
 "nbformat": 4,
 "nbformat_minor": 2
}
