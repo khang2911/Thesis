{
 "cells": [
  {
   "cell_type": "code",
   "execution_count": 1,
   "metadata": {},
   "outputs": [],
   "source": [
    "from bs4 import BeautifulSoup\n",
    "import requests\n",
    "import json\n",
    "import os"
   ]
  },
  {
   "cell_type": "code",
   "execution_count": 2,
   "metadata": {},
   "outputs": [],
   "source": [
    "##### set up for output file - json file contain PMC id\n",
    "outdir = \"C:\\\\Users\\\\KHANG\\\\thesis\\\\Thesis\\\\data\"\n",
    "outfile = open(os.path.join(outdir,os.path.basename('id.json')),'w')"
   ]
  },
  {
   "cell_type": "code",
   "execution_count": 3,
   "metadata": {},
   "outputs": [],
   "source": [
    "##### Search PMC ID from E-utilities by key word\n",
    "\n",
    "keyword = 'herb+drug+interaction'\n",
    "retmax = 500 ##### maximum ammount of ID in each search\n",
    "\n",
    "url = 'https://eutils.ncbi.nlm.nih.gov/entrez/eutils/esearch.fcgi?db=pmc&term=%s&retmax=%s'%(keyword,retmax)\n",
    "r = requests.get(url)\n",
    "content = r.text.encode(\"utf-8\")"
   ]
  },
  {
   "cell_type": "code",
   "execution_count": 5,
   "metadata": {},
   "outputs": [],
   "source": [
    "##### Save PMC ID from html into json format\n",
    "soup = BeautifulSoup(content,'html.parser')\n",
    "idlist = []\n",
    "for each in soup.findAll('id') :\n",
    "    idlist.append(each.text)\n",
    "outfile.write(json.dumps(idlist))\n",
    "outfile.close()"
   ]
  },
  {
   "cell_type": "code",
   "execution_count": null,
   "metadata": {},
   "outputs": [],
   "source": []
  }
 ],
 "metadata": {
  "kernelspec": {
   "display_name": "Python 3",
   "language": "python",
   "name": "python3"
  },
  "language_info": {
   "codemirror_mode": {
    "name": "ipython",
    "version": 3
   },
   "file_extension": ".py",
   "mimetype": "text/x-python",
   "name": "python",
   "nbconvert_exporter": "python",
   "pygments_lexer": "ipython3",
   "version": "3.6.1"
  }
 },
 "nbformat": 4,
 "nbformat_minor": 2
}
