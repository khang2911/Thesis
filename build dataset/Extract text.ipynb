{
 "cells": [
  {
   "cell_type": "code",
   "execution_count": 8,
   "metadata": {},
   "outputs": [],
   "source": [
    "import pubmed_parser as pp\n",
    "import os\n",
    "import sys"
   ]
  },
  {
   "cell_type": "code",
   "execution_count": null,
   "metadata": {},
   "outputs": [],
   "source": [
    "###### Set up input and output directory\n",
    "IDlist = os.listdir('..\\\\data\\\\unzip')\n",
    "oudir = '..\\\\data'\n",
    "outfile = open(os.path.join(outdir,os.path.basename('text_extract.csv')),'w')"
   ]
  },
  {
   "cell_type": "code",
   "execution_count": null,
   "metadata": {},
   "outputs": [],
   "source": [
    "##### Extract text from nxml file for each ID\n",
    "faillist = []\n",
    "for ID in IDlist :\n",
    "    nxmlfile = os.listdir('..\\\\data\\\\unzip\\\\%s'%ID)[0]\n",
    "    nxmlpath = '..\\\\data\\\\unzip\\\\%s\\\\%s'%(ID,nxmlfile)\n",
    "    text = ''\n",
    "    content_dict = pp.parse_pubmed_paragraph(nxmlpath, all_paragraph=False)\n",
    "    for section in content_dict :\n",
    "        text+= section['text']\n",
    "    if text != '' :\n",
    "        outfile.write('%s\\t%s\\n'%(ID,text))\n",
    "    else :\n",
    "        faillist.append(ID)\n",
    "    "
   ]
  },
  {
   "cell_type": "code",
   "execution_count": null,
   "metadata": {},
   "outputs": [],
   "source": []
  }
 ],
 "metadata": {
  "kernelspec": {
   "display_name": "Python 3",
   "language": "python",
   "name": "python3"
  },
  "language_info": {
   "codemirror_mode": {
    "name": "ipython",
    "version": 3
   },
   "file_extension": ".py",
   "mimetype": "text/x-python",
   "name": "python",
   "nbconvert_exporter": "python",
   "pygments_lexer": "ipython3",
   "version": "3.6.1"
  }
 },
 "nbformat": 4,
 "nbformat_minor": 2
}
