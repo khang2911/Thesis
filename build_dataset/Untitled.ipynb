{
 "cells": [
  {
   "cell_type": "code",
   "execution_count": 1,
   "metadata": {},
   "outputs": [],
   "source": [
    "import os\n",
    "import json\n",
    "import sys"
   ]
  },
  {
   "cell_type": "code",
   "execution_count": 2,
   "metadata": {},
   "outputs": [],
   "source": [
    "import matplotlib.pyplot as plt; plt.rcdefaults()\n",
    "import numpy as np\n",
    "import matplotlib.pyplot as plt\n",
    "from sklearn.cluster import KMeans"
   ]
  },
  {
   "cell_type": "code",
   "execution_count": 3,
   "metadata": {},
   "outputs": [],
   "source": [
    "a = json.load(open('../data/preprocessing/herb_corpus/herb_syms_total.json'))"
   ]
  },
  {
   "cell_type": "code",
   "execution_count": 2,
   "metadata": {},
   "outputs": [
    {
     "name": "stdout",
     "output_type": "stream",
     "text": [
      "1\n",
      "2\n",
      "3\n",
      "4\n",
      "5\n",
      "6\n",
      "7\n",
      "8\n",
      "9\n",
      "10\n",
      "11\n",
      "12\n",
      "13\n",
      "14\n",
      "15\n",
      "16\n",
      "17\n",
      "18\n",
      "19\n",
      "20\n",
      "21\n",
      "22\n",
      "23\n",
      "24\n",
      "25\n",
      "26\n",
      "27\n",
      "28\n",
      "29\n",
      "30\n",
      "31\n",
      "32\n",
      "33\n",
      "34\n",
      "35\n",
      "36\n",
      "37\n",
      "38\n",
      "39\n",
      "40\n",
      "41\n",
      "42\n",
      "43\n",
      "44\n",
      "45\n",
      "46\n",
      "47\n",
      "48\n",
      "49\n",
      "50\n",
      "51\n",
      "52\n",
      "53\n",
      "54\n",
      "55\n",
      "56\n",
      "57\n",
      "58\n",
      "59\n",
      "60\n",
      "61\n",
      "62\n",
      "63\n",
      "64\n",
      "65\n",
      "66\n",
      "67\n",
      "68\n",
      "69\n",
      "70\n",
      "71\n",
      "72\n",
      "73\n",
      "74\n",
      "75\n",
      "76\n",
      "77\n",
      "78\n",
      "79\n",
      "80\n",
      "81\n",
      "82\n",
      "83\n",
      "84\n",
      "85\n",
      "86\n",
      "87\n",
      "88\n",
      "89\n",
      "90\n",
      "91\n",
      "92\n",
      "93\n",
      "94\n",
      "95\n",
      "96\n",
      "97\n",
      "98\n",
      "99\n",
      "100\n",
      "101\n",
      "102\n",
      "103\n",
      "104\n",
      "105\n",
      "106\n",
      "107\n",
      "108\n",
      "109\n",
      "110\n",
      "111\n",
      "112\n",
      "113\n",
      "114\n",
      "115\n",
      "116\n",
      "117\n",
      "118\n",
      "119\n",
      "120\n",
      "121\n",
      "122\n",
      "123\n",
      "124\n",
      "125\n",
      "126\n",
      "127\n",
      "128\n",
      "129\n",
      "130\n",
      "131\n",
      "132\n",
      "133\n",
      "134\n",
      "135\n",
      "136\n",
      "137\n",
      "138\n",
      "139\n",
      "140\n",
      "141\n",
      "142\n",
      "143\n",
      "144\n",
      "145\n",
      "146\n",
      "147\n",
      "148\n",
      "149\n",
      "150\n",
      "151\n",
      "152\n",
      "153\n",
      "154\n",
      "155\n",
      "156\n",
      "157\n",
      "158\n",
      "159\n",
      "160\n",
      "161\n",
      "162\n",
      "163\n",
      "164\n",
      "165\n"
     ]
    }
   ],
   "source": [
    "save = {}\n",
    "track = 0\n",
    "count = 0\n",
    "#outdir = '../data/abstract_full_1/'\n",
    "outdir = 'H:/data/full_text_PMC/'\n",
    "for each in os.listdir('H:/data/full_PMC/') :\n",
    "    data = json.load(open('H:/data/full_PMC/%s'%each))\n",
    "    for ID in data :\n",
    "        save[ID] = data[ID]\n",
    "        count+=1\n",
    "        if count > 10000 :\n",
    "            if track < 10:\n",
    "                outfile = open(os.path.join(outdir,os.path.basename('text_0%s.json'%track)),'w')\n",
    "            else:\n",
    "                outfile = open(os.path.join(outdir,os.path.basename('text_%s.json'%track)),'w')\n",
    "            outfile.write(json.dumps(save))\n",
    "            outfile.close()\n",
    "            track+=1\n",
    "            count = 0\n",
    "            save = {}\n",
    "            print(track)\n",
    "outfile = open(os.path.join(outdir,os.path.basename('abstract_%s.json'%track)),'w')\n",
    "outfile.write(json.dumps(save))\n",
    "outfile.close()"
   ]
  },
  {
   "cell_type": "code",
   "execution_count": null,
   "metadata": {},
   "outputs": [],
   "source": []
  },
  {
   "cell_type": "code",
   "execution_count": 22,
   "metadata": {},
   "outputs": [
    {
     "data": {
      "text/plain": [
       "'AAas dasd'"
      ]
     },
     "execution_count": 22,
     "metadata": {},
     "output_type": "execute_result"
    }
   ],
   "source": [
    "'AAas\\ndasd'.replace('\\n',' ')"
   ]
  },
  {
   "cell_type": "code",
   "execution_count": null,
   "metadata": {},
   "outputs": [],
   "source": []
  },
  {
   "cell_type": "code",
   "execution_count": 3,
   "metadata": {},
   "outputs": [],
   "source": [
    "X = np.load('../data/PCA/sen_vector_PCA.npy')"
   ]
  },
  {
   "cell_type": "code",
   "execution_count": 34,
   "metadata": {},
   "outputs": [
    {
     "name": "stdout",
     "output_type": "stream",
     "text": [
      "[8702, 23215]\n",
      "[4292, 6386, 21239]\n",
      "[16224, 9406, 1808, 4479]\n",
      "[3404, 15377, 8819, 2593, 1724]\n",
      "[1327, 14962, 6010, 2513, 3053, 4052]\n",
      "[3562, 12958, 1186, 2413, 5317, 5099, 1382]\n",
      "[1402, 5042, 1132, 3406, 5003, 905, 2344, 12683]\n",
      "[11714, 3343, 4260, 1105, 1287, 4725, 3513, 1082, 888]\n",
      "[1906, 9984, 1016, 3937, 3992, 3373, 1052, 4851, 928, 878]\n",
      "[9367, 1557, 942, 3254, 1052, 626, 2902, 3871, 2104, 5428, 814]\n",
      "[3715, 9538, 2730, 1010, 1445, 1555, 2586, 866, 403, 833, 3957, 3279]\n",
      "[2229, 858, 514, 8992, 2531, 3269, 1638, 826, 3932, 1434, 975, 3844, 875]\n",
      "[821, 8652, 2422, 1059, 3623, 1370, 2261, 4124, 875, 1301, 3241, 807, 974, 387]\n"
     ]
    }
   ],
   "source": [
    "for n in range(2,15):\n",
    "    kmeans = KMeans(n_clusters=n, max_iter=10000).fit(X)\n",
    "    pred_label = kmeans.predict(X)\n",
    "    count = {}\n",
    "    for each in pred_label :\n",
    "        if each in count :\n",
    "            count[each]+=1\n",
    "        else:\n",
    "            count[each] = 1\n",
    "    print([count[i] for i in list(sorted(count)) ])"
   ]
  },
  {
   "cell_type": "code",
   "execution_count": 51,
   "metadata": {},
   "outputs": [
    {
     "data": {
      "text/plain": [
       "49"
      ]
     },
     "execution_count": 51,
     "metadata": {},
     "output_type": "execute_result"
    }
   ],
   "source": [
    "len(performance)"
   ]
  },
  {
   "cell_type": "code",
   "execution_count": 64,
   "metadata": {},
   "outputs": [],
   "source": [
    "b = {}\n",
    "for each in a :\n",
    "    b[int(each)] = a[each]"
   ]
  },
  {
   "cell_type": "code",
   "execution_count": 6,
   "metadata": {},
   "outputs": [
    {
     "data": {
      "image/png": "[encoded data removed]",
      "text/plain": [
       "<matplotlib.figure.Figure at 0x665f630>"
      ]
     },
     "metadata": {},
     "output_type": "display_data"
    }
   ],
   "source": [
    "performance = []\n",
    "#for each in sorted(b) :\n",
    "    #performance.append(b[each])\n",
    "performance = [4292, 6386, 21239]\n",
    "objects = list(range(len(performance)))\n",
    "y_pos = np.arange(len(objects))\n",
    "plt.clf()\n",
    "plt.bar(y_pos, performance, align='center', alpha=0.5)\n",
    "#plt.xticks([0,8,18,28,38,48],[2,10,20,30,40,50])\n",
    "plt.xticks(y_pos, objects)\n",
    "plt.ylabel('Cluster size')\n",
    "plt.xlabel('Cluster index')\n",
    "outdir = '../data/'\n",
    "plt.savefig('%s/cluster_size_k=2.png'%(outdir))\n",
    " \n",
    "plt.show()"
   ]
  },
  {
   "cell_type": "code",
   "execution_count": 14,
   "metadata": {},
   "outputs": [
    {
     "name": "stdout",
     "output_type": "stream",
     "text": [
      "2\n",
      "0.2669196525721367\n",
      "3\n",
      "0.22823416911548533\n",
      "5\n",
      "0.1192528170119993\n",
      "4\n",
      "0.11772441046119776\n",
      "6\n",
      "0.11367708517948984\n",
      "7\n",
      "0.11298561648727914\n",
      "8\n",
      "0.09433976237338451\n",
      "9\n",
      "0.08254322914164078\n",
      "10\n",
      "0.06146870028503213\n",
      "11\n",
      "0.0592410689650386\n"
     ]
    }
   ],
   "source": [
    "top = {}\n",
    "for each in a :\n",
    "    top[a[each]] = each\n",
    "\n",
    "for each in sorted(top)[::-1][:10] :\n",
    "    print(top[each])\n",
    "    print(each)\n"
   ]
  },
  {
   "cell_type": "code",
   "execution_count": 10,
   "metadata": {},
   "outputs": [
    {
     "data": {
      "text/plain": [
       "[<matplotlib.lines.Line2D at 0xc6b5438>]"
      ]
     },
     "execution_count": 10,
     "metadata": {},
     "output_type": "execute_result"
    }
   ],
   "source": [
    "from sklearn.cluster import KMeans\n",
    "import pandas as pd\n",
    "import numpy as np\n",
    "import matplotlib.pyplot as plt\n",
    "import matplotlib.cm as cm\n",
    "import seaborn as sn\n",
    "\n",
    "X_scaled = np.load('../data/PCA/sen_vector_PCA.npy')\n",
    "cluster_range = range( 1, 20 )\n",
    "cluster_errors = []\n",
    "\n",
    "for num_clusters in cluster_range:\n",
    "    clusters = KMeans( num_clusters )\n",
    "    clusters.fit( X_scaled )\n",
    "    cluster_errors.append( clusters.inertia_ )\n",
    "clusters_df = pd.DataFrame( { \"num_clusters\":cluster_range, \"cluster_errors\": cluster_errors } )\n",
    "plt.figure(figsize=(12,6))\n",
    "plt.plot( clusters_df.num_clusters, clusters_df.cluster_errors, marker = \"o\" )"
   ]
  },
  {
   "cell_type": "code",
   "execution_count": 11,
   "metadata": {},
   "outputs": [
    {
     "data": {
      "image/png": "[encoded data removed]",
      "text/plain": [
       "<matplotlib.figure.Figure at 0x4dbcb70>"
      ]
     },
     "metadata": {},
     "output_type": "display_data"
    }
   ],
   "source": [
    "plt.show()"
   ]
  },
  {
   "cell_type": "code",
   "execution_count": null,
   "metadata": {},
   "outputs": [],
   "source": []
  },
  {
   "cell_type": "code",
   "execution_count": null,
   "metadata": {},
   "outputs": [],
   "source": []
  },
  {
   "cell_type": "code",
   "execution_count": null,
   "metadata": {},
   "outputs": [],
   "source": []
  }
 ],
 "metadata": {
  "kernelspec": {
   "display_name": "Python 3",
   "language": "python",
   "name": "python3"
  },
  "language_info": {
   "codemirror_mode": {
    "name": "ipython",
    "version": 3
   },
   "file_extension": ".py",
   "mimetype": "text/x-python",
   "name": "python",
   "nbconvert_exporter": "python",
   "pygments_lexer": "ipython3",
   "version": "3.6.1"
  }
 },
 "nbformat": 4,
 "nbformat_minor": 2
}
