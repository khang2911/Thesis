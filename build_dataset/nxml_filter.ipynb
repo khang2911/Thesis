{
 "cells": [
  {
   "cell_type": "code",
   "execution_count": 1,
   "metadata": {},
   "outputs": [],
   "source": [
    "import os\n",
    "import sys\n",
    "import tarfile\n",
    "import json"
   ]
  },
  {
   "cell_type": "code",
   "execution_count": null,
   "metadata": {},
   "outputs": [],
   "source": [
    "##### unzip tar.gz file\n",
    "tarfiles = os.listdir('..\\\\data\\\\tar')\n",
    "for file in tarfiles :\n",
    "    tar = tarfile.open('..\\\\data\\\\tar\\\\file')\n",
    "    tar.extractall(path = '..\\\\data\\\\unzip')\n",
    "    tar.close()"
   ]
  },
  {
   "cell_type": "code",
   "execution_count": null,
   "metadata": {},
   "outputs": [],
   "source": []
  },
  {
   "cell_type": "code",
   "execution_count": 4,
   "metadata": {},
   "outputs": [],
   "source": [
    "##### take folder name list from folder unzip ##### (unzip data is unzip from tar folder)\n",
    "folders = os.listdir('..\\\\data\\\\unzip')"
   ]
  },
  {
   "cell_type": "code",
   "execution_count": 7,
   "metadata": {},
   "outputs": [],
   "source": [
    "##### Delete all file except .nxml file\n",
    "for folder in folders :\n",
    "    files = os.listdir('..\\\\data\\\\unzip\\\\%s'%folder)\n",
    "    for file in files :\n",
    "        if file.split('.')[-1] != 'nxml' :\n",
    "            os.system('DEL /F ..\\\\data\\\\unzip\\\\%s\\\\%s'%(folder,file))"
   ]
  },
  {
   "cell_type": "code",
   "execution_count": 2,
   "metadata": {},
   "outputs": [],
   "source": []
  },
  {
   "cell_type": "code",
   "execution_count": 6,
   "metadata": {},
   "outputs": [],
   "source": [
    "##### Take PMC id from json file \n",
    "search_list = json.load(open('..\\\\data\\\\id.json'))\n",
    "full_pmc_list = os.listdir('..\\\\data\\\\pmc_nxml_all')\n"
   ]
  },
  {
   "cell_type": "code",
   "execution_count": null,
   "metadata": {},
   "outputs": [],
   "source": []
  }
 ],
 "metadata": {
  "kernelspec": {
   "display_name": "Python 3",
   "language": "python",
   "name": "python3"
  },
  "language_info": {
   "codemirror_mode": {
    "name": "ipython",
    "version": 3
   },
   "file_extension": ".py",
   "mimetype": "text/x-python",
   "name": "python",
   "nbconvert_exporter": "python",
   "pygments_lexer": "ipython3",
   "version": "3.6.1"
  }
 },
 "nbformat": 4,
 "nbformat_minor": 2
}
