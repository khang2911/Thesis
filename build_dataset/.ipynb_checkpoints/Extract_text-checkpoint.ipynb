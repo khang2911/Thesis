{
 "cells": [
  {
   "cell_type": "code",
   "execution_count": 1,
   "metadata": {},
   "outputs": [],
   "source": [
    "import pubmed_parser as pp\n",
    "import os\n",
    "import sys\n",
    "import json"
   ]
  },
  {
   "cell_type": "code",
   "execution_count": null,
   "metadata": {},
   "outputs": [],
   "source": [
    "###### Set up input and output directory\n",
    "#IDlist = json.load(open('..\\\\data\\\\id.json'))\n",
    "#full_pmc_list = os.listdir('..\\\\data\\\\pmc_nxml_all')\n",
    "#outdir = '..\\\\data\\\\preprocessing\\\\text_extract'\n",
    "full_pmc_list = os.listdir('C:/Users/KHANG/thesis/Thesis/data/pmc_nxml_all/')\n",
    "outdir = 'H:/data/full_PMC/'"
   ]
  },
  {
   "cell_type": "code",
   "execution_count": 9,
   "metadata": {},
   "outputs": [
    {
     "data": {
      "text/plain": [
       "'100325'"
      ]
     },
     "execution_count": 9,
     "metadata": {},
     "output_type": "execute_result"
    }
   ],
   "source": [
    "full_pmc_list[5].split('.')[0][3:]"
   ]
  },
  {
   "cell_type": "code",
   "execution_count": 9,
   "metadata": {},
   "outputs": [],
   "source": [
    "######\n",
    "files = []\n",
    "ids  = []\n",
    "for each in full_pmc_list :\n",
    "    ids.append(each[3:-5])\n",
    "######\n",
    "IDlist = list(set(IDlist).intersection(ids))"
   ]
  },
  {
   "cell_type": "code",
   "execution_count": 11,
   "metadata": {},
   "outputs": [
    {
     "ename": "KeyboardInterrupt",
     "evalue": "",
     "output_type": "error",
     "traceback": [
      "\u001b[1;31m---------------------------------------------------------------------------\u001b[0m",
      "\u001b[1;31mKeyboardInterrupt\u001b[0m                         Traceback (most recent call last)",
      "\u001b[1;32m<ipython-input-11-a8eb487d9a44>\u001b[0m in \u001b[0;36m<module>\u001b[1;34m()\u001b[0m\n\u001b[0;32m     10\u001b[0m     \u001b[0mID\u001b[0m \u001b[1;33m=\u001b[0m \u001b[0mfile\u001b[0m\u001b[1;33m.\u001b[0m\u001b[0msplit\u001b[0m\u001b[1;33m(\u001b[0m\u001b[1;34m'.'\u001b[0m\u001b[1;33m)\u001b[0m\u001b[1;33m[\u001b[0m\u001b[1;36m0\u001b[0m\u001b[1;33m]\u001b[0m\u001b[1;33m[\u001b[0m\u001b[1;36m3\u001b[0m\u001b[1;33m:\u001b[0m\u001b[1;33m]\u001b[0m\u001b[1;33m\u001b[0m\u001b[0m\n\u001b[0;32m     11\u001b[0m     \u001b[0mtext\u001b[0m \u001b[1;33m=\u001b[0m \u001b[1;34m''\u001b[0m\u001b[1;33m\u001b[0m\u001b[0m\n\u001b[1;32m---> 12\u001b[1;33m     \u001b[0mcontent_dict\u001b[0m \u001b[1;33m=\u001b[0m \u001b[0mpp\u001b[0m\u001b[1;33m.\u001b[0m\u001b[0mparse_pubmed_paragraph\u001b[0m\u001b[1;33m(\u001b[0m\u001b[0mnxmlpath\u001b[0m\u001b[1;33m,\u001b[0m \u001b[0mall_paragraph\u001b[0m\u001b[1;33m=\u001b[0m\u001b[1;32mFalse\u001b[0m\u001b[1;33m)\u001b[0m\u001b[1;33m\u001b[0m\u001b[0m\n\u001b[0m\u001b[0;32m     13\u001b[0m     \u001b[1;32mfor\u001b[0m \u001b[0msection\u001b[0m \u001b[1;32min\u001b[0m \u001b[0mcontent_dict\u001b[0m \u001b[1;33m:\u001b[0m\u001b[1;33m\u001b[0m\u001b[0m\n\u001b[0;32m     14\u001b[0m         \u001b[0mtext\u001b[0m\u001b[1;33m+=\u001b[0m \u001b[0msection\u001b[0m\u001b[1;33m[\u001b[0m\u001b[1;34m'text'\u001b[0m\u001b[1;33m]\u001b[0m\u001b[1;33m\u001b[0m\u001b[0m\n",
      "\u001b[1;32mI:\\anaconda1\\pubmed_parser\\pubmed_oa_parser.py\u001b[0m in \u001b[0;36mparse_pubmed_paragraph\u001b[1;34m(path, all_paragraph)\u001b[0m\n\u001b[0;32m    255\u001b[0m     \u001b[0mpmc\u001b[0m \u001b[1;33m=\u001b[0m \u001b[0mdict_article_meta\u001b[0m\u001b[1;33m[\u001b[0m\u001b[1;34m'pmc'\u001b[0m\u001b[1;33m]\u001b[0m\u001b[1;33m\u001b[0m\u001b[0m\n\u001b[0;32m    256\u001b[0m \u001b[1;33m\u001b[0m\u001b[0m\n\u001b[1;32m--> 257\u001b[1;33m     \u001b[0mparagraphs\u001b[0m \u001b[1;33m=\u001b[0m \u001b[0mtree\u001b[0m\u001b[1;33m.\u001b[0m\u001b[0mxpath\u001b[0m\u001b[1;33m(\u001b[0m\u001b[1;34m'//body//p'\u001b[0m\u001b[1;33m)\u001b[0m\u001b[1;33m\u001b[0m\u001b[0m\n\u001b[0m\u001b[0;32m    258\u001b[0m     \u001b[0mdict_pars\u001b[0m \u001b[1;33m=\u001b[0m \u001b[0mlist\u001b[0m\u001b[1;33m(\u001b[0m\u001b[1;33m)\u001b[0m\u001b[1;33m\u001b[0m\u001b[0m\n\u001b[0;32m    259\u001b[0m     \u001b[1;32mfor\u001b[0m \u001b[0mparagraph\u001b[0m \u001b[1;32min\u001b[0m \u001b[0mparagraphs\u001b[0m\u001b[1;33m:\u001b[0m\u001b[1;33m\u001b[0m\u001b[0m\n",
      "\u001b[1;31mKeyboardInterrupt\u001b[0m: "
     ]
    }
   ],
   "source": [
    "##### Extract text from nxml file for each ID\n",
    "faillist = []\n",
    "contentdict = {}\n",
    "count = 0\n",
    "check = 0\n",
    "#for ID in IDlist :\n",
    "    #nxmlpath = '..\\\\data\\\\pmc_nxml_all\\\\PMC%s.nxml'%ID\n",
    "for file in full_pmc_list :\n",
    "    nxmlpath = 'C:/Users/KHANG/thesis/Thesis/data/pmc_nxml_all\\\\%s'%file\n",
    "    ID = file.split('.')[0][3:]\n",
    "    text = ''\n",
    "    content_dict = pp.parse_pubmed_paragraph(nxmlpath, all_paragraph=False)\n",
    "    for section in content_dict :\n",
    "        text+= section['text']\n",
    "    if text != '' :\n",
    "        contentdict[ID] = text\n",
    "        count+=1\n",
    "    else :\n",
    "        faillist.append(ID)\n",
    "    if count % 1000 == 0 and count != 0 :\n",
    "        print(count)\n",
    "        #####\n",
    "        outfile = open(os.path.join(outdir,os.path.basename('text_extract_%s.json'%str(check))),'w')\n",
    "        outfile.write(json.dumps(contentdict))  \n",
    "        outfile.close()\n",
    "        check+=1\n",
    "        contentdict = {}\n",
    "    #####\n",
    "    #count+=1\n",
    "######\n",
    "check+=1\n",
    "outfile = open(os.path.join(outdir,os.path.basename('text_extract_%s.json'%str(check))),'w')\n",
    "outfile.write(json.dumps(contentdict))  \n",
    "outfile.close()"
   ]
  },
  {
   "cell_type": "code",
   "execution_count": null,
   "metadata": {},
   "outputs": [],
   "source": []
  },
  {
   "cell_type": "code",
   "execution_count": null,
   "metadata": {},
   "outputs": [],
   "source": []
  },
  {
   "cell_type": "code",
   "execution_count": null,
   "metadata": {},
   "outputs": [],
   "source": []
  }
 ],
 "metadata": {
  "kernelspec": {
   "display_name": "Python 3",
   "language": "python",
   "name": "python3"
  },
  "language_info": {
   "codemirror_mode": {
    "name": "ipython",
    "version": 3
   },
   "file_extension": ".py",
   "mimetype": "text/x-python",
   "name": "python",
   "nbconvert_exporter": "python",
   "pygments_lexer": "ipython3",
   "version": "3.6.1"
  }
 },
 "nbformat": 4,
 "nbformat_minor": 2
}
