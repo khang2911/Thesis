{
 "cells": [
  {
   "cell_type": "code",
   "execution_count": 26,
   "metadata": {},
   "outputs": [],
   "source": [
    "from bs4 import BeautifulSoup\n",
    "import requests\n",
    "import json\n",
    "import os\n",
    "import sys"
   ]
  },
  {
   "cell_type": "code",
   "execution_count": 73,
   "metadata": {},
   "outputs": [],
   "source": [
    "##### set up for output file - json file contain PMC id\n",
    "outdir =  '..\\\\data'\n",
    "outfile = open(os.path.join(outdir,os.path.basename('id.json')),'w')"
   ]
  },
  {
   "cell_type": "code",
   "execution_count": 69,
   "metadata": {},
   "outputs": [],
   "source": [
    "##### Open access list\n",
    "open_access_id = open('..\\\\data\\\\open_pmcid.csv').read().split('\\n')[:-1]\n",
    "open_list = []\n",
    "for row in open_access_id[1:]:\n",
    "    open_list.append(row.split(',')[2][3:])"
   ]
  },
  {
   "cell_type": "code",
   "execution_count": 72,
   "metadata": {},
   "outputs": [],
   "source": [
    "##### Search PMC ID from E-utilities by key word\n",
    "\n",
    "keywordlist = ['herb+drug','herb+drug+adverse+interaction','herbal+medicine+adverse+effect','herb+drug+adverse+effect',\n",
    "               'herb+medicine+adverse+interaction','herb+medicine+side+effect','herb+drug+side+effect',\n",
    "               'herbal+medicine+adverse+report','traditional+medicine+adverse','chinese+herbal+medicine+adverse+effect',\n",
    "               'Traditional+Chinese+Medicine+adverse+effect'+'herbal+traditional+medicine+side+effect'+\n",
    "              'traditional+medicine+interaction+drug'+'traditional+medicine'+'herb+drug+interaction'+'Traditional+Chinese+Medicine'\n",
    "              'traditional+medicine','chinese+herbal+medicine','traditional+medicine','herbal+medicine+report']\n",
    "idlist = []\n",
    "for keyword in keywordlist :\n",
    "    retmax = 100000 ##### maximum ammount of ID in each search\n",
    "    ##### Get PMC ID from html\n",
    "    url = 'https://eutils.ncbi.nlm.nih.gov/entrez/eutils/esearch.fcgi?db=pmc&term=%s&retmax=%s'%(keyword,retmax)    \n",
    "    r = requests.get(url)\n",
    "    content = r.text.encode(\"utf-8\")\n",
    "    soup = BeautifulSoup(content,'html.parser')\n",
    "    ##### \n",
    "    for each in soup.findAll('id') :\n",
    "        idlist.append(each.text)"
   ]
  },
  {
   "cell_type": "code",
   "execution_count": 75,
   "metadata": {},
   "outputs": [],
   "source": [
    "##### Save PMC ID into json format\n",
    "idlist = list(set(open_list).intersection(idlist))\n",
    "outfile.write(json.dumps(idlist))\n",
    "outfile.close()"
   ]
  },
  {
   "cell_type": "code",
   "execution_count": null,
   "metadata": {},
   "outputs": [],
   "source": []
  }
 ],
 "metadata": {
  "kernelspec": {
   "display_name": "Python 3",
   "language": "python",
   "name": "python3"
  },
  "language_info": {
   "codemirror_mode": {
    "name": "ipython",
    "version": 3
   },
   "file_extension": ".py",
   "mimetype": "text/x-python",
   "name": "python",
   "nbconvert_exporter": "python",
   "pygments_lexer": "ipython3",
   "version": "3.6.4"
  }
 },
 "nbformat": 4,
 "nbformat_minor": 2
}
