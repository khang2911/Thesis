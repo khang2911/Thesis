{
 "cells": [
  {
   "cell_type": "code",
   "execution_count": 1,
   "metadata": {},
   "outputs": [
    {
     "name": "stderr",
     "output_type": "stream",
     "text": [
      "I:\\anaconda1\\lib\\site-packages\\gensim\\utils.py:1197: UserWarning: detected Windows; aliasing chunkize to chunkize_serial\n",
      "  warnings.warn(\"detected Windows; aliasing chunkize to chunkize_serial\")\n"
     ]
    }
   ],
   "source": [
    "import os\n",
    "import sys\n",
    "import json\n",
    "from sklearn.metrics import confusion_matrix\n",
    "import matplotlib.pyplot as plt\n",
    "import numpy as np\n",
    "import itertools\n",
    "from sklearn.metrics import accuracy_score\n",
    "from gensim.models import Word2Vec\n",
    "import time"
   ]
  },
  {
   "cell_type": "code",
   "execution_count": 2,
   "metadata": {},
   "outputs": [],
   "source": [
    "def plot_confusion_matrix(cm, classes,\n",
    "                          normalize=False,\n",
    "                          title='Confusion matrix',\n",
    "                          cmap=plt.cm.Blues):\n",
    "    \"\"\"\n",
    "    This function prints and plots the confusion matrix.\n",
    "    Normalization can be applied by setting `normalize=True`.\n",
    "    \"\"\"\n",
    "    if normalize:\n",
    "        cm = cm.astype('float') / cm.sum(axis=1)[:, np.newaxis]\n",
    "        print(\"Normalized confusion matrix\")\n",
    "    else:\n",
    "        print('Confusion matrix, without normalization')\n",
    "\n",
    "    print(cm)\n",
    "\n",
    "    plt.imshow(cm, interpolation='nearest', cmap=cmap)\n",
    "    plt.title(title)\n",
    "    plt.colorbar()\n",
    "    tick_marks = np.arange(len(classes))\n",
    "    plt.xticks(tick_marks, classes, rotation=45)\n",
    "    plt.yticks(tick_marks, classes)\n",
    "\n",
    "    fmt = '.2f' if normalize else 'd'\n",
    "    thresh = cm.max() / 2.\n",
    "    for i, j in itertools.product(range(cm.shape[0]), range(cm.shape[1])):\n",
    "        plt.text(j, i, format(cm[i, j], fmt),\n",
    "                 horizontalalignment=\"center\",\n",
    "                 color=\"white\" if cm[i, j] > thresh else \"black\")\n",
    "\n",
    "    plt.tight_layout()\n",
    "    plt.ylabel('True label')\n",
    "    plt.xlabel('Predicted label')\n",
    "    \n",
    "    \n",
    "''''''\n",
    "''''''\n",
    "\n",
    "def cm2pr_binary(cm):\n",
    "    p = cm[0,0]/np.sum(cm[:,0])\n",
    "    r = cm[0,0]/np.sum(cm[0])\n",
    "    return (p, r)\n",
    "\n",
    "''''''\n",
    "''''''\n",
    "def PR(tp, fp, fn):\n",
    "    P = float(tp)/(tp + fp)\n",
    "    R = float(tp)/(tp + fn)\n",
    "    return (P, R)"
   ]
  },
  {
   "cell_type": "code",
   "execution_count": 4,
   "metadata": {},
   "outputs": [],
   "source": [
    "###### Import ref without effect\n",
    "ref = json.load(open('..//data/preprocessing/standard_ref/standard_ref_without_effect.json'))\n",
    "entity = open('..//data/clean_data/entity_replaced.csv').read().split('\\n')[:-1]"
   ]
  },
  {
   "cell_type": "code",
   "execution_count": 5,
   "metadata": {},
   "outputs": [],
   "source": [
    "###### Entity dict \n",
    "entity_dict = {}\n",
    "for row in entity :\n",
    "    entity_dict[row.split('\\t')[1]] = row.split('\\t')[0]"
   ]
  },
  {
   "cell_type": "code",
   "execution_count": 6,
   "metadata": {},
   "outputs": [],
   "source": [
    "###### Ref pair drug - herb\n",
    "drug_herb_dict = {}\n",
    "for herb in ref :\n",
    "    for drug in ref[herb] :\n",
    "        try :\n",
    "            if entity_dict[drug] not in drug_herb_dict :\n",
    "                drug_herb_dict[entity_dict[drug]] = [entity_dict[herb]]\n",
    "            else :\n",
    "                drug_herb_dict[entity_dict[drug]].append(entity_dict[herb])\n",
    "        except :\n",
    "            pass"
   ]
  },
  {
   "cell_type": "code",
   "execution_count": 7,
   "metadata": {},
   "outputs": [],
   "source": [
    "###### Ref pair herb - drug \n",
    "herb_drug_dict = {}\n",
    "for herb in ref :\n",
    "    for drug in ref[herb] :\n",
    "        try :\n",
    "            if entity_dict[herb] not in herb_drug_dict :\n",
    "                herb_drug_dict[entity_dict[herb]] = [entity_dict[drug]]\n",
    "            else :\n",
    "                herb_drug_dict[entity_dict[herb]].append(entity_dict[drug])\n",
    "        except :\n",
    "            pass"
   ]
  },
  {
   "cell_type": "code",
   "execution_count": 154,
   "metadata": {},
   "outputs": [
    {
     "name": "stdout",
     "output_type": "stream",
     "text": [
      "100\n",
      "0.427491710858\n",
      "0.4929906542056075 - 0.004672897196261682 - 0.0 - 0.49061032863849763\n",
      "0.5070093457943925 - 0.5093896713615024 - 0.5081967213114754 \n",
      "200\n",
      "0.487604204096\n",
      "0.49038461538461536 - 0.019230769230769232 - 0.0 - 0.4803921568627451\n",
      "0.5096153846153846 - 0.5196078431372549 - 0.5145631067961166 \n",
      "250\n",
      "0.501467606906\n",
      "0.5185185185185185 - 0.037037037037037035 - 0.0 - 0.5\n",
      "0.48148148148148145 - 0.5 - 0.49056603773584906 \n",
      "300\n",
      "0.506210188903\n",
      "0.5185185185185185 - 0.037037037037037035 - 0.0 - 0.5\n",
      "0.48148148148148145 - 0.5 - 0.49056603773584906 \n",
      "350\n",
      "0.506352474251\n",
      "0.5476190476190477 - 0.09523809523809523 - 0.0 - 0.5\n",
      "0.4523809523809524 - 0.5 - 0.47500000000000003 \n",
      "400\n",
      "0.50899805263\n",
      "0.6818181818181818 - 0.36363636363636365 - 0.0 - 0.5\n",
      "0.3181818181818182 - 0.5 - 0.3888888888888889 \n"
     ]
    },
    {
     "data": {
      "image/png": "[encoded data removed]",
      "text/plain": [
       "<Figure size 432x288 with 1 Axes>"
      ]
     },
     "metadata": {},
     "output_type": "display_data"
    }
   ],
   "source": [
    "###### Import model\n",
    "#coor_y = {'ERR':[],'und':[],'over':[],'sub':[],'precis':[],'recal':[],'F':[]}\n",
    "coor_y = {'ERR':[],'precis':[],'recal':[],'F':[]}\n",
    "coor_x = []\n",
    "for size in os.listdir('..//data/model/only_entity/') :\n",
    "    path = '..//data/model/only_entity/%s/model'%size\n",
    "    model = Word2Vec.load(path)\n",
    "    ###### Root mean square\n",
    "    total = 0\n",
    "    N = 0\n",
    "    for herb in herb_drug_dict :\n",
    "        for drug in herb_drug_dict[herb] :\n",
    "            try :\n",
    "                offset = 1 - model.wv.similarity(herb, drug)\n",
    "                total+= offset**2\n",
    "                N+=1\n",
    "            except :\n",
    "                pass\n",
    "    print(size)\n",
    "    print(total / N)\n",
    "    ######\n",
    "    coor_y = evaluate(model,herb_drug_dict,drug_herb_dict,coor_y)\n",
    "    coor_x.append(size)\n",
    "    #true,predict = evaluate(model,herb_drug_dict,drug_herb_dict)\n",
    "    #cf_as(true,predict)\n",
    "\n",
    "######## Plot\n",
    "for key in coor_y :\n",
    "    lines = plt.plot(coor_x,coor_y[key],'o',label = key)\n",
    "    #plt.setp(lines, linewidth=2.0)\n",
    "    \n",
    "plt.legend(loc='best', ncol=2)\n",
    "plt.show()"
   ]
  },
  {
   "cell_type": "code",
   "execution_count": 152,
   "metadata": {},
   "outputs": [],
   "source": [
    "def evaluate(model,herb_drug_dict,drug_herb_dict,coor_y) :    \n",
    "    ###### Testing by herb\n",
    "    ######\n",
    "    predict = []\n",
    "    true = []\n",
    "    classes_name = []\n",
    "    success = 0\n",
    "    fail = 0\n",
    "    ######\n",
    "    cor = 0\n",
    "    par = 0\n",
    "    inc = 0\n",
    "    spu = 0\n",
    "    mis = 0\n",
    "    ######\n",
    "    for herb in herb_drug_dict :\n",
    "        try :\n",
    "            #top = model.wv.similar_by_word(herb,topn=50000)\n",
    "            top = model.wv.most_similar(positive=[herb,'trigger_entity'], topn = 100000)\n",
    "            top_drug = []\n",
    "            for each in top :\n",
    "                if each[0][:11] == 'drug_entity' and each[1] > 0.6 :\n",
    "                    top_drug.append(each[0])\n",
    "                #elif each[0][:11] != 'drug_entity' and each[1] > 0.6 :\n",
    "                    #inc+=1\n",
    "            if top_drug == [] :\n",
    "                mis+=1\n",
    "            for drug in herb_drug_dict[herb] :\n",
    "                classes_name.append(drug)\n",
    "                for each in top_drug :\n",
    "                    if each == drug :\n",
    "                        predict.append(each)\n",
    "                        true.append(drug)\n",
    "                        classes_name.append(each)\n",
    "                        success+=1\n",
    "                        #######\n",
    "                        cor+=1\n",
    "                        #######\n",
    "                        break\n",
    "                    elif each != drug and each in drug_herb_dict :\n",
    "                        predict.append(each)\n",
    "                        true.append(drug)\n",
    "                        classes_name.append(each)\n",
    "                        fail+=1\n",
    "                        #######\n",
    "                        par+=1\n",
    "                    #elif each != drug and each not in drug_herb_dict :\n",
    "                        #spu+=1\n",
    "        except :\n",
    "            #spu+=1\n",
    "            mis+=1\n",
    "            pass\n",
    "\n",
    "\n",
    "    classes_name = list(set(classes_name)) \n",
    "    ########\n",
    "    errors = []\n",
    "    for each in predict :\n",
    "        if each not in true :\n",
    "            errors.append(each)\n",
    "    for error in errors :\n",
    "        ind = predict.index(error)\n",
    "        predict.pop(ind)\n",
    "        true.pop(ind)\n",
    "    #######\n",
    "    \n",
    "    #######\n",
    "    ERR = (inc + float(par)/2 + mis + spu) / (cor + par + inc + mis +spu)\n",
    "    und = float(mis) / (cor + par + inc + mis  )\n",
    "    over = float(spu) / ( cor + par + inc + spu )\n",
    "    sub = (inc + float(par)/2 ) / (cor + par + inc)\n",
    "    \n",
    "    #######\n",
    "    recal = (cor + par*0.5 ) / (cor + par + inc + mis  )\n",
    "    precis = (cor + par*0.5 ) / ( cor + par + inc + spu )\n",
    "    \n",
    "    #######\n",
    "    F = 2*(precis*recal) / (precis + recal)\n",
    "    \n",
    "    #######\n",
    "    print('%s - %s - %s - %s'%(ERR,und,over,sub))\n",
    "    print('%s - %s - %s '%(recal,precis,F))\n",
    "    \n",
    "    ####### Plot\n",
    "    coor_y['ERR'].append(ERR)\n",
    "    #coor_y['und'].append(und)\n",
    "    #coor_y['over'].append(over)\n",
    "    #coor_y['sub'].append(sub)\n",
    "    coor_y['precis'].append(precis)\n",
    "    coor_y['recal'].append(recal)\n",
    "    coor_y['F'].append(F)\n",
    "    #######\n",
    "    return coor_y\n",
    "    \n",
    "    #######\n",
    "    true = np.array(true)\n",
    "    predict = np.array(predict)\n",
    "    #return true , predict\n",
    "    "
   ]
  },
  {
   "cell_type": "code",
   "execution_count": 60,
   "metadata": {},
   "outputs": [
    {
     "name": "stdout",
     "output_type": "stream",
     "text": [
      "1\n",
      "0.6818181818181818 - 0.3 - 0.125 - 0.5\n",
      "0.35 - 0.4375 \n",
      "0.38888888888888884\n"
     ]
    }
   ],
   "source": [
    "evaluate(model,herb_drug_dict,drug_herb_dict)"
   ]
  },
  {
   "cell_type": "code",
   "execution_count": 47,
   "metadata": {},
   "outputs": [],
   "source": [
    "def cf_as(true,predict) :\n",
    "    ###### Confusion Matrix\n",
    "    cnf_matrix = confusion_matrix(true,predict)\n",
    "    np.set_printoptions(precision=2)\n",
    "    plt.figure()\n",
    "    plot_confusion_matrix(cnf_matrix, [] , normalize= False ,title='Confusion matrix without normalization')\n",
    "    plt.show()\n",
    "    ###### Accuracy score\n",
    "    print(len(cnf_matrix))\n",
    "    print('accuracy = ',accuracy_score(true,predict))"
   ]
  },
  {
   "cell_type": "code",
   "execution_count": 23,
   "metadata": {
    "scrolled": true
   },
   "outputs": [
    {
     "name": "stdout",
     "output_type": "stream",
     "text": [
      "accuracy =  0.153846153846\n"
     ]
    }
   ],
   "source": [
    "###### Accuracy score\n",
    "print('accuracy = ',accuracy_score(true,predict))"
   ]
  },
  {
   "cell_type": "code",
   "execution_count": 75,
   "metadata": {},
   "outputs": [
    {
     "data": {
      "image/png": "[encoded data removed]",
      "text/plain": [
       "<Figure size 432x288 with 1 Axes>"
      ]
     },
     "metadata": {},
     "output_type": "display_data"
    }
   ],
   "source": [
    "plt.plot([1,2,3,4], [1,4,9,16],'o' )\n",
    "plt.plot([2,3,4,5],[2,3,6,8], 'o')\n",
    "plt.axis([0, 6, 0, 20])\n",
    "plt.show()"
   ]
  },
  {
   "cell_type": "code",
   "execution_count": 126,
   "metadata": {},
   "outputs": [
    {
     "data": {
      "image/png": "[encoded data removed]",
      "text/plain": [
       "<Figure size 432x288 with 1 Axes>"
      ]
     },
     "metadata": {},
     "output_type": "display_data"
    }
   ],
   "source": [
    "plt.plot(coor_x,coor_y['ERR'],'o',linewidth=2.0)\n",
    "#plt.plot(coor_x,coor_y['und'],'o')\n",
    "#plt.plot(coor_x,coor_y['over'],'o')\n",
    "#plt.plot(coor_x,coor_y['sub'],'o')\n",
    "plt.plot(coor_x,coor_y['precis'],'o')\n",
    "plt.plot(coor_x,coor_y['recal'],'o')\n",
    "plt.plot(coor_x,coor_y['F'],'o')\n",
    "#plt.axis([100, 400, 0 , 1])\n",
    "plt.show()"
   ]
  },
  {
   "cell_type": "code",
   "execution_count": 148,
   "metadata": {},
   "outputs": [
    {
     "data": {
      "image/png": "[encoded data removed]",
      "text/plain": [
       "<Figure size 432x288 with 1 Axes>"
      ]
     },
     "metadata": {},
     "output_type": "display_data"
    }
   ],
   "source": [
    "#fig, ax = plt.subplots(1)\n",
    "plt.plot(coor_x , coor_y['ERR'] , label = '$ERR$')\n",
    "plt.xlabel('size', fontsize=14, color='red')\n",
    "plt.ylabel('asdasd', fontsize=14, color='red')\n",
    "plt.legend(loc='best', ncol=2)\n",
    "#plt.setp(lines, linewidth=2.0 , label = '$ERR$')\n",
    "plt.show()"
   ]
  },
  {
   "cell_type": "code",
   "execution_count": 145,
   "metadata": {},
   "outputs": [
    {
     "data": {
      "image/png": "[encoded data removed]",
      "text/plain": [
       "<Figure size 432x288 with 1 Axes>"
      ]
     },
     "metadata": {},
     "output_type": "display_data"
    }
   ],
   "source": [
    "def my_plot(t):\n",
    "    fig, ax = plt.subplots(1)\n",
    "    ax.plot(t, t, label='$t$')\n",
    "    ax.plot(t, t**2, label='$t^2$')\n",
    "    ax.plot(t, t**3, label='$t^3$')\n",
    "    ax.plot(t, t**4, label='$t^4$')\n",
    "    ax.plot(t, np.log(1+t), label='$\\ln(1+t)$')\n",
    "    ax.plot(t, t**(1./2), label='$t^{1/2}$')\n",
    "    ax.plot(t, t**(1./3), label='$t^{1/3}$')\n",
    "\n",
    "    ax.set_xlabel('$t$')\n",
    "    ax.set_ylabel('$f(t)$')\n",
    "    ax.legend(loc='best', ncol=2)\n",
    "    plt.show()\n",
    "    #fig.tight_layout(pad=0.1)\n",
    "    #fig.savefig('matplotlib-raw')\n",
    "\n",
    "t = np.arange(0, 1.0+0.01, 0.01)\n",
    "my_plot(t)\n",
    "plt.close('all')"
   ]
  },
  {
   "cell_type": "code",
   "execution_count": null,
   "metadata": {},
   "outputs": [],
   "source": []
  }
 ],
 "metadata": {
  "kernelspec": {
   "display_name": "Python 3",
   "language": "python",
   "name": "python3"
  },
  "language_info": {
   "codemirror_mode": {
    "name": "ipython",
    "version": 3
   },
   "file_extension": ".py",
   "mimetype": "text/x-python",
   "name": "python",
   "nbconvert_exporter": "python",
   "pygments_lexer": "ipython3",
   "version": "3.6.1"
  }
 },
 "nbformat": 4,
 "nbformat_minor": 2
}
