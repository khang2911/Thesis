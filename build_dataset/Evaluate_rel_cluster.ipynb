{
 "cells": [
  {
   "cell_type": "code",
   "execution_count": 26,
   "metadata": {},
   "outputs": [
    {
     "name": "stderr",
     "output_type": "stream",
     "text": [
      "I:\\anaconda1\\lib\\site-packages\\gensim\\utils.py:1197: UserWarning: detected Windows; aliasing chunkize to chunkize_serial\n",
      "  warnings.warn(\"detected Windows; aliasing chunkize to chunkize_serial\")\n"
     ]
    }
   ],
   "source": [
    "import os\n",
    "import sys\n",
    "import json\n",
    "import time\n",
    "import numpy as np\n",
    "from sklearn.cluster import KMeans\n",
    "from gensim.models import Word2Vec\n"
   ]
  },
  {
   "cell_type": "code",
   "execution_count": null,
   "metadata": {},
   "outputs": [],
   "source": []
  },
  {
   "cell_type": "code",
   "execution_count": 2,
   "metadata": {},
   "outputs": [],
   "source": [
    "n_cluster = 10\n",
    "X = np.load('../data/PCA/sen_vector_PCA.npy')\n",
    "kmeans = KMeans(n_clusters=n_cluster).fit(X)\n",
    "pred_label = kmeans.predict(X)"
   ]
  },
  {
   "cell_type": "code",
   "execution_count": 27,
   "metadata": {},
   "outputs": [],
   "source": [
    "#####\n",
    "ref = json.load(open('../data/preprocessing/standard_ref/standard_ref_without_effect.json'))\n",
    "\n",
    "sentences = json.load(open('../data/feature_extraction/entity_pair_sentences.json'))\n",
    "\n",
    "entity_names = open('../data/clean_data/entity_total.csv',encoding='utf8').read().split('\\n')[:-1]\n",
    "\n",
    "#####\n",
    "path = '../data/model/noun_verb/300/model'\n",
    "model = Word2Vec.load(path)\n",
    "voca = list(model.wv.vocab)\n",
    "model = ''\n"
   ]
  },
  {
   "cell_type": "code",
   "execution_count": 20,
   "metadata": {},
   "outputs": [],
   "source": [
    "entity_dict = {}\n",
    "for row in entity_names :\n",
    "    entity_dict[row.split('\\t')[1]] = row.split('\\t')[0]"
   ]
  },
  {
   "cell_type": "code",
   "execution_count": 15,
   "metadata": {},
   "outputs": [
    {
     "data": {
      "text/plain": [
       "{'alfalfa': ['warfarin'],\n",
       " 'aloe vera': ['digoxin'],\n",
       " 'andrographis paniculata': ['theophylline'],\n",
       " 'baicalin': ['rosuvastatin'],\n",
       " 'bitter orange': ['phenelzine'],\n",
       " 'black cohosh': ['midazolam',\n",
       "  'caffeine',\n",
       "  'chlorzoxazone',\n",
       "  'debrisoquine',\n",
       "  'digoxin',\n",
       "  'daclizumab'],\n",
       " 'citrus aurantium': ['midazolam', 'caffeine', 'chlorzoxazone', 'debrisoquin'],\n",
       " 'cowhage': ['methyldopa'],\n",
       " 'cranberry': ['warfarin'],\n",
       " 'danshen': ['aspirin', 'ticlopidine', 'warfarin', 'digoxin'],\n",
       " 'digitalis': ['bendroflumethiazide',\n",
       "  'chlorothiazide',\n",
       "  'chlorthalidone',\n",
       "  'hydrochlorothiazide',\n",
       "  'hydroflumethiazide',\n",
       "  'indapamide',\n",
       "  'methyclothiazide',\n",
       "  'metolazone',\n",
       "  'polythiazide',\n",
       "  'trichlormethiazide',\n",
       "  'digoxin'],\n",
       " 'dong quai': ['aspirin',\n",
       "  'heparin',\n",
       "  'ticlopidine',\n",
       "  'warfarin',\n",
       "  'aminolevulinic acid',\n",
       "  'methyl aminolevulinate'],\n",
       " 'echinacea purpurea': ['midazolam',\n",
       "  'caffeine',\n",
       "  'chlorzoxazone',\n",
       "  'debrisoquin',\n",
       "  'beclomethasone dipropionate',\n",
       "  'digoxin'],\n",
       " 'ephedra': ['caffeine', 'decongestants', 'stimulants'],\n",
       " 'evening primrose': ['warfarin'],\n",
       " 'evodia rutaecarpa': ['theophylline'],\n",
       " 'garlic': ['midazolam',\n",
       "  'caffeine',\n",
       "  'chlorzoxazone',\n",
       "  'debrisoquine',\n",
       "  'warfarin',\n",
       "  'ritonavir',\n",
       "  'saquinavir'],\n",
       " 'ginger': ['metronidazole', 'warfarin'],\n",
       " 'ginkgo biloba': ['aspirin',\n",
       "  'warfarin',\n",
       "  'coumadin',\n",
       "  'ticlopidine',\n",
       "  'ticlid',\n",
       "  'clopidogrel',\n",
       "  'plavix',\n",
       "  'dipyridamole',\n",
       "  'persantine',\n",
       "  'theophylline',\n",
       "  'omeprazole',\n",
       "  'nifedipine',\n",
       "  'midazolam',\n",
       "  'caffeine',\n",
       "  'chlorzoxazone',\n",
       "  'debrisoquine',\n",
       "  'cilostazol',\n",
       "  'heparin',\n",
       "  'ibuprofen',\n",
       "  'naproxen',\n",
       "  'risperidone',\n",
       "  'trazodone'],\n",
       " 'goldenseal': ['midazolam',\n",
       "  'caffeine',\n",
       "  'chlorzoxazone',\n",
       "  'debrisoquine',\n",
       "  'digoxin'],\n",
       " 'green tea': ['ephedrine', 'bortezomib', 'aspirin'],\n",
       " 'guarana': ['ephedrine'],\n",
       " 'hawthorn': ['digoxin'],\n",
       " 'henbane': ['chlorpheniramine',\n",
       "  'clemastine',\n",
       "  'dimenhydrinate',\n",
       "  'diphenhydramine',\n",
       "  'doxylamine',\n",
       "  'promethazine'],\n",
       " 'kava': ['sedatives',\n",
       "  'sleeping pills',\n",
       "  'antipsychotics',\n",
       "  'alcohol',\n",
       "  'midazolam',\n",
       "  'caffeine',\n",
       "  'chlorzoxazone',\n",
       "  'debrisoquine',\n",
       "  'digoxin',\n",
       "  'alprazolam',\n",
       "  'chlordiazepoxide',\n",
       "  'clonazepam',\n",
       "  'diazepam',\n",
       "  'estazolam',\n",
       "  'flurazepam',\n",
       "  'orazepam',\n",
       "  'morphine',\n",
       "  'oxazepam',\n",
       "  'henobarbital',\n",
       "  'quazepam',\n",
       "  'temazepam',\n",
       "  'triazolam',\n",
       "  'droperidol',\n",
       "  'daclizumab'],\n",
       " 'licorice': ['warfarin'],\n",
       " 'milk thistle': ['midazolam',\n",
       "  'caffeine',\n",
       "  'chlorzoxazone',\n",
       "  'debrisoquin',\n",
       "  'digoxin',\n",
       "  'debrisoquine'],\n",
       " 'panax ginseng': ['midazolam',\n",
       "  'caffeine',\n",
       "  'chlorzoxazone',\n",
       "  'debrisoquine',\n",
       "  'warfarin'],\n",
       " 'saw palmetto': ['midazolam', 'caffeine', 'chlorzoxazone', 'debrisoquin'],\n",
       " 'scotch broom': ['haloperido', 'phenelzine'],\n",
       " 'st johns wort': ['antidepressants',\n",
       "  'cyclosporine',\n",
       "  'fexofenadine',\n",
       "  'midazolam',\n",
       "  'caffeine',\n",
       "  'chlorzoxazone',\n",
       "  'debrisoquine',\n",
       "  'warfarin',\n",
       "  'digoxin',\n",
       "  'oxycodone',\n",
       "  'amiodarone',\n",
       "  'alprazolam',\n",
       "  'benzodiazepine',\n",
       "  'clonazepam',\n",
       "  'diazepam',\n",
       "  'triazolam',\n",
       "  'bupropion',\n",
       "  'buspirone',\n",
       "  'eletriptan',\n",
       "  'meperidine',\n",
       "  'trazodone',\n",
       "  'isocarboxazid',\n",
       "  'phenelzine',\n",
       "  'tranylcypromine',\n",
       "  'citalopram',\n",
       "  'duloxetine',\n",
       "  'fluoxetine',\n",
       "  'fluvoxamine',\n",
       "  'nefazodone',\n",
       "  'paroxetine',\n",
       "  'sertraline',\n",
       "  'venlafaxine',\n",
       "  'amitriptyline',\n",
       "  'amoxapine',\n",
       "  'clomipramine',\n",
       "  'desipramine',\n",
       "  'doxepin',\n",
       "  'imipramine',\n",
       "  'nortriptyline',\n",
       "  'protriptyline',\n",
       "  'trimipramine',\n",
       "  'busulfan',\n",
       "  'diltiazem',\n",
       "  'felodipine',\n",
       "  'nicardipine',\n",
       "  'nifedipine',\n",
       "  'nitrendipine',\n",
       "  'verapamil',\n",
       "  'carbamazepine',\n",
       "  'cyclophosphamide',\n",
       "  'cyclosporin',\n",
       "  'dapsone',\n",
       "  'dexamethasone',\n",
       "  'docetaxel',\n",
       "  'dolasetron',\n",
       "  'doxorubicin',\n",
       "  'erlotinib',\n",
       "  'erythromycin',\n",
       "  'estradiol',\n",
       "  'gestodene',\n",
       "  'levonorgestrel',\n",
       "  'norethindrone',\n",
       "  'etoposide',\n",
       "  'exemestane',\n",
       "  'fentanyl',\n",
       "  'morphine',\n",
       "  'finasteride',\n",
       "  'flutamide',\n",
       "  'gliclazide',\n",
       "  'haloperidol',\n",
       "  'ifosfamide',\n",
       "  'imatinib',\n",
       "  'irinotecan',\n",
       "  'ivabradine',\n",
       "  'ixabepilone',\n",
       "  'lapatinib',\n",
       "  'lidocaine',\n",
       "  'loperamide',\n",
       "  'maraviroc',\n",
       "  'mephenytoin',\n",
       "  'methadone',\n",
       "  'delavirdine',\n",
       "  'efavirenz',\n",
       "  'nevirapine',\n",
       "  'omeprazole',\n",
       "  'ondansetron',\n",
       "  'paclitaxel',\n",
       "  'phenprocoumon',\n",
       "  'phenytoin',\n",
       "  'piroxicam',\n",
       "  'rasagiline',\n",
       "  'risperidone',\n",
       "  'tetracycline',\n",
       "  'tolbutamide',\n",
       "  'tretinoin',\n",
       "  'propofol',\n",
       "  'sevoflurane',\n",
       "  'amprenavir',\n",
       "  'atazanavir',\n",
       "  'darunavir',\n",
       "  'fosamprenavir',\n",
       "  'indinavir',\n",
       "  'nelfinavir',\n",
       "  'ritonavir',\n",
       "  'saquinavir',\n",
       "  'tipranavir',\n",
       "  'quetiapine',\n",
       "  'quinidine',\n",
       "  'sildenafil',\n",
       "  'sirolimus',\n",
       "  'sunitinib',\n",
       "  'tacrolimus',\n",
       "  'tamoxifen',\n",
       "  'temsirolimus',\n",
       "  'teniposide',\n",
       "  'tramadol',\n",
       "  'vinblastin',\n",
       "  'vincristine',\n",
       "  'voriconazole',\n",
       "  'apixaban',\n",
       "  'cariprazine',\n",
       "  'roflumilast'],\n",
       " 'valerian': ['midazolam',\n",
       "  'caffeine',\n",
       "  'chlorzoxazone',\n",
       "  'debrisoquine',\n",
       "  'alfentanil'],\n",
       " 'willow bark': ['diclofenac',\n",
       "  'ibuprofen',\n",
       "  'naproxen',\n",
       "  'ticlopidine',\n",
       "  'warfarin']}"
      ]
     },
     "execution_count": 15,
     "metadata": {},
     "output_type": "execute_result"
    }
   ],
   "source": [
    "ref_"
   ]
  },
  {
   "cell_type": "code",
   "execution_count": 34,
   "metadata": {},
   "outputs": [],
   "source": [
    "ok = 0\n",
    "total = 0\n",
    "ref_pair = []\n",
    "for herb in ref :\n",
    "    for drug in ref[herb] :\n",
    "        if entity_dict[herb] in voca and entity_dict[drug] in voca :\n",
    "            ref_pair.append([entity_dict[drug],entity_dict[herb]])\n"
   ]
  },
  {
   "cell_type": "code",
   "execution_count": 32,
   "metadata": {},
   "outputs": [
    {
     "data": {
      "text/plain": [
       "143"
      ]
     },
     "execution_count": 32,
     "metadata": {},
     "output_type": "execute_result"
    }
   ],
   "source": [
    "ok"
   ]
  },
  {
   "cell_type": "code",
   "execution_count": 33,
   "metadata": {},
   "outputs": [
    {
     "data": {
      "text/plain": [
       "270"
      ]
     },
     "execution_count": 33,
     "metadata": {},
     "output_type": "execute_result"
    }
   ],
   "source": [
    "total"
   ]
  },
  {
   "cell_type": "code",
   "execution_count": 39,
   "metadata": {},
   "outputs": [
    {
     "name": "stdout",
     "output_type": "stream",
     "text": [
      "{2: 13, 0: 4, 9: 6}\n"
     ]
    }
   ],
   "source": [
    "count = 0\n",
    "result = {}\n",
    "for each in ref_pair :\n",
    "    if each in entity_pair :\n",
    "        group = pred_label[entity_pair.index(each)]\n",
    "        try :\n",
    "            result[group]+=1\n",
    "        except :\n",
    "            result[group] = 1\n",
    "print(result)"
   ]
  },
  {
   "cell_type": "code",
   "execution_count": 13,
   "metadata": {},
   "outputs": [],
   "source": [
    "entity_pair = []\n",
    "for each in sentences :\n",
    "    entity_pair.append(sorted([each[1][each[0][0]],each[1][each[0][1]]]))"
   ]
  },
  {
   "cell_type": "code",
   "execution_count": 23,
   "metadata": {},
   "outputs": [
    {
     "data": {
      "text/plain": [
       "['drug_entity_8681', 'herb_entity_7588']"
      ]
     },
     "execution_count": 23,
     "metadata": {},
     "output_type": "execute_result"
    }
   ],
   "source": [
    "entity_pair[0]"
   ]
  },
  {
   "cell_type": "code",
   "execution_count": 24,
   "metadata": {},
   "outputs": [
    {
     "data": {
      "text/plain": [
       "True"
      ]
     },
     "execution_count": 24,
     "metadata": {},
     "output_type": "execute_result"
    }
   ],
   "source": [
    "['drug_entity_8681', 'herb_entity_7588'] in  entity_pair"
   ]
  },
  {
   "cell_type": "code",
   "execution_count": 4,
   "metadata": {},
   "outputs": [
    {
     "data": {
      "text/plain": [
       "31917"
      ]
     },
     "execution_count": 4,
     "metadata": {},
     "output_type": "execute_result"
    }
   ],
   "source": [
    "len(pred_label)"
   ]
  },
  {
   "cell_type": "code",
   "execution_count": 45,
   "metadata": {},
   "outputs": [],
   "source": [
    "def compute_s(i, x, labels, clusters):\n",
    "\tnorm_c= len(clusters)\n",
    "\ts = 0\n",
    "\tfor x in clusters:\n",
    "\t\t# print x\n",
    "\t\ts += distance.euclidean(x, clusters[i])\n",
    "\treturn s\n",
    "\n",
    "def compute_Rij(i, j, x, labels, clusters, nc):\n",
    "\tRij = 0\n",
    "\ttry:\n",
    "\t\t# print \"h\"\n",
    "\t\td = distance.euclidean(clusters[i],clusters[j])\n",
    "\t\t# print d\n",
    "\t\tRij = (compute_s(i, x, labels, clusters) + compute_s(j, x, labels, clusters))/d\n",
    "\t\t# print Rij\n",
    "\texcept:\n",
    "\t\tRij = 0\t\n",
    "\treturn Rij\n",
    "\n",
    "def compute_R(i, x, labels, clusters, nc): \n",
    "\tlist_r = []\n",
    "\tfor i in range(nc):\n",
    "\t\tfor j in range(nc):\n",
    "\t\t\tif(i!=j):\n",
    "\t\t\t\ttemp = compute_Rij(i, j, x, labels, clusters, nc)\n",
    "\t\t\t\tlist_r.append(temp)\n",
    "\n",
    "\treturn max(list_r)\n",
    "\n",
    "def compute_DB_index(x, labels, clusters, nc):\n",
    "\t# print x\n",
    "\tsigma_R = 0.0\n",
    "\tfor i in range(nc):\n",
    "\t\tsigma_R = sigma_R + compute_R(i, x, labels, clusters, nc)\n",
    "\n",
    "\tDB_index = float(sigma_R)/float(nc)\n",
    "\treturn DB_index"
   ]
  },
  {
   "cell_type": "code",
   "execution_count": 52,
   "metadata": {},
   "outputs": [
    {
     "name": "stdout",
     "output_type": "stream",
     "text": [
      "The value of Davies Bouldin index for a K-Means cluser of size 2 is: 0.0\n",
      "The value of Davies Bouldin index for a K-Means cluser of size 3 is: 0.0\n",
      "The value of Davies Bouldin index for a K-Means cluser of size 4 is: 0.0\n",
      "The value of Davies Bouldin index for a K-Means cluser of size 5 is: 0.0\n",
      "The value of Davies Bouldin index for a K-Means cluser of size 6 is: 0.0\n",
      "The value of Davies Bouldin index for a K-Means cluser of size 7 is: 0.0\n",
      "The value of Davies Bouldin index for a K-Means cluser of size 8 is: 0.0\n",
      "The value of Davies Bouldin index for a K-Means cluser of size 9 is: 0.0\n",
      "The value of Davies Bouldin index for a K-Means cluser of size 10 is: 0.0\n",
      "The value of Davies Bouldin index for a K-Means cluser of size 11 is: 0.0\n",
      "The value of Davies Bouldin index for a K-Means cluser of size 12 is: 0.0\n",
      "The value of Davies Bouldin index for a K-Means cluser of size 13 is: 0.0\n",
      "The value of Davies Bouldin index for a K-Means cluser of size 14 is: 0.0\n",
      "The value of Davies Bouldin index for a K-Means cluser of size 15 is: 0.0\n",
      "The value of Davies Bouldin index for a K-Means cluser of size 16 is: 0.0\n",
      "The value of Davies Bouldin index for a K-Means cluser of size 17 is: 0.0\n",
      "The value of Davies Bouldin index for a K-Means cluser of size 18 is: 0.0\n",
      "The value of Davies Bouldin index for a K-Means cluser of size 19 is: 0.0\n"
     ]
    }
   ],
   "source": [
    "from sklearn.cluster import k_means\n",
    "from scipy.spatial import distance\n",
    "n_cluster = 10\n",
    "X = np.load('../data/PCA/sen_vector_PCA.npy')\n",
    "for n_cluster in range(7,10) :\n",
    "    kmeans = KMeans(n_clusters=n_cluster).fit(X)\n",
    "    labels = kmeans.predict(X)\n",
    "    centroids = kmeans.cluster_centers_\n",
    "    index_db_val = compute_DB_index(X, labels, centroids, n_cluster)\n",
    "    print(\"The value of Davies Bouldin index for a K-Means cluser of size \" + str(n_cluster) + \" is: \" + str(index_db_val))"
   ]
  },
  {
   "cell_type": "code",
   "execution_count": 77,
   "metadata": {},
   "outputs": [],
   "source": [
    "def daviesbouldin(X, labels, centroids):\n",
    "\n",
    "    import numpy as np\n",
    "    from scipy.spatial.distance import pdist, euclidean\n",
    "\n",
    "    nbre_of_clusters = len(centroids) #Get the number of clusters\n",
    "    distances = [[] for e in range(nbre_of_clusters)] #Store intra-cluster distances by cluster\n",
    "    distances_means = [] #Store the mean of these distances\n",
    "    DB_indexes = [] #Store Davies_Boulin index of each pair of cluster\n",
    "    second_cluster_idx = [] #Store index of the second cluster of each pair\n",
    "    first_cluster_idx = 0 #Set index of first cluster of each pair to 0\n",
    "\n",
    "    # Step 1: Compute euclidean distances between each point of a cluster to their centroid\n",
    "    for cluster in range(nbre_of_clusters):\n",
    "        for point in range(X[labels == cluster].shape[0]):\n",
    "            distances[cluster].append(euclidean(X[labels == cluster][point], centroids[cluster]))\n",
    "\n",
    "    # Step 2: Compute the mean of these distances\n",
    "    for e in distances:\n",
    "        distances_means.append(np.mean(e))\n",
    "\n",
    "    # Step 3: Compute euclidean distances between each pair of centroid\n",
    "    ctrds_distance = pdist(centroids) \n",
    "\n",
    "    # Tricky step 4: Compute Davies-Bouldin index of each pair of cluster   \n",
    "    for i, e in enumerate(e for start in range(1, nbre_of_clusters) for e in range(start, nbre_of_clusters)):\n",
    "        second_cluster_idx.append(e)\n",
    "        if second_cluster_idx[i-1] == nbre_of_clusters - 1:\n",
    "            first_cluster_idx += 1\n",
    "        DB_indexes.append((distances_means[first_cluster_idx] + distances_means[e]) / ctrds_distance[i])\n",
    "\n",
    "    # Step 5: Compute the mean of all DB_indexes   \n",
    "    print(\"DAVIES-BOULDIN Index: %.5f\" % np.mean(DB_indexes)) \n",
    "    return np.mean(DB_indexes)"
   ]
  },
  {
   "cell_type": "code",
   "execution_count": 78,
   "metadata": {},
   "outputs": [
    {
     "name": "stdout",
     "output_type": "stream",
     "text": [
      "DAVIES-BOULDIN Index: 2.15218\n",
      "DAVIES-BOULDIN Index: 1.57891\n",
      "DAVIES-BOULDIN Index: 1.64996\n",
      "DAVIES-BOULDIN Index: 1.67187\n",
      "DAVIES-BOULDIN Index: 1.68358\n",
      "DAVIES-BOULDIN Index: 1.23870\n",
      "DAVIES-BOULDIN Index: 1.25308\n",
      "DAVIES-BOULDIN Index: 1.28893\n",
      "DAVIES-BOULDIN Index: 1.28271\n",
      "DAVIES-BOULDIN Index: 1.30754\n",
      "DAVIES-BOULDIN Index: 1.33104\n",
      "DAVIES-BOULDIN Index: 1.32987\n",
      "DAVIES-BOULDIN Index: 1.34020\n",
      "DAVIES-BOULDIN Index: 1.32118\n",
      "DAVIES-BOULDIN Index: 1.32412\n",
      "DAVIES-BOULDIN Index: 1.33698\n",
      "DAVIES-BOULDIN Index: 1.33346\n",
      "DAVIES-BOULDIN Index: 1.34397\n",
      "DAVIES-BOULDIN Index: 1.34838\n",
      "DAVIES-BOULDIN Index: 1.34047\n",
      "DAVIES-BOULDIN Index: 1.32625\n",
      "DAVIES-BOULDIN Index: 1.32545\n",
      "DAVIES-BOULDIN Index: 1.32743\n",
      "DAVIES-BOULDIN Index: 1.31306\n",
      "DAVIES-BOULDIN Index: 1.32498\n",
      "DAVIES-BOULDIN Index: 1.29528\n",
      "DAVIES-BOULDIN Index: 1.32168\n",
      "DAVIES-BOULDIN Index: 1.29037\n",
      "DAVIES-BOULDIN Index: 1.31982\n",
      "DAVIES-BOULDIN Index: 1.28982\n",
      "DAVIES-BOULDIN Index: 1.29385\n",
      "DAVIES-BOULDIN Index: 1.27049\n",
      "DAVIES-BOULDIN Index: 1.28276\n",
      "DAVIES-BOULDIN Index: 1.27956\n",
      "DAVIES-BOULDIN Index: 1.27335\n",
      "DAVIES-BOULDIN Index: 1.26467\n",
      "DAVIES-BOULDIN Index: 1.25702\n",
      "DAVIES-BOULDIN Index: 1.24613\n",
      "DAVIES-BOULDIN Index: 1.24784\n",
      "DAVIES-BOULDIN Index: 1.26976\n",
      "DAVIES-BOULDIN Index: 1.21928\n",
      "DAVIES-BOULDIN Index: 1.23196\n",
      "DAVIES-BOULDIN Index: 1.24110\n",
      "DAVIES-BOULDIN Index: 1.21391\n",
      "DAVIES-BOULDIN Index: 1.21781\n",
      "DAVIES-BOULDIN Index: 1.20975\n",
      "DAVIES-BOULDIN Index: 1.23948\n",
      "DAVIES-BOULDIN Index: 1.22006\n"
     ]
    }
   ],
   "source": [
    "davie = {}\n",
    "calinski = {}\n",
    "X = np.load('../data/PCA/sen_vector_PCA.npy')\n",
    "for n_cluster in range(2,50) :\n",
    "    kmeans = KMeans(n_clusters=n_cluster, max_iter=1000).fit(X)\n",
    "    labels = kmeans.predict(X)\n",
    "    centroids = kmeans.cluster_centers_\n",
    "    davie[n_cluster] = daviesbouldin(X, labels, centroids)\n",
    "    calinski[n_cluster] =  sklearn.metrics.calinski_harabaz_score(X,labels)\n",
    "    "
   ]
  },
  {
   "cell_type": "code",
   "execution_count": 74,
   "metadata": {},
   "outputs": [],
   "source": [
    "import sklearn.metrics"
   ]
  },
  {
   "cell_type": "code",
   "execution_count": 73,
   "metadata": {},
   "outputs": [
    {
     "ename": "ImportError",
     "evalue": "cannot import name 'davies_bouldin_score'",
     "output_type": "error",
     "traceback": [
      "\u001b[1;31m---------------------------------------------------------------------------\u001b[0m",
      "\u001b[1;31mImportError\u001b[0m                               Traceback (most recent call last)",
      "\u001b[1;32m<ipython-input-73-6edb93afb75d>\u001b[0m in \u001b[0;36m<module>\u001b[1;34m()\u001b[0m\n\u001b[0;32m      1\u001b[0m \u001b[1;32mfrom\u001b[0m \u001b[0msklearn\u001b[0m\u001b[1;33m.\u001b[0m\u001b[0mmetrics\u001b[0m \u001b[1;32mimport\u001b[0m \u001b[0msilhouette_score\u001b[0m\u001b[1;33m\u001b[0m\u001b[0m\n\u001b[1;32m----> 2\u001b[1;33m \u001b[1;32mfrom\u001b[0m \u001b[0msklearn\u001b[0m\u001b[1;33m.\u001b[0m\u001b[0mmetrics\u001b[0m \u001b[1;32mimport\u001b[0m \u001b[0mdavies_bouldin_score\u001b[0m\u001b[1;33m\u001b[0m\u001b[0m\n\u001b[0m",
      "\u001b[1;31mImportError\u001b[0m: cannot import name 'davies_bouldin_score'"
     ]
    }
   ],
   "source": [
    "from sklearn.metrics import silhouette_score\n"
   ]
  },
  {
   "cell_type": "code",
   "execution_count": 82,
   "metadata": {},
   "outputs": [],
   "source": [
    "import json\n",
    "\n",
    "check = json.load(open('../data/preprocessing/herb_corpus/herb_syms_total.json'))"
   ]
  },
  {
   "cell_type": "code",
   "execution_count": 86,
   "metadata": {},
   "outputs": [],
   "source": [
    "check_count = 0\n",
    "\n",
    "for each in check :\n",
    "    if len(check[each]) > 1 :\n",
    "        check_count+=len(check[each])"
   ]
  },
  {
   "cell_type": "code",
   "execution_count": 87,
   "metadata": {},
   "outputs": [
    {
     "data": {
      "text/plain": [
       "48584"
      ]
     },
     "execution_count": 87,
     "metadata": {},
     "output_type": "execute_result"
    }
   ],
   "source": [
    "check_count - 10061"
   ]
  },
  {
   "cell_type": "code",
   "execution_count": 88,
   "metadata": {},
   "outputs": [],
   "source": [
    "check = ''"
   ]
  },
  {
   "cell_type": "code",
   "execution_count": 89,
   "metadata": {},
   "outputs": [],
   "source": [
    "from nltk.corpus import stopwords\n",
    "stop_words = list(set(stopwords.words('english')))"
   ]
  },
  {
   "cell_type": "code",
   "execution_count": 91,
   "metadata": {},
   "outputs": [],
   "source": [
    "stop_words = ''"
   ]
  },
  {
   "cell_type": "code",
   "execution_count": null,
   "metadata": {},
   "outputs": [],
   "source": []
  }
 ],
 "metadata": {
  "kernelspec": {
   "display_name": "Python 3",
   "language": "python",
   "name": "python3"
  },
  "language_info": {
   "codemirror_mode": {
    "name": "ipython",
    "version": 3
   },
   "file_extension": ".py",
   "mimetype": "text/x-python",
   "name": "python",
   "nbconvert_exporter": "python",
   "pygments_lexer": "ipython3",
   "version": "3.6.1"
  }
 },
 "nbformat": 4,
 "nbformat_minor": 2
}
