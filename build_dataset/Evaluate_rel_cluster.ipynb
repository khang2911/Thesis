{
 "cells": [
  {
   "cell_type": "code",
   "execution_count": 44,
   "metadata": {},
   "outputs": [],
   "source": [
    "import os\n",
    "import sys\n",
    "import json\n",
    "import time\n",
    "import numpy as np\n",
    "from sklearn.cluster import KMeans\n",
    "from gensim.models import Word2Vec\n"
   ]
  },
  {
   "cell_type": "code",
   "execution_count": 64,
   "metadata": {},
   "outputs": [],
   "source": [
    "import copy"
   ]
  },
  {
   "cell_type": "code",
   "execution_count": 127,
   "metadata": {},
   "outputs": [],
   "source": [
    "index1 = json.load(open('../data/sen_index_1.json'))\n",
    "index2 = json.load(open('../data/sen_index_2.json'))\n",
    "index3 = json.load(open('../data/sen_index_3.json'))\n",
    "index4 = json.load(open('../data/sen_index_4.json'))"
   ]
  },
  {
   "cell_type": "code",
   "execution_count": 128,
   "metadata": {},
   "outputs": [],
   "source": [
    "index1.update(index2)\n",
    "index1.update(index3)\n",
    "index1.update(index4)\n",
    "index = copy.copy(index1)"
   ]
  },
  {
   "cell_type": "code",
   "execution_count": 132,
   "metadata": {},
   "outputs": [],
   "source": [
    "n_cluster = 5\n",
    "X = np.load('../data/PCA/sen_vector_PCA.npy')\n",
    "kmeans = KMeans(n_clusters=n_cluster,max_iter=10000).fit(X)\n",
    "pred_label = kmeans.predict(X)\n"
   ]
  },
  {
   "cell_type": "code",
   "execution_count": 46,
   "metadata": {},
   "outputs": [],
   "source": [
    "#####\n",
    "ref = json.load(open('../data/preprocessing/standard_ref/standard_ref_without_effect.json'))\n",
    "\n",
    "sentences = json.load(open('../data/feature_extraction/entity_pair_sentences.json'))\n",
    "\n",
    "entity_names = open('../data/clean_data/entity_total.csv',encoding='utf8').read().split('\\n')[:-1]\n",
    "\n",
    "#####\n",
    "path = '../data/model/noun_verb/300/model'\n",
    "model = Word2Vec.load(path)\n",
    "voca = list(model.wv.vocab)\n",
    "model = ''\n"
   ]
  },
  {
   "cell_type": "code",
   "execution_count": 133,
   "metadata": {},
   "outputs": [],
   "source": [
    "entity_dict = {}\n",
    "for row in entity_names :\n",
    "    entity_dict[row.split('\\t')[1]] = row.split('\\t')[0]"
   ]
  },
  {
   "cell_type": "code",
   "execution_count": 134,
   "metadata": {},
   "outputs": [],
   "source": [
    "ok = 0\n",
    "total = 0\n",
    "ref_pair = []\n",
    "for herb in ref :\n",
    "    for drug in ref[herb] :\n",
    "        if entity_dict[herb] in voca and entity_dict[drug] in voca :\n",
    "            ref_pair.append([entity_dict[drug],entity_dict[herb]])\n"
   ]
  },
  {
   "cell_type": "code",
   "execution_count": 135,
   "metadata": {},
   "outputs": [],
   "source": [
    "entity_pair = []\n",
    "for each in sentences :\n",
    "    entity_pair.append(sorted([each[1][each[0][0]],each[1][each[0][1]]]))"
   ]
  },
  {
   "cell_type": "code",
   "execution_count": 136,
   "metadata": {},
   "outputs": [
    {
     "data": {
      "text/plain": [
       "143"
      ]
     },
     "execution_count": 136,
     "metadata": {},
     "output_type": "execute_result"
    }
   ],
   "source": [
    "len(ref_pair)"
   ]
  },
  {
   "cell_type": "code",
   "execution_count": 149,
   "metadata": {},
   "outputs": [
    {
     "name": "stdout",
     "output_type": "stream",
     "text": [
      "{2: 19, 1: 2, 3: 1, 0: 1}\n"
     ]
    }
   ],
   "source": [
    "count = 0\n",
    "result = {}\n",
    "top = []\n",
    "for each in ref_pair :\n",
    "    if each in entity_pair :\n",
    "        top.append(entity_pair.index(each))\n",
    "        group = pred_label[entity_pair.index(each)]\n",
    "        #if group == 9 :\n",
    "            #print(each)\n",
    "        try :\n",
    "            result[group]+=1\n",
    "        except :\n",
    "            result[group] = 1\n",
    "print(result)"
   ]
  },
  {
   "cell_type": "code",
   "execution_count": 138,
   "metadata": {},
   "outputs": [],
   "source": [
    "from scipy import spatial\n",
    "\n",
    "##### cluster labeling - cosine similarity\n",
    "centroids = kmeans.cluster_centers_\n",
    "res = {}\n",
    "\n",
    "for i in range(len(pred_label)) :\n",
    "    cosine = 1 - spatial.distance.cosine(X[i],centroids[pred_label[i]] )\n",
    "    if pred_label[i] not in res :\n",
    "        res[pred_label[i]] = {cosine:i}\n",
    "    else :\n",
    "        res[pred_label[i]][cosine] = i\n"
   ]
  },
  {
   "cell_type": "code",
   "execution_count": 139,
   "metadata": {},
   "outputs": [
    {
     "name": "stdout",
     "output_type": "stream",
     "text": [
      "[8809, 2600, 15402, 1710, 3396]\n"
     ]
    }
   ],
   "source": [
    "count = {}\n",
    "for each in pred_label :\n",
    "    if each in count :\n",
    "        count[each]+=1\n",
    "    else:\n",
    "        count[each] = 1\n",
    "print([count[i] for i in list(sorted(count)) ])"
   ]
  },
  {
   "cell_type": "code",
   "execution_count": 250,
   "metadata": {},
   "outputs": [
    {
     "name": "stdout",
     "output_type": "stream",
     "text": [
      "0\n",
      "in order to find new tyrosinase inhibitors and antioxidant materials, we investigated 44 plants, which were evaluated for the anti-tyrosinase and antioxidant activities. the mushroom tyrosinase inhibition assay and 2, 2-diphenyl-1- picrylhydrazyl (dpph) radical scavenging assay were conducted to evaluate these activities. among all tested plant extracts, morus alba l. (positive control), rhodiola crenulata (hook. f. et thoms.) h. ohba, momordica charantia l., cuminum cyminum l. et al. exhibit higher tyrosinase inhibition. rhodiola crenulata (hook. f. et thoms.) h. ohba, rosa rugosa thunb. and eugenia caryophyllata thunb. perform the highest antioxidant activity, similar to vitamin c (the positive control). a low positive correlation is found in the dpph radical scavenging and tyrosinase inhibition assay. considering these factors, the extracts of rhodiola crenulata (hook. f. et thoms.) h. ohba, alpinia officinarum hance and zanthoxylum bungeanum maxim. exhibit high anti-tyrosinase and antioxidant activities and could be used in the cosmetic industry. further studies are warranted to characterize the compounds responsible for the anti-tyrosinase and antioxidant properties of these plant extracts.\n",
      "['herb_entity_1385', 'perform', 'activ', 'drug_entity_117', 'control']\n",
      "1\n",
      "allicin (diallylthiosulfinate) is the best known active compound of garlic. it is generated upon the interaction of the nonprotein amino acid alliin with the enzyme alliinase (alliin lyase, ec 4.4.1.4). previously, we described a simple spectrophotometric assay for the determination of allicin and alliinase activity, based on the reaction between 2-nitro-5-thiobenzoate (ntb) and allicin. this reagent is not commercially available and must be synthesized. in this paper we describe the quantitative analysis of alliin and allicin, as well as of alliinase activity with 4-mercaptopyridine (4-mp), a commercially available chromogenic thiol. the assay is based on the reaction of 4-mp (lambda(max)=324nm) with the activated disulfide bond of thiosulfinates -s(o)-s-, forming the mixed disulfide, 4-allylmercaptothiopyridine, which has no absorbance at this region. the structure of 4-allylmercaptothiopyridine was confirmed by mass spectrometry. the method was used for the determination of alliin and allicin concentrations in their pure form as well as of alliin and total thiosulfinates concentrations in crude garlic preparations and garlic-derived products, at micromolar concentrations. the 4-mp assay is an easy, sensitive, fast, noncostly, and highly efficient throughput assay of allicin, alliin, and alliinase in garlic preparations.\n",
      "['drug_entity_9449', 'diallylthiosulfin', 'compound', 'herb_entity_1834']\n",
      "2\n",
      "rapamycin is a triene macrolide antibiotic produced by streptomyces hygroscopicus. besides its wide application as an effective immunosuppressive agent, other important bioactivities have made rapamycin a potential drug lead for novel pharmaceutical development. however, the low titer of rapamycin in the original producer strain limits further industrialization efforts and restricts its use for other applications. predicated on knowledge of the metabolic pathways related to rapamycin biosynthesis in s. hygroscopicus, we have rationally designed approaches to generate a rapamycin high producer strain of s. hygroscopicus hd-04-s. these have included alleviation of glucose repression, improved tolerance towards lysine and shikimic acid, and auxotrophy of tryptophan and phenylalanine through the application of stepwise uv mutagenesis. the resultant strain produced rapamycin at 450 mg/l in the shake flask scale. these fermentations were further scaled up in 120 and 20,000 l fermentors, respectively, at the pilot plant. selected fermentation factors including agitation speed, ph, and on-line supplementation were systematically evaluated. a fed-batch strategy was established to maximize rapamycin production. with these efforts, an optimized fermentation process in the larger scale fermentor was developed. the final titer of rapamycin was 812 mg/l in the 120 l fermentor and 783 mg/l in the 20,000 l fermentor. this work highlights a high rapamycin producing strain derived by mutagenesis and subsequent screening, fermentation optimization of which has now made it feasible to produce rapamycin on an industrial scale by fermentation. the strategies developed here should also be applicable to titer improvement of other important microbial natural products on an industrial scale.\n",
      "['drug_entity_862', 'e', 'produc', 'herb_entity_4078']\n",
      "3\n",
      "plants from rwanda used in traditional medicine have been investigated for their influence on lymphocyte proliferation with and without the presence of the mitogen phytohemagglutinin. phytolacca dodecandra displayed a significant mitogenic effect. several plants inhibited the lymphocyte proliferation after prestimulation with the mitogen.\n",
      "['herb_entity_1214', 'display', 'signi', 'drug_entity_3194', 'effect']\n",
      "5\n",
      "garlic has been used medicinally throughout human history. allicin is considered the most therapeutic constituent of garlic. this study tested the antimicrobial activity of garlic allicin on oral pathogens associated with dental caries and periodontitis. allicin was found effective against all the tested bacteria. the broth dilution method revealed that planktonic growth of the cariogenic, gram-positive species streptococcus mutans, s. sobrinus, and actinomyces oris was inhibited by an allicin concentration of 600 μg/ml or higher. planktonic growth of the tested gram-negative periopathogenic species aggregatibacter actinomycetemcomitans and fusobacterium nucleatum was inhibited by a minimum allicin concentration of 300 μg/ml. porphyromonas gingivalis, an anaerobic, gram-negative pathogen and the bacterium most associated with chronic periodontitis, demonstrated the lowest sensitivity to allicin (2,400 μg/ml). gel zymography and the synthetic chromogenic substrate n(α)-benzoyl-l-arginine 4-nitroanilide hydrochloride demonstrated that allicin inhibits the proteases of p. gingivalis, including the arginine and lysine gingipains known as major virulence factors of this organism. a gingipain-inactivated mutant demonstrated high sensitivity to allicin (<300 μg/ml), revealing that gingipains confer resistance to allicin. live/dead staining followed by analysis with confocal laser scanning microscopy revealed that allicin was bactericidal to s. mutans grown in mature biofilms. however, this bactericidal effect was reduced as biofilm depth increased. in conclusion, these results support the traditional medicinal use of garlic and suggest the use of allicin for alleviating dental diseases.\n",
      "['drug_entity_9449', 'consid', 'constitu', 'herb_entity_1834']\n",
      "6\n",
      "objective\n",
      "to investigate the content and existing conditions of baicalin, berberine and rhein in sanhuang xiexin decoction suspension.\n",
      "\n",
      "\n",
      "method\n",
      "three active components (baicalin, berberine and rhein) in different prescriptions of original, absentone ingredient herb, and single herb were determined by hplc.\n",
      "\n",
      "\n",
      "result\n",
      "there were baicalin 1,211 mg, berberine 276 mg and rhein 25 mg in 200 ml sanhuang xiexin decoction. even though there will be precipitation if alkaloid is together with baicalin and some anthraquinones, no obvious interaction showed the affecting extract content between scutellaria baicalensis and coptis chinensis. the extracted rhein content can be increased obviously by scutellaria baicalensis. rheum patmatum and coptis chinensis can suppress medicinal composition release of each other.\n",
      "\n",
      "\n",
      "conclusion\n",
      "the acid and basic components can affect each other and the acid components themselves also can affect each other.\n",
      "['drug_entity_10794', 'content', 'increas', 'herb_entity_563']\n",
      "7\n",
      "pseudomonas aeruginosa has a notorious characteristic of resistance to most antimicrobial compounds. this characteristic was subjected to verification in the present study, whereby 50 human isolates of the organism from different pathological sources were subjected to sensitivity tests against honey from three different sources by the agar-cup diffusion method. gentamicin, an aminoglycoside antibiotic normally with activity against gram-negative bacteria, was used alongside honey. the 50 isolates of p. aeruginosa showed 100% sensitivity to each of the three types of honey tested in their undiluted form. this was not the case with gentamicin used in 8 and 4 µg/ml concentrations, both of which varied in their antipseudomonal activity, like the 1:2 aqueous dilution of each honey which failed to appreciably inhibit a lower number of pseudomonal isolates than either of the two concentrations of gentamicin. honey is suggested as an effective natural product in overcoming the widespread antibiotic resistance of p. aeruginosa.\n",
      "['drug_entity_783', 'activ', 'bacteria', 'use', 'herb_entity_2909']\n",
      "8\n",
      "garlic is a commonly used spice in folk medicine that can exert adverse health effects when given at a high dose. grape seed and skin extract (gsse) exhibits a variety of beneficial effects even at a high dose. in the present study we evaluated the toxicity of high-dose garlic treatment on liver and the protective effect of gsse. rats were intraperitoneally administered either with garlic extract (5 g·(kg body weight)(-1)) or gsse (500 mg·(kg body weight)(-1)) or a combination of garlic and gsse at the same doses daily for 1 month. plasma and hepatic levels of cholesterol, triacylglycerol, and transaminases and liver antioxidant status were evaluated. data showed that a high garlic dose induced liver toxicity and a pro-oxidative status characterized by increased malondialdehyde and decreased antioxidant enzyme activities as catalase, peroxidase, and superoxide dismutase. garlic increased intracellular h(2)o(2) but decreased free iron and ca(2+). gsse alone or in co-treatment with garlic had the reverse effect and counteracted almost all garlic-induced deleterious impacts to near control levels. in conclusion, a high garlic dose induced a pro-oxidative state characterized by the fenton reaction between h(2)o(2) and free iron, inducing ca(2+) depletion, while gsse exerted antioxidant properties and ca(2+) repletion.\n",
      "['herb_entity_1834', 'increas', 'h', 'decreas', 'drug_entity_1524']\n",
      "9\n",
      "purpose of review\n",
      "to assess the current role of plant extracts in the medical management of lower urinary tract symptoms due to benign prostatic enlargement/benign prostatic obstruction.\n",
      "\n",
      "\n",
      "recent findings\n",
      "in 2006, two clinical trials meeting the who benign prostatic hyperplasia consensus conference criteria (randomized against placebo/standard therapy, study duration 12 months) were published. one trial compared a saw palmetto extract with placebo. this industry-independent trial published in the new england journal of medicine was negative, that is, this saw palmetto extract had no effect on symptoms, qmax and postvoid residual volume. in another trial, a saw palmetto/urtica combination was compared with tamsulosin. after 12 months, the improvement of symptoms was identical in both study arms. no detailed data were presented, however, on qmax, postvoid residual or prostate volume. the biological mechanisms of plant extracts in vivo are still unknown and the numerous metaanalyses cannot supplement high-quality prospective trials.\n",
      "\n",
      "\n",
      "summary\n",
      "further prospective studies according to who benign prostatic hyperplasia standards are required to reliably determine the role of plant extracts in contemporary lower urinary tract symptoms management and to be able to answer the question in the title: 'plant extracts: sense or nonsense?' plant extracts are currently not recommended by the american and european association of urology benign prostatic hyperplasia guidelines.\n",
      "['trial', 'herb_entity_10066', '/urtica', 'combin', 'compar', 'drug_entity_691']\n",
      "10\n",
      "in laboratory inoculation experiments, rosen rye seedlings were more susceptible, genesee wheat seedlings were less susceptible, and trail barley seedlings were not susceptible to claviceps purpurea. guttation fluids from these plants were used as media for the growth of germinating spores of c. purpurea. growth experiments consisted of spores which were germinated in thin agar films on microscope slides. germ tube growth was determined by counting the tubes that crossed the perimeter of a square in the microscope field, counting the conidia in the square, and computing the number of crosses per conidium. rye guttation fluid produced the most growth and barley fluid the least. thus the degree of susceptibility is correlated with the amount of growth of the parasite in vitro.\n",
      "['r', 'herb_entity_9499', 'ttation', 'fluid', 'produc', 'growth', 'drug_entity_8579', 'fluid']\n",
      "11\n",
      "1. the lipid soluble extract of the psychoactive beverage kava has hypnosedative properties which can be measured by the length of time that the righting reflex is lost. 2. ethanol and the lipid soluble extract (kava resin) have been shown greatly to increase each others hypnotic action in mice. ethanol also increases the toxicity of kava markedly. 3. this interaction of kava and alcohol has important clinical and social consequences since, in contrast to traditional usage, kava is now often taken in conjunction with alcoholic drinks.\n",
      "['drug_entity_883', 'increas', 'toxic', 'herb_entity_10063']\n",
      "12\n",
      "there is widespread use of herbal medicine in patients suffering from cardiovascular diseases. the discussion about the benefit of these drugs is still controversial because of lack of scientific evidence. ginkgo biloba, crataegus and garlic are often recommended substances for patients with cardiovascular diseases. for these substances there is a lot of data available from experimental and clinical studies, unfortunately not always adhering to the criteria of evidence based medicine. extracts from ginkgo biloba contain several active constituents, mainly flavonoids and terpens, which have antioxidative properties and an inhibitory effect on platelet aggregation by inhibiting platelet activation factor paf. ginkgo is mainly used in vascular dementia and peripheral vascular disease. garlic shows a modest lipid-lowering effect in the same range as a low-cholesterol diet. effect on blood pressure seems to be at best minor. crataegus is often used in patients with heart failure because of its positive inotropic effect. additionally, crataegus acts as an antiarrhythmic substance by prolonging refractory period of the action potential.\n",
      "['herb_entity_1834', 'show', 'effect', 'rang', 'drug_entity_4272', 'diet']\n",
      "13\n",
      "hibiscus taiwanensis (malvaceae) is widely used as an alternative herb to treat disorders in taiwan. in the present study, it is used to screen the effect on diabetic hyperglycemia in streptozotocin-induced diabetic rats (stz-diabetic rats). the extract of hibiscus taiwanensis showed a significant plasma glucose-lowering action in stz-diabetic rats. stems of hibiscus taiwanensis are more effective than other parts to decrease the plasma glucose in a dose-dependent manner. oral administration of hibiscus taiwanensis three times daily for 3 days into stz-diabetic rats increased the sensitivity to exogenous insulin showing an increase in insulin sensitivity. moreover, similar repeated administration of hibiscus taiwanensis for 3 days in stz-diabetic rats produced a marked reduction of phosphoenolpyruvate carboxykinase (pepck) expression in liver and an increased expression of glucose transporter subtype 4 (glut 4) in skeletal muscle. taken together, our results suggest that hibiscus taiwanensis has the ability to lower plasma glucose through an increase in glucose utilization via elevation of skeletal glut 4 and decrease of hepatic pepck in stz-diabetic rats.\n",
      "['stem', 'herb_entity_2799', 'part', 'decreas', 'plasma', 'drug_entity_8279', 'manner']\n",
      "14\n",
      "berberine is a pharmacologically active alkaloid present in widely used medicinal plants, such as coptis chinensis (huang-lian). the hormone estradiol is oxidized by cytochrome p450 (cyp) 1b1 to primarily form the genotoxic metabolite 4-hydroxyestradiol, whereas cyp1a1 and cyp1a2 predominantly generate 2-hydroxyestradiol. to illustrate the effect of berberine on the regioselective oxidation of estradiol, effects of berberine and its metabolites on cyp1 activities were studied. among cyp1s, cyp1b1.1, 1.3 (l432v), and 1.4 (n453s)-catalyzed 4-hydroxylation were preferentially inhibited by berberine. differing from the competitive inhibition of cyp1b1.1 and 1.3, n453s substitution in cyp1b1 allowed a non-competitive or mixed-type pattern. an n228t in cyp1b1 highly decreased its activity and preference to 4-hydroxylation. a reverse mutation of t223n in cyp1a2 retained its 2-hydroxylation preference, but enhanced its inhibition susceptibility to berberine. compared with berberine, metabolites demethyleneberberine and thalifendine caused weaker inhibition of cyp1a1 and cyp1b1 activities. unexpectedly, thalifendine was more potent than berberine in the inhibition of cyp1a2, in which case an enhanced interaction through polar hydrogen-π bond was predicted from the docking analysis. these results demonstrate that berberine preferentially inhibits the estradiol 4-hydroxylation activity of cyp1b1 variants, suggesting that 4-hydroxyestradiol-mediated toxicity might be reduced by berberine, especially in tissues/tumors highly expressing cyp1b1.\n",
      "['drug_entity_3877', 'present', 'use', 'plant', 'herb_entity_906']\n",
      "15\n",
      "previous studies on animals have revealed that garlic (allium sativum) is effective in reducing blood and tissue lead concentrations. the aim of this study was to investigate therapeutic effects of garlic and compare it with d-penicillamine in patients with chronic lead poisoning. after coordination and obtaining informed consent, clinical examinations and blood lead concentration (blc) of 117 workers at a car battery industry were investigated. blc was determined by heated graphite atomization technique of an atomic absorption spectrometer. the workers were randomly assigned into two groups of garlic (1200 μg allicin, three times daily) and d-penicillamine (250 mg, three times daily) and treated for 4 weeks. blc was determined again 10days post-treatment. clinical signs and symptoms of lead poisoning were also investigated and compared with the initial findings. clinical improvement was significant in a number of clinical manifestations including irritability (p = 0.031), headache (p = 0.028), decreased deep tendon reflex (p=0.019) and mean systolic blood pressure (0.021) after treatment with garlic, but not d-penicillamine. blcs were reduced significantly (p=0.002 and p=0.025) from 426.32±185.128 to 347.34±121.056 μg/l and from 417.47±192.54 to 315.76±140.00μg/l in the garlic and d-penicillamine groups, respectively, with no significant difference (p=0.892) between the two groups. the frequency of side effects was significantly (p=0.023) higher in d-penicillamine than in the garlic group. thus, garlic seems safer clinically and as effective as d-penicillamine. therefore, garlic can be recommended for the treatment of mild-to-moderate lead poisoning.\n",
      "['herb_entity_1834', 'seem', 'safer', 'drug_entity_844']\n",
      "16\n",
      "the anion-exchange enrichment of tlcl(-)(4) coupled to flame aas is applied to the determination of the total, pseudo-total (not bound in the silicate matrix) and mobile (plant available) content of thallium in soils. ascorbic acid is used as a new efficient eluent of thallium. the limit of detection of the method is 0.04,mug/g, the relative standard deviation at the 1 mug/g level is about 3%. the method is rapid and simple.\n",
      "['drug_entity_117', 'use', 'eluent', 'th', 'herb_entity_8616']\n",
      "17\n",
      "ginkgo biloba has been used in traditional chinese medicine for about 5000 years. a standardized preparation, egb 761 has been recently prepared. the pharmacologically active constituents, flavonol glycosides and the terpene lactones are standardized. the terpene lactones comprise of ginkgolides a, b, c and bilobalides. the extract scavenges excess free radicals and pretreatment with egb 761 reduces damage by free radicals in patients undergoing coronary bypass surgery. the action of platelet activating factor is antagonized and platelet aggregation is reduced. blood flow is increased. release of prostacyclines and nitric oxide was shown to be stimulated. ginkgo biloba has been found to be useful in the treatment of alzheimers disease and cognitive impairment. egb 761 has shown beneficial effect in aging and mild cognitive impairment. bilobalide has been shown to be protective against glutamate-induced excitotoxic neuronal death. early studies indicate a potential role in age-related macular degeneration and some types of glaucoma. anticancer action is related to antioxidant, anti-angiogenic and gene regulatory actions. ginkgo biloba has shown overall improvement in about 65% of patients with cerebral impairment and a similar percentage suffering from peripheral vascular diseases. a recent study suggested that phytoestrogens in ginkgo biloba may have a role as alternative hormone replacement therapy. recent trials have not shown a beneficial effect of ginkgo biloba in tinnitus and acute mountain sickness. ginkgo biloba increased the bioavailability of diltiazem. the extract has been shown to protect against doxorubicin-induced cardiotoxicity and gentamicin-induced nephrotoxicity in animals. ginkgo biloba inhibits microsomal enzymes and has a potential for drug interactions. further studies to establish the efficacy of ginkgo biloba are required.\n",
      "['herb_entity_10061', 'increas', 'bioavail', 'drug_entity_332']\n",
      "18\n",
      "the addition of selenate or selenite to common fertilizers for crop production could be an effective way of producing selenium-rich food and feed. however, this would be feasible only if the increase in plant selenium (se) content did not negatively influence the uptake of other essential elements. we therefore need to understand the interactions between se and other major and trace elements during uptake by the plant. this study aimed to evaluate the influence of inorganic forms of se on the accumulation of selected macronutrients (ca and mg) and micronutrients (fe, zn, mn and cu). those essential elements are involved in the oxidative balance of cells. zea mays seedlings were grown hydroponically in growth chambers in nutrient solutions to which we added 10, 50 or 1000 μg.l(-1) of selenate and/or selenite. cation accumulation was significantly affected by the addition of 50 μg.l(-1) or 1000 μg.l(-1) se, but not by the presence of 10 μg.l(-1) of se in the nutrient solution. the highest concentration (1000 μg.l(-1)) of se in the nutrient solution affected the accumulation of essential cations in zea mays: selenate tended to increase the accumulation of mg, zn and mn, whereas a selenate/selenite mixture tended to decrease the accumulation of ca, mg, zn and mn. only fe accumulation was unaffected by se whatever its form or concentration. selenium may also affect the distribution of cations on zea mays. for example, levels of mg and zn translocation to the shoots were lower in the presence of selenite.\n",
      "['drug_entity_9079', 'affect', 'distribut', 'cation', 'herb_entity_3611']\n",
      "20\n",
      "carica papaya latex inhibits the growth of candida albicans. latex proteins appear to be responsible for this antifungal effect. the minimum protein concentration for producing a complete inhibition was estimated to be about 138 micrograms ml-1. exploration of different glycosidic activities shows that only alpha-d-mannosidase and n-acetyl-beta-d-glucosaminidase were present in latex in important levels and they were partially purified. the two enzymes show a limited inhibitory effect on yeast growth, alpha-d-mannosidase being more efficient than n-acetyl-beta-d-glucosaminidase. a mixture of the two enzymes showed a synergistic action on the inhibition of the yeast growth. scanning and transmission electron microscopy observations showed a lack of polysaccharidic content on outermost layers of yeast cell walls when alpha-d-mannosidase was added to the culture medium. when c. albicans was cultured in medium supplemented with n-acetyl-beta-d-glucosaminidase a lack of polysaccharides was noted not only in the outermost layers of fungal cell wall but also in the inner layers. the potential utilization of latex glycosidases in combination with antifungals such as polyenes and azoles involving the formation of protoplasts is discussed.\n",
      "['herb_entity_7286', 'inhibit', 'growth', 'drug_entity_8507']\n",
      "21\n",
      "gentamicin (g) and vancomycin (v) concentrations in drainage fluids obtained from patients during the first 24 hours after implantation of antibiotic-loaded polymethylmethacrylate (pmma) spacers in two-stage revision of infected total hip arthroplasty were studied. the inhibitory activity of drainage fluids against different multiresistant clinical isolates was investigated as well. seven hips were treated by implantation of industrial g-loaded spacers. vancomycin was added by manually mixing with pmma bone cement. serum and drainage fluid samples were collected 1, 4, and 24 hours after spacer implantation. antibiotics concentrations and drains bactericidal titer of combination were determined against multiresistant staphylococcal strains. the release of g and v from pmma cement at the site of infection was prompt and effective. serum levels were below the limit of detection. the local release kinetics of g and v from pmma cement was similar, exerting a pronounced, combined inhibitory effect in the implant site. the inhibitory activity of drainage fluids showed substantial intersubject variability related to antibiotic concentrations and differed according to the pathogens tested. gentamicin and vancomycin were released from temporary hip spacers at bactericidal concentrations, and their use in combination exerted strong inhibition against methicillin-resistant s. aureus and coagulase negative staphylococci strains.\n",
      "['drug_entity_498', 'ad', 'mix', 'herb_entity_7452', 'cement']\n",
      "23\n",
      "this study included the following experiments: (1) effects of dextrose solution (250 ml of water containing 75 g of dextrose) or honey solution (250 ml of water containing 75 g of natural honey) on plasma glucose level (pgl), plasma insulin, and plasma c-peptide (eight subjects); (2) effects of dextrose, honey, or artificial honey (250 ml of water containing 35 g of dextrose and 40 g of fructose) on cholesterol and triglycerides (tg) (nine subjects); (3) effects of honey solution, administered for 15 days, on pgl, blood lipids, c-reactive protein (crp), and homocysteine (eight subjects); (4) effects of honey or artificial honey on cholesterol and tg in six patients with hypercholesterolemia and five patients with hypertriglyceridemia; (5) effects of honey for 15 days on blood lipid and crp in five patients with elevated cholesterol and crp; (6) effects of 70 g of dextrose or 90 g of honey on pgl in seven patients with type 2 diabetes mellitus; and (7) effects of 30 g of sucrose or 30 g of honey on pgl, plasma insulin, and plasma c-peptide in five diabetic patients. in healthy subjects, dextrose elevated pgl at 1 (53%) and 2 (3%) hours, and decreased pgl after 3 hours (20%). honey elevated pgl after 1 hour (14%) and decreased it after 3 hours (10%). elevation of insulin and c-peptide was significantly higher after dextrose than after honey. dextrose slightly reduced cholesterol and low-density lipoprotein-cholesterol (ldl-c) after 1 hour and significantly after 2 hours, and increased tg after 1, 2, and 3 hours. artificial honey slightly decreased cholesterol and ldl-c and elevated tg. honey reduced cholesterol, ldl-c, and tg and slightly elevated high-density lipoprotein-cholesterol (hdl-c). honey consumed for 15 days decreased cholesterol (7%), ldl-c (1%), tg (2%), crp (7%), homocysteine (6%), and pgl (6%), and increased hdl-c (2%). in patients with hypertriglyceridemia, artificial honey increased tg, while honey decreased tg. in patients with hyperlipidemia, artificial honey increased ldl-c, while honey decreased ldl-c. honey decreased cholesterol (8%), ldl-c (11%), and crp (75%) after 15 days. in diabetic patients, honey compared with dextrose caused a significantly lower rise of pgl. elevation of pgl was greater after honey than after sucrose at 30 minutes, and was lower after honey than it was after sucrose at 60, 120, and 180 minutes. honey caused greater elevation of insulin than sucrose did after 30, 120, and 180 minutes. honey reduces blood lipids, homocysteine, and crp in normal and hyperlipidemic subjects. honey compared with dextrose and sucrose caused lower elevation of pgl in diabetics.\n",
      "['herb_entity_2909', 'reduc', 'tg', 'elev', 'drug_entity_4272']\n",
      "24\n",
      "eschscholzia californica produces various types of isoquinoline alkaloids. the structural diversity of these chemicals is often due to cytochrome p450 (p450) activities. members of the cyp719a subfamily, which are found only in isoquinoline alkaloid-producing plant species, catalyze methylenedioxy bridge-forming reactions. in this study, we isolated four kinds of cyp719a genes from e. californica to characterize their functions. these four cdnas encoded amino acid sequences that were highly homologous to coptis japonica cyp719a1 and e. californica cyp719a2 and cyp719a3, which suggested that these gene products may be involved in isoquinoline alkaloid biosynthesis in e. californica, especially in methylenedioxy bridge-forming reactions. expression analysis of these genes showed that two genes (cyp719a9 and cyp719a11) were preferentially expressed in plant leaf, where pavine-type alkaloids accumulate, whereas the other two showed higher expression in root than in other tissues. they were suggested to have distinct physiological functions in isoquinoline alkaloid biosynthesis. enzyme assay analysis using recombinant proteins expressed in yeast showed that cyp719a5 had cheilanthifoline synthase activity, which was expected based on the similarity of its primary structure to that of argemone mexicana cheilanthifoline synthase (deposited at ddbj/genbanktrade mark/embl). in addition, enzyme assay analysis of recombinant cyp719a9 suggested that it has methylenedioxy bridge-forming activity toward (r,s)-reticuline. cyp719a9 might be involved in the biosynthesis of pavine- and/or simple benzylisoquinoline-type alkaloids, which have a methylenedioxy bridge in an isoquinoline ring, in e. californica leaf.\n",
      "['herb_entity_1477', 'produc', 'type', 'drug_entity_4080', 'alkaloid']\n",
      "25\n",
      "rapamycin is an important natural macrolide antibiotic with antifungal, immunosuppressive and anticancer activity produced by streptomyces hygroscopicus. in this study, a mutant strain obtained by ultraviolet mutagenesis displayed higher rapamycin production capacity compared to the wild-type s. hygroscopicus atcc 29253. to gain insights into the mechanism of rapamycin overproduction, comparative metabolic profiling between the wild-type and mutant strain was performed. a total of 86 metabolites were identified by gas chromatography-mass spectrometry. pattern recognition methods, including principal component analysis, partial least squares and partial least squares discriminant analysis, were employed to determine the key biomarkers. the results showed that 22 potential biomarkers were closely associated with the increase of rapamycin production and the tremendous metabolic difference was observed between the two strains. furthermore, metabolic pathway analysis revealed that amino acids metabolism played an important role in the synthesis of rapamycin, especially lysine, valine, tryptophan, isoleucine, glutamate, arginine and ornithine. the inadequate supply of amino acids, or namely \"nitrogen starvation\" occurred in the mutant strain. subsequently, the exogenous addition of amino acids into the fermentation medium of the mutant strain confirmed the above conclusion, and rapamycin production of the mutant strain increased to 426.7 mg/l after adding lysine, approximately 5.8-fold of that in the wild-type strain. finally, the results of real-time pcr and enzyme activity assays demonstrated that dihydrodipicolinate synthase involved with lysine metabolism played vital role in the biosynthesis of rapamycin. these findings will provide a theoretical basis for further improving production of rapamycin.\n",
      "['drug_entity_862', 'macrolid', 'activ', 'produc', 'herb_entity_4078']\n",
      "26\n",
      "the isocitrate lyase activity (e.c. 4.1.3.1.) from watermelon cotyledons (citrullus vulgaris schrad.) is inhibited by white light (fig. 5). to exclude artefacts during enzyme preparation the following experiments were performed (table 1 and 2): 1. mixing of raw extracts from cotyledons of light and dark grown seedlings. 2. joint homogenization a) of cotyledons from light and dark grown seedlings, b) of purified isocitrate lyase together with cotyledons from light or dark grown seedlings. the total activity corresponded to an amount which was expected for the sum of the individual activities. the results justify the conclusion that the inhibition of the isocitrate lyase by light is real, and that the measured enzyme activities are close to the true enzyme concentrations in the plant tissue. - the relatively slow inhibition of the enzyme activity caused by light seems to be correlated with the formation of the photosynthetic apparatus.\n",
      "['melon', 'cotyledon', 'herb_entity_166', 'inhibit', 'light', 'drug_entity_8682']\n",
      "27\n",
      "seven plants in the top rank were selected from the \"manosroi iii\" database using the two thai keywords which meant impotence and sexual tonic. boesenbergia rotunda (l.) mansf. extract [edp1-001(1)] gave the highest pde inhibition activity of 4.36-fold sildenafil, a standard anti-impotence drug. plumbago indica linn. extract [edp2-001(1)] exhibited the highest no release stimulation activity of 666.85% which was 1.50-fold acetylcholine, a standard drug. most selected plant extracts were nontoxic to ea.hy926 cells at 1.0 mg/ml. edp1-001(1) exhibited the ld50 value of acute oral toxicity in male icr mice of over 5,000 mg/kg body weight. edp1-001(1) also indicated the improvement of sexual behaviors in the paroxetine-induced sexual dysfunction male mice with the evaluation of number of courtships (nc), mount frequency (mf), intromission frequency (if), and ejaculatory frequency (ef) at 87.67 ± 6.17, 121.00 ± 23.50, 36.00 ± 3.21, and 13.67 ± 2.96 which were 2.63-, 1.27-, 0.53-, and 0.62-fold sildenafil-treated mice at day 14 of the treatments, respectively. the present study has not only confirmed the traditional use of thai plants for the treatment of ed but also indicated the potential and application of the \"manosroi iii\" database for thai plant selection to be developed as ed food supplements.\n",
      "['herb_entity_6455', 'edp1-001', 'gave', 'inhibit', 'activ', 'drug_entity_193', 'drug']\n",
      "29\n",
      "mentha species are used in every day life in various food items. these species produce valuable secondary metabolites that scavenge toxic free radicals. toxic free radicals can cause different diseases in the human body. in the present study free radical scavenging potential (1,1-diphenyl-2-picrylhydrazyl scavenging activity) in nine mentha species were investigated to evaluate and explore new potential sources for natural antioxidants. the activity was performed after different time intervals with incubation period of 30 minutes. the methanolic extracts revealed that significantly higher activity (82%) was observed in mentha suaveolens, followed by mentha longifolia (79%), mentha officinalis (76%) and mentha piperita, mentha pulegium, mentha royleana (75%), respectively. significantly same activity was observed in mentha arvensis and mentha spicata. lower activity was observed in mentha citrata (64%). the present study revealed that these species can be used as natural antioxidants.\n",
      "['signi', 'drug_entity_3194', 'activ', 'observ', 'arvensi', 'herb_entity_9831']\n",
      "30\n",
      "non-steroidal anti-inflammatory drugs (nsaids), such as ibuprofen, are widely used over-the-counter drugs to treat arthritis, but they are often associated with side effects. herbal medicines have been used to treat various diseases such as arthritis, but the scientific profiles are not well understood. in this study, we examined, in comparison with ibuprofen, the inhibitory effects on various inflammatory markers of the most commonly used herbal medicines to treat arthritis, boswellia (boswellia sapindales), licorice (glycyrrhiza glabra), guggul (commiphora wightii), and neem (azadirachta indica). to elicit inflammatory response, we exposed mouse myoblast c2c12 cells to lipopolysaccharide (lps). tumor necrosis factor-alpha (tnf-α) and monocyte chemotactic protein-1 (mcp-1), which are cytokines activated during an inflammatory response, were determined. the optimal non-toxic concentration was determined by exposing different concentrations of drugs (from 0.01 to 10 mg/ml). cell death measurement revealed that the drug concentrations lower than 0.05 mg/ml were non-toxic concentrations for each drug, and these doses were used for the main experiments. we found that neem and licorice showed robust anti-inflammatory responses compared with ibuprofen. however, boswellia and guggul did not demonstrate significant anti-inflammatory responses. we concluded that neem and licorice are more effective than ibuprofen in suppressing lps-induced inflammation in c2c12 cells.\n",
      "['found', 'neem', 'herb_entity_10082', 'show', 'respons', 'compar', 'drug_entity_1034']\n",
      "31\n",
      "in the present investigation an attempt has been made to enhance rosmarinic acid level in plants, grown in vitro, of 2 species of mentha in presence of 2 precursors in the nutrient media during culture. for in vitro culture establishment and shoot bud multiplication, ms basal media were used supplemented with different concentrations and combinations of different growth regulator like naa (alpha-napthaleneacetic acid), bap (6-benzylaminopurine). the medium containing naa (0.25 mg/l) and bap (2.5 mg/l) gave the highest potentiality of shoot formation (average 58.0 numbers of shoots) per explant for mentha piperita l. and the medium containing bap (2.0 mg/l) gave the highest potentiality of shoot (average 19.2 numbers of shoots) formation per explant for mentha arvensis l. the complete plants were regenerated in above mentioned media after 8 weeks of subculture. for in vitro enhancement of rosmarinic acid production, the 2 precursors tyrosine (tyr) and phenylalanine (phe) were added in the nutrient media at different levels (0.5 mg/l to 15.0 mg/l). tyrosine was found to be very effective for augmenting rosmarinic acid content in mentha piperita l. it nearly increased the production up to 1.77 times. in case of mentha arvensis l., phenylalanine significantly affected the production of rosmarinic acid and the production was nearly 2.03 times more than the control. no significant increase in biomass was observed after addition of these precursors indicating that the added amino acids acting as precursors for rosmarinic acid synthesis were readily utilized in producing rosmarinic acid without promoting growth. total protein profile also revealed the presence of a specific band in polyacrylamide gel electrophoresis.\n",
      "['drug_entity_126', 'found', 'augment', 'acid', 'content', 'herb_entity_920']\n",
      "32\n",
      "intestinal helmintic infection, continue to be a cause of major concern in several parts of the world, particularly in the developing nations. the use of plant extracts to control poultry helminths is increasing in different rearing systems. the anthelmintic activity of ginger and curcumin was studied on the nematode ascaridia galli. in vitro and in vivo studies were allocated. live parasites for in vitro studies were collected from the intestine of naturally infected chickens. some living worms were incubated at 37 °c in media containing ginger at three concentration levels (25, 50, and 100 mg/ml), and others were incubated in media containing curcumin at the same concentration levels. another living worm group was incubated in media containing albendazole at a dose of 7.5 mg/ml. the extracts' efficacy was exhibited in a concentration-time-dependent manner mainly at 100 mg/ml and after 48 h. the in vivo study takes place on experimentally infected chickens. group of infected chickens was treated with ginger extract at dose of 100 mg, another group was treated with curcumin extract at dose of 100 mg, and a third group was treated with albendazole at dose of 7.5 mg. in vivo study of ginger and curcumin recorded lower mortality rates than the in vitro study. it is concluded that ginger and curcumin extracts have potential anthelmintic properties against a. galli. ginger in all concentrations used exhibited a higher death rate observed than curcumin. their wormicidal effect is concentration-time dependent.\n",
      "['herb_entity_1471', 'concentr', 'use', 'exhibit', 'death', 'rate', 'observ', 'drug_entity_8879']\n",
      "33\n",
      "aloe vera is widely used locally in communities in uganda as a medicinal plant. it is said to contain various nutrient substances and vitamins that have curative properties. it is said to heal a variety of diseases in various communities. however the extent of use of this potential medicinal plant in uganda and the various ailments for which it is used and the treatment outcomes are not clearly established and documented. in this cross-sectional study, carried out in august 2012 in kitagata sub-county in sheema district in western uganda, data was collected from 131 randomly selected adult respondents using an interviewer administered semi-structured questionnaire. key informants interviews and focused group discussions were also carried out with purposively selected participants. data were collected on social demographic characteristics, practices and beliefs about aloe vera. the data were analyzed using excel version 2007 and epi_info software. to get the proportion of the community that use aloe vera, the number of respondents that use aloe vera was expressed as a percentage of the total number of respondents. it was found out that all the respondents (100%) know aloe vera plant, 96.1% think that it can cure and 84.7% have ever used it. 90.9% of the respondents believe that aloe vera is effective in curing ailments. 82.9% of these strongly believe in aloe vera's effectiveness. the diseases reported included malaria (31%), wounds (23%), abdominal pains (16%) and skin diseases (9%) among others. it was significantly noted that all the participants who had ever used aloe vera still believe in it. 92.0% respondents reported that they can recommend aloe vera to a friend or relative. only one participant strongly disagrees that aloe vera has any curative properties and has never used it.\n",
      "['drug_entity_3194', 'note', 'particip', 'use', 'herb_entity_7746', 'believ']\n",
      "34\n",
      "the aim of this study was to carry out biomonitoring with honeybees (apis mellifera l.) to assess the presence of pesticides and heavy metals (cadmium, chromium, nickel, lead) in all of the ten nature reserves of the marche region (central–eastern italy). the study was carried out during the spring and summer seasons when the honeybees were active, over 3 years (2008–2010). twenty-two colonies of honeybees bred in hives were used. samples of live and dead honeybees and of honey were collected from 11 sampling stations from may to october in each year. no pesticide pollution was found. significant differences in heavy metal concentrations were found among years, months and sites, and in particular situations. the analysis reveals that high heavy-metal concentrations occurred exclusively in live honeybees. for the seasonal averages, the most detected heavy metal was chromium, which exceeded the threshold more often than for the other elements, followed by cadmium and lead; nickel never exceeded the threshold. the data are discussed with an evaluation of the natural and anthropic sources taken from the literature and from local situations that were likely to involve heavy metal pollution.\n",
      "['analysi', 'drug_entity_8661', 'concentr', 'occur', 'herb_entity_2909', 'bee']\n",
      "35\n",
      "opioids are extensively used for the management of both chronic malignant and non malignant pains. one major serious limitation associated with chronic use of opioids is the development of tolerance to its analgesic effect. the effect of bacopa monnieri, a renowned ayurvedic medicine for acquisition and expression of morphine tolerance in mice, was investigated. bacopa monnieri, n-butanol fraction was analyzed on high performance liquid chromatography (hplc), for bacopaside a major components i.e. bacoside a(3), bacopaside ll and bacosaponin c. antinociceptive effect of n-butanol extract of bacopa monnieri (n bt-ext bm) (5, 10 and 15 mg/kg) was assessed on hot plate. effect of different doses of n bt-ext bm on morphine antinociception was also assessed. n bt-ext bm was also screened for development of tolerance to antinociceptive effect of bacopa monnieri by administering 15 mg/kg n bt-ext bm for seven days. tolerance to morphine analgesia was induced in mice by administering intraperitoneally (i.p.) 20 mg/kg morphine twice daily for five days. acute and chronic administration of 5, 10 and 15 mg/kg n bt-ext bm significantly reduced both expression and development of tolerance to morphine analgesia in mice. additionally, bacopa monnieri was found to enhance antinociceptive effect of morphine in intolerant animals. however, no tolerance to bacopa monnieri antinociceptive effect was observed in seven days treatment schedule. these findings indicate effectiveness of bacopa monnieri for management of morphine tolerance.\n",
      "['herb_entity_1130', 'found', 'enhanc', 'effect', 'drug_entity_285', 'anim']\n",
      "36\n",
      "progesterone was converted to 5alpha-pregnane-3alpha-ol-20-one, delta4-pregnene-20alpha-ol-3-one, delta4-pregnene-14alpha-ol-3,20-dione, delta4-pregnene-7beta,14alpha-diol-3,20-dione, and delta4-pregnene-6beta,11alpha-diol-3,20-dione by cell cultures of lycopersicon esculentum. cell cultures of capsicum frutescens (green) metabolized progesterone to delta4-pregnene-20alpha-ol-3-one in very high yield, and vinca rosea yielded delta4-pregnene-20beta-ol-3-one and delta4-pregnene-14alpha-ol-3,20-dione. a stereospecific reduction of the keto groups and a double bond and stereospecific introduction of hydroxyl groups at the 6, 11, and 14 positions have been observed. the mono- and dihydroxylated progesterones have not previously been reported as metabolic products of progesterone by plant cell systems and represent de novo hydroxylation of a nonglycosylated steroid.\n",
      "['drug_entity_384', 'convert', 'delta4-pregnene-20alpha-ol-3-on', 'delta4-pregnene-14alpha-ol-3,20-dion', 'delta4-pregnene-7beta,14alpha-diol-3,20-dion', 'delta4-pregnene-6beta,11alpha-diol-3,20-dion', 'cell', 'cultur', 'herb_entity_4386']\n",
      "37\n",
      "a review is presented of 302 cases in east denmark in 1982-1986 in which the manner of death was fatal carbon monoxide (co) poisoning. the incidence of this far too frequent single-substance poisoning has as yet not decreased over the years despite preventive measures. the number of fatal co poisoning cases may diminish as a result of a natural gas project in progress. the purpose of this survey, therefore, is to contribute to the evaluation of the actual causes of these fatal poisonings in east denmark, and to discuss existing measures that prevent gas poisonings, in the expectation of a decline both in gas suicides and in accidental gas poisonings within the next few years.\n",
      "['incid', 'drug_entity_5323', 'oison', 'decreas', 'herb_entity_4798', 'ar', 'measur']\n",
      "38\n",
      "purpose/objectives\n",
      "to evaluate the effect of ginger as an antiemetic modality for the control of chemotherapy-induced nausea and vomiting (cinv).\n",
      "\n",
      "\n",
      "data sources\n",
      "databases searched included medline® (pubmed), embase, cinahl®, cochrane central register of controlled trials, korean studies information service system, research information sharing service by the korean education and research information service, and dissertation central.\n",
      "\n",
      "\n",
      "data synthesis\n",
      "a systematic review was conducted of five randomized, controlled trials involving 872 patients with cancer. ginger was compared with placebo or metoclopramide. the participant characteristics, chemotherapy regimen and antiemetic control, ginger preparation and protocol, measurements, results of the studies, adherence to the treatment protocol, and side effects were reviewed systematically. the incidence and severity of acute and delayed cinv were subject to meta-analysis. the incidence of acute nausea (p = 0.67), incidence of acute vomiting (p = 0.37), and severity of acute nausea (p = 0.12) did not differ significantly between the ginger and control groups.\n",
      "\n",
      "\n",
      "conclusions\n",
      "current evidence does not support the use of ginger for the control of cinv. ginger did not contribute to control of the incidence of acute nausea and vomiting or of the severity of acute nausea.\n",
      "\n",
      "\n",
      "implications for nursing\n",
      "ginger has long been regarded as a traditional antiemetic modality, but its effectiveness remains to be established. the findings of this study could be incorporated into clinical guidelines, such as the oncology nursing society's putting evidence into practice resources. current evidence supports the need for more methodologically rigorous studies in this area.\n",
      "\n",
      "\n",
      "knowledge translation\n",
      "although ginger is known as a traditional antiemetic, current evidence does not support the effect of ginger in cinv control. the findings of this study inform healthcare providers that its effectiveness remains to be established from methodologically rigorous future trials.\n",
      "['herb_entity_1471', 'compar', 'placebo', 'drug_entity_1216']\n",
      "39\n",
      "the mammalian hyaluronidase degrades hyaluronic acid by the cleavage of the β-1,4-glycosidic bond furnishing a tetrasaccharide molecule as the main product which is a highly angiogenic and potent inducer of inflammatory cytokines. ursolic acid 1, isolated from prismatomeris tetrandra, was identified as having the potential to develop inhibitors of hyaluronidase. a series of ursolic acid analogues were either synthesized via structure modification of ursolic acid 1 or commercially obtained. the evaluation of the inhibitory activity of these compounds on the hyaluronidase enzyme was conducted. several structural, topological and quantum chemical descriptors for these compounds were calculated using semi empirical quantum chemical methods. a quantitative structure activity relationship study (qsar) was performed to correlate these descriptors with the hyaluronidase inhibitory activity. the statistical characteristics provided by the best multi linear model (bml) (r² = 0.9717, r²cv = 0.9506) indicated satisfactory stability and predictive ability of the developed model. the in silico molecular docking study which was used to determine the binding interactions revealed that the ursolic acid analog 22 had a strong affinity towards human hyaluronidase.\n",
      "['acid', 'isol', 'herb_entity_5073', 'identifi', 'develop', 'inhibitor', 'drug_entity_67']\n",
      "40\n",
      "we have reported that cordycepin, an adenosine derivative from the fungus cordyceps, increased interleukin (il)-10 expression, decreased il-2 expression and suppressed t lymphocyte activity. in the present study, we further characterized the regulatory effects of cordycepin on human immune cells. moreover, a traditional chinese drug, cordyceps sinensis (cs) that contains cordycepin, was also investigated. cytometric bead array (cba) was used to determine the concentrations of il-1beta, il-2, il-4, il-5, il-6, il-8, il-10, il-12, tnf-alpha and ifn-gamma in culture of peripheral blood mononuclear cells (pbmcs). the results showed that both cordycepin and cs up-regulated il-10, il-1beta, il-6, il-8 and tnf-alpha; at the same time, they suppressed phytohemagglutinin (pha)-induced production of il-2, il-4, il-5, ifn-gamma and il-12. as compared to cordycepin, cs displayed its regulatory effects on il-2 and il-10 in a similar dose-dependent manner even with higher efficiency. the binding activity of transcription factors in a human monocytic cell line thp-1 was tested by the trans-am method, and a higher binding activity of sp1 and sp3 was observed in cordycepin or cs treated cells compared to the control. these results led to the opinion that cordycepin and cs pleiotropically affected the actions of immune cells and cytokine network in a similar fashion. cordycepin could be an important immunoregulatory active ingredient in cordyceps sinensis. in addition, cs may contain substances which possess synergism with cordycepin, as cs showed a higher efficiency in the production of il-10 and il-2 than cordycepin. however, merits of these effects in pharmacology and clinical medicine have yet to be proven and the precise mechanism of these immune regulatory actions should be researched.\n",
      "['drug_entity_9818', 'immunoregulatori', 'ingredi', 'herb_entity_1443']\n",
      "41\n",
      "mycelium and spores ofmicrodochium nivale /syn.fusarium nivale/ were compared according to their ability to infect plants oflolium perenne. the experiments were carried out according to the \"cold chamber\" method (cormack, lebeau 1956 modified by pronczuk 1987). between these two types of inoculum significant differences were found. the spore inoculum did not give any symptoms while the mycelial inoculum incited a severe disease in plants oflolium perenne during one month of incubation.under laboratory conditions it was found that the spore cultures ofmicrodochium nivale grew very slowly at 0 - 1°c, whereas their growth at 18 - 20°c was very fast. growth of the mycelial cultures was not as profoundly affected by temperatures studied as the spore ones.it was concluded that to incite a disease the spore inoculum require longer incubation time than mycelial ones. the mycelial inoculum is more useful for screening of plants for resistsance.\n",
      "['herb_entity_7221', 'compar', 'accord', 'abil', 'infect', 'plant', 'drug_entity_8473']\n",
      "43\n",
      "elevated plasma renin activity was found in 6 out of 7 essential hypotensive patients. this was taken to reflect some abnormality in sodium handling, and they were treated with synthetic calcium glycyrrhetinyl-glycinate (g.g.), a water soluble derivative of glycyrrhetinic acid which was derived from licorice. g.g. was administrated in doses of 300 mg to 1200 mg daily for 3 to 9 weeks. both the systolic (25.8 +/- 10.0 mmhg) and diastolic (19.2 +/- 9.8 mmhg) blood pressure successfully elevated and improvement or resolution of clinical symptoms was noted in 6 patients. marked suppression in plasma renin activity (2.7 +/- 1.2 ng/ml/hr) and plasma aldosterone concentration (8.1 +/- 3.1 ng/100 ml) with mild reduction in serum potassium concentration (1.0 +/- 0.4 meq/l) were concomitantly observed. one patient did not respond at all to g.g. adverse reactions were mild in all but one who had frank edema.\n",
      "['drug_entity_8088', 'deriv', 'acid', 'deriv', 'herb_entity_10082']\n",
      "44\n",
      "in the present study, we evaluated the antiviral efficacy of the silver nanoparticles (snps) against peste des petits ruminants virus (pprv), a prototype morbillivirus. the leaf extract of the argemone maxicana was used as a reducing agent for biological synthesis of the snps from silver nitrate. the snps were characterized using uv-vis absorption spectroscopy, x-ray diffraction (xrd) and transmission electron microscopy (tem). the tem analysis revealed particle size of 5-30 nm and the xrd analysis revealed their characteristic silver structure. the treatment of vero cells with the snps at a noncytotoxic concentration significantly inhibited pprv replication in vitro. the time-course and virus step-specific assays showed that the snps impair pprv replication at the level of virus entry. the tem analysis showed that the snps interact with the virion surface as well with the virion core. however, this interaction has no direct virucidal effect, instead exerts a blocking effect on viral entry into the target cells. this is the first documented evidence indicating that the snps are capable of inhibiting a morbillivirus replication in vitro.\n",
      "['extract', 'herb_entity_3116', 'maxicana', 'use', 'reduc', 'agent', 'synthesi', 'snp', 'drug_entity_9029']\n",
      "45\n",
      "a dna system consisting of pyrene-modified oligonucleotides and nitrobenzoate (nb)-modified dna-binding tripeptides has been applied to study electron-transfer processes through the dna-peptide interface. 5-(pyren-1-yl)-2'-deoxyuridine (py-du) has been used as the photoinducible charge generator. upon excitation at 350 nm, a pyrene-like excited state (py-du) is formed which undergoes an electron transfer yielding the charge-separated state which is the contact ion pair py(*)(+)-du(*)(-). the subsequent electron shift from du(*)(-) into the base stack competes with charge recombination and can be probed chemically by trapping the electron at the 5-bromo-2'-deoxyuridine (br-du) group leading to strand cleavage which can be quantified by hplc analysis. several nb-modified dna-binding tripeptides influence these dna-mediated electron-transfer processes as shown by fluorescence spectroscopy experiments. fluorescence quenching can occur primarily through a reductive electron-transfer process in which the nb group traps the electron thermodynamically from the contact ion pair py(*)(+)-du(*)(-). moreover, our results indicate that, once the negative charge has been trapped on the peptide, oxidative processes from py(*)(+) take place resulting in an enhanced and nonspecific strand degradation of the py-du-modified duplexes. the latter type of strand cleavage can be inhibited by the presence of tryptophane or tyrosine as part of the peptides. most remarkably, dna-binding tripeptides, which bear both the nb and the tryptophan/tyrosine moiety, are able to trap both the negative and the positive charge from the contact ion pair py(*)(+)-du(*)(-).\n",
      "['drug_entity_2139', 'py-du', 'use', 'char', 'herb_entity_8325', 'erat']\n",
      "46\n",
      "objective\n",
      "the aim of the study was to evaluate the efficacy of benfotiamine administered over three weeks (allithiamine; a lipid-soluble vitamin b1 prodrug with high bioavailability) to patients with diabetic polyneuropathy in a randomized, placebo-controlled, double-blind, two-center pilot study.\n",
      "\n",
      "\n",
      "material and methods\n",
      "forty inpatients (23 male, 18 female, age range 18 - 70 years) with a history of type 1 or 2 diabetes and polyneuropathy of not longer than two years, were included in the study. twenty patients received two 50 mg benfotiamine tablets four times daily and 20 patients received placebo over the three-week study period. two clinical units were involved with 10 patients receiving placebo and 10 patients benfotiamine in each. the neuropathy score according to katzenwadel et al. [1987] was used to evaluate symptoms of polyneuropathy, vibration perception threshold and both the physician's and the patient's own assessment were documented.\n",
      "\n",
      "\n",
      "results\n",
      "a statistically significant (p = 0.0287) improvement in the neuropathy score was observed in the group given active drug when compared to the placebo-treated controls. there was no statistically significant change observed in the tuning fork test. the most pronounced effect on complaints was a decrease in pain (p = 0.0414). more patients in the benfotiamine-treated group than in the placebo group considered their clinical condition to have improved (p = 0.052). no side effects attributable to benfotiamine were observed. the differences between the groups cannot be attributed to a change in metabolic parameters since there were no significant alterations in the hba1 levels and blood sugar profiles. the body mass index of the two groups did not differ.\n",
      "\n",
      "\n",
      "conclusion\n",
      "this pilot investigation (bedip study) has confirmed the results of two earlier randomized controlled trials and has provided further evidence for the beneficial effects of benfotiamine in patients with diabetic neuropathy.\n",
      "['drug_entity_3194', 'chang', 'observ', 'herb_entity_4754', 'ing', 'test']\n",
      "47\n",
      "results from five completed and two ongoing phase iii trials comparing 5-fluorouracil (5-fu) with 5-fu and leucovorin (lv) for the treatment of advanced, previously untreated colorectal carcinoma are reviewed. in five of these studies, 5-fu/lv was shown to provide a significantly higher response rate than 5-fu alone. partial response rates resulting from the combination ranged from 16% to 45%, while those obtained with 5-fu alone were 5% to 18%. complete responses with either treatment occurred in 0% to 8% of the patients treated. in two of the studies, 5-fu treatment prolonged median survival by 3 and 6 months. the planned dose intensities (di) for single-agent 5-fu ranged from 463 to 760 mg/m2/week, and the actual delivered di, established in two of the trials, were 531 and 533 mg/m2/week. the planned 5-fu di for the 5-fu/lv combination ranged from 463 to 600 mg/m2/week compared with the delivered di of 461 and 463 mg/m2/week. when used with lv, 5-fu cannot be administered at the single-agent maximum tolerated dose because of unacceptable toxicity. nevertheless, lower doses of 5-fu, when combined with lv, had higher response rates than 5-fu alone. significant toxicity occurred with 5-fu and with the combination. the addition of lv to 5-fu changed the type of toxicity that resulted; that toxicity varied with the schedule followed. the real, but modest improvement that resulted from the combination of 5-fu with the metabolic modulator lv offers the possibility that the administration of 5-fu/lv in the adjuvant setting will prolong survival and increase the percentage of patients cured of their disease. furthermore, other compounds that modulate the effects of 5-fu may be capable of providing additional therapeutic benefits.\n",
      "['signi', 'drug_entity_3194', 'toxic', 'occur', 'herb_entity_4683', 'combin']\n",
      "49\n",
      "objectives\n",
      "this in vitro study evaluated the antimicrobial effects of commercial toothpastes containing natural compounds.\n",
      "\n",
      "\n",
      "materials and methods\n",
      "the study groups were divided based on the natural compound present in the toothpaste composition: sorbitol (i), tocopherol (ii), mint (iii), cinnamon/mint (iv), propolis/melaleuca (v), mint/açai (vi), mint/guarana (vii), propolis (viii), negative control (ix), and the positive control (x). the antimicrobial properties of the toothpastes were tested using the disk diffusion method against oral pathogens: streptococcus mutans, pseudomonas aeruginosa, and enterococcus faecalis. the resulting inhibition halos were measured in millimeters.\n",
      "\n",
      "\n",
      "results\n",
      "the data indicated that the bacteria responded differently to the toothpastes (p < 0.0001). the diameters of the inhibition halos against s. mutans were in decreasing order of efficacy: propolis/melaleuca > mint/guarana > mint/açai > sorbitol > tocopherol > cinnamon/mint > propolis > mint (p < 0.001 vs. negative control). e. faecalis showed variable responses to the dentifrices in the following order of decreasing efficacy: mint/guarana > propolis > sorbitol > mint/açai > tocopherol > cinnamon/mint > mint = propolis/melaleuca = negative control. the product with the highest antimicrobial activity was mint/guarana, which was significantly different than propolis/melaleuca, mint, cinnamon/mint, and tocopherol and negative control (p < 0.001). the statistical analysis indicated that propolis, sorbitol, and mint/açai did not show any differences compared to mint/guarana (p > 0.05) and positive control (p > 0.05). p. aeruginosa was resistant to all dental gels tested including positive control.\n",
      "\n",
      "\n",
      "conclusion\n",
      "the toothpastes with natural compounds have therapeutic potential and need more detailed searches for the correct clinic therapeutic application. the results from this study revealed differences in the antimicrobial activities of commercial toothpastes with natural compounds.\n",
      "['analysi', 'indic', 'propoli', 'drug_entity_1568', 'mint/açai', 'show', 'differ', 'compar', 'mint/', 'herb_entity_10079', 'control']\n"
     ]
    }
   ],
   "source": [
    "top =[ res[2][i] for i in sorted(res[2])[::-1][0:50] ]\n",
    "cheating = {}\n",
    "for i in top :\n",
    "    if str(i) in index  :\n",
    "        ab_dict = json.load(open('../data/preprocessing/abstract_extract_filtered_tracked/%s'%index[str(i)][0])) \n",
    "        print(top.index(i))\n",
    "        #print(pred_label[i])\n",
    "        #print(index[str(i)][1])\n",
    "        print(ab_dict[index[str(i)][1]])\n",
    "        print(sentences[i][1])\n",
    "        ''''''\n",
    "        for word in sentences[i][1][sentences[i][0][0]:sentences[i][0][1]] :\n",
    "            try :\n",
    "                cheating[word]+=1\n",
    "            except :\n",
    "                cheating[word] = 1\n",
    "\n",
    "for each in list(cheating):\n",
    "    if cheating[each] < 10 :\n",
    "        cheating.pop(each)\n",
    "        ''''''"
   ]
  },
  {
   "cell_type": "code",
   "execution_count": 248,
   "metadata": {},
   "outputs": [
    {
     "data": {
      "text/plain": [
       "{'activ': 12,\n",
       " 'cell': 36,\n",
       " 'combin': 10,\n",
       " 'drug_entity_3194': 14,\n",
       " 'express': 16,\n",
       " 'herb_entity_4798': 11,\n",
       " 'protein': 21,\n",
       " 'studi': 15,\n",
       " 'use': 20}"
      ]
     },
     "execution_count": 248,
     "metadata": {},
     "output_type": "execute_result"
    }
   ],
   "source": [
    "cheating"
   ]
  },
  {
   "cell_type": "code",
   "execution_count": 212,
   "metadata": {},
   "outputs": [],
   "source": [
    "clusters = {}\n",
    "for i in range(len(pred_label)) :\n",
    "    try :\n",
    "        clusters[pred_label[i]].append(sentences[i])\n",
    "    except :\n",
    "        clusters[pred_label[i]] = [sentences[i]]\n"
   ]
  },
  {
   "cell_type": "code",
   "execution_count": null,
   "metadata": {},
   "outputs": [],
   "source": [
    "[8809, 2600, 15402, 1710, 3396]"
   ]
  },
  {
   "cell_type": "code",
   "execution_count": 214,
   "metadata": {},
   "outputs": [],
   "source": [
    "clusters_dict = {}\n",
    "clusters_dict[1] = clusters[0]\n",
    "clusters_dict[3] = clusters[1]\n",
    "clusters_dict[4] = clusters[2]\n",
    "clusters_dict[2] = clusters[3]\n",
    "clusters_dict[0] = clusters[4]\n"
   ]
  },
  {
   "cell_type": "code",
   "execution_count": 233,
   "metadata": {},
   "outputs": [
    {
     "name": "stdout",
     "output_type": "stream",
     "text": [
      "9.0\n"
     ]
    }
   ],
   "source": [
    "keydict ={ 4 : ['use','inhibi','increas','show'], 0:['grown','root'],1:['express','combin','protein','cell'],2:['',''],3:['','']}\n",
    "check_cluster(clusters_dict[3],keys)"
   ]
  },
  {
   "cell_type": "code",
   "execution_count": 222,
   "metadata": {},
   "outputs": [],
   "source": [
    "def check_cluster(sentences,keys):\n",
    "    total = len(sentences)\n",
    "    count = 0\n",
    "    for each in sentences :\n",
    "        sentence = each[1]\n",
    "        if len(set(sentence[each[0][0]:each[0][1]]).intersection(keys)) != 0 :\n",
    "            count +=1\n",
    "    print((float(count)/total)*100)"
   ]
  },
  {
   "cell_type": "code",
   "execution_count": 77,
   "metadata": {},
   "outputs": [],
   "source": [
    "def daviesbouldin(X, labels, centroids):\n",
    "\n",
    "    import numpy as np\n",
    "    from scipy.spatial.distance import pdist, euclidean\n",
    "\n",
    "    nbre_of_clusters = len(centroids) #Get the number of clusters\n",
    "    distances = [[] for e in range(nbre_of_clusters)] #Store intra-cluster distances by cluster\n",
    "    distances_means = [] #Store the mean of these distances\n",
    "    DB_indexes = [] #Store Davies_Boulin index of each pair of cluster\n",
    "    second_cluster_idx = [] #Store index of the second cluster of each pair\n",
    "    first_cluster_idx = 0 #Set index of first cluster of each pair to 0\n",
    "\n",
    "    # Step 1: Compute euclidean distances between each point of a cluster to their centroid\n",
    "    for cluster in range(nbre_of_clusters):\n",
    "        for point in range(X[labels == cluster].shape[0]):\n",
    "            distances[cluster].append(euclidean(X[labels == cluster][point], centroids[cluster]))\n",
    "\n",
    "    # Step 2: Compute the mean of these distances\n",
    "    for e in distances:\n",
    "        distances_means.append(np.mean(e))\n",
    "\n",
    "    # Step 3: Compute euclidean distances between each pair of centroid\n",
    "    ctrds_distance = pdist(centroids) \n",
    "\n",
    "    # Tricky step 4: Compute Davies-Bouldin index of each pair of cluster   \n",
    "    for i, e in enumerate(e for start in range(1, nbre_of_clusters) for e in range(start, nbre_of_clusters)):\n",
    "        second_cluster_idx.append(e)\n",
    "        if second_cluster_idx[i-1] == nbre_of_clusters - 1:\n",
    "            first_cluster_idx += 1\n",
    "        DB_indexes.append((distances_means[first_cluster_idx] + distances_means[e]) / ctrds_distance[i])\n",
    "\n",
    "    # Step 5: Compute the mean of all DB_indexes   \n",
    "    print(\"DAVIES-BOULDIN Index: %.5f\" % np.mean(DB_indexes)) \n",
    "    return np.mean(DB_indexes)"
   ]
  },
  {
   "cell_type": "code",
   "execution_count": 78,
   "metadata": {},
   "outputs": [
    {
     "name": "stdout",
     "output_type": "stream",
     "text": [
      "DAVIES-BOULDIN Index: 2.15218\n",
      "DAVIES-BOULDIN Index: 1.57891\n",
      "DAVIES-BOULDIN Index: 1.64996\n",
      "DAVIES-BOULDIN Index: 1.67187\n",
      "DAVIES-BOULDIN Index: 1.68358\n",
      "DAVIES-BOULDIN Index: 1.23870\n",
      "DAVIES-BOULDIN Index: 1.25308\n",
      "DAVIES-BOULDIN Index: 1.28893\n",
      "DAVIES-BOULDIN Index: 1.28271\n",
      "DAVIES-BOULDIN Index: 1.30754\n",
      "DAVIES-BOULDIN Index: 1.33104\n",
      "DAVIES-BOULDIN Index: 1.32987\n",
      "DAVIES-BOULDIN Index: 1.34020\n",
      "DAVIES-BOULDIN Index: 1.32118\n",
      "DAVIES-BOULDIN Index: 1.32412\n",
      "DAVIES-BOULDIN Index: 1.33698\n",
      "DAVIES-BOULDIN Index: 1.33346\n",
      "DAVIES-BOULDIN Index: 1.34397\n",
      "DAVIES-BOULDIN Index: 1.34838\n",
      "DAVIES-BOULDIN Index: 1.34047\n",
      "DAVIES-BOULDIN Index: 1.32625\n",
      "DAVIES-BOULDIN Index: 1.32545\n",
      "DAVIES-BOULDIN Index: 1.32743\n",
      "DAVIES-BOULDIN Index: 1.31306\n",
      "DAVIES-BOULDIN Index: 1.32498\n",
      "DAVIES-BOULDIN Index: 1.29528\n",
      "DAVIES-BOULDIN Index: 1.32168\n",
      "DAVIES-BOULDIN Index: 1.29037\n",
      "DAVIES-BOULDIN Index: 1.31982\n",
      "DAVIES-BOULDIN Index: 1.28982\n",
      "DAVIES-BOULDIN Index: 1.29385\n",
      "DAVIES-BOULDIN Index: 1.27049\n",
      "DAVIES-BOULDIN Index: 1.28276\n",
      "DAVIES-BOULDIN Index: 1.27956\n",
      "DAVIES-BOULDIN Index: 1.27335\n",
      "DAVIES-BOULDIN Index: 1.26467\n",
      "DAVIES-BOULDIN Index: 1.25702\n",
      "DAVIES-BOULDIN Index: 1.24613\n",
      "DAVIES-BOULDIN Index: 1.24784\n",
      "DAVIES-BOULDIN Index: 1.26976\n",
      "DAVIES-BOULDIN Index: 1.21928\n",
      "DAVIES-BOULDIN Index: 1.23196\n",
      "DAVIES-BOULDIN Index: 1.24110\n",
      "DAVIES-BOULDIN Index: 1.21391\n",
      "DAVIES-BOULDIN Index: 1.21781\n",
      "DAVIES-BOULDIN Index: 1.20975\n",
      "DAVIES-BOULDIN Index: 1.23948\n",
      "DAVIES-BOULDIN Index: 1.22006\n"
     ]
    }
   ],
   "source": [
    "davie = {}\n",
    "calinski = {}\n",
    "X = np.load('../data/PCA/sen_vector_PCA.npy')\n",
    "for n_cluster in range(2,50) :\n",
    "    kmeans = KMeans(n_clusters=n_cluster, max_iter=1000).fit(X)\n",
    "    labels = kmeans.predict(X)\n",
    "    centroids = kmeans.cluster_centers_\n",
    "    davie[n_cluster] = daviesbouldin(X, labels, centroids)\n",
    "    calinski[n_cluster] =  sklearn.metrics.calinski_harabaz_score(X,labels)\n",
    "    "
   ]
  },
  {
   "cell_type": "code",
   "execution_count": null,
   "metadata": {},
   "outputs": [],
   "source": []
  }
 ],
 "metadata": {
  "kernelspec": {
   "display_name": "Python 3",
   "language": "python",
   "name": "python3"
  },
  "language_info": {
   "codemirror_mode": {
    "name": "ipython",
    "version": 3
   },
   "file_extension": ".py",
   "mimetype": "text/x-python",
   "name": "python",
   "nbconvert_exporter": "python",
   "pygments_lexer": "ipython3",
   "version": "3.6.1"
  }
 },
 "nbformat": 4,
 "nbformat_minor": 2
}
