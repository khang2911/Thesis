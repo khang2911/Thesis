{
 "cells": [
  {
   "cell_type": "code",
   "execution_count": 1,
   "metadata": {},
   "outputs": [
    {
     "name": "stderr",
     "output_type": "stream",
     "text": [
      "I:\\anaconda1\\lib\\site-packages\\gensim\\utils.py:1197: UserWarning: detected Windows; aliasing chunkize to chunkize_serial\n",
      "  warnings.warn(\"detected Windows; aliasing chunkize to chunkize_serial\")\n"
     ]
    }
   ],
   "source": [
    "import os\n",
    "import sys\n",
    "import json\n",
    "from sklearn.metrics import confusion_matrix\n",
    "import matplotlib\n",
    "import matplotlib.pyplot as plt\n",
    "import numpy as np\n",
    "import itertools\n",
    "from sklearn.metrics import accuracy_score\n",
    "from gensim.models import Word2Vec\n",
    "import time"
   ]
  },
  {
   "cell_type": "code",
   "execution_count": 2,
   "metadata": {},
   "outputs": [],
   "source": [
    "def plot_confusion_matrix(cm, classes,\n",
    "                          normalize=False,\n",
    "                          title='Confusion matrix',\n",
    "                          cmap=plt.cm.Blues):\n",
    "    \"\"\"\n",
    "    This function prints and plots the confusion matrix.\n",
    "    Normalization can be applied by setting `normalize=True`.\n",
    "    \"\"\"\n",
    "    if normalize:\n",
    "        cm = cm.astype('float') / cm.sum(axis=1)[:, np.newaxis]\n",
    "        print(\"Normalized confusion matrix\")\n",
    "    else:\n",
    "        print('Confusion matrix, without normalization')\n",
    "\n",
    "    print(cm)\n",
    "\n",
    "    plt.imshow(cm, interpolation='nearest', cmap=cmap)\n",
    "    plt.title(title)\n",
    "    plt.colorbar()\n",
    "    tick_marks = np.arange(len(classes))\n",
    "    plt.xticks(tick_marks, classes, rotation=45)\n",
    "    plt.yticks(tick_marks, classes)\n",
    "\n",
    "    fmt = '.2f' if normalize else 'd'\n",
    "    thresh = cm.max() / 2.\n",
    "    for i, j in itertools.product(range(cm.shape[0]), range(cm.shape[1])):\n",
    "        plt.text(j, i, format(cm[i, j], fmt),\n",
    "                 horizontalalignment=\"center\",\n",
    "                 color=\"white\" if cm[i, j] > thresh else \"black\")\n",
    "\n",
    "    plt.tight_layout()\n",
    "    plt.ylabel('True label')\n",
    "    plt.xlabel('Predicted label')\n",
    "    \n",
    "    \n",
    "''''''\n",
    "''''''\n",
    "\n",
    "def cm2pr_binary(cm):\n",
    "    p = cm[0,0]/np.sum(cm[:,0])\n",
    "    r = cm[0,0]/np.sum(cm[0])\n",
    "    return (p, r)\n",
    "\n",
    "''''''\n",
    "''''''\n",
    "def PR(tp, fp, fn):\n",
    "    P = float(tp)/(tp + fp)\n",
    "    R = float(tp)/(tp + fn)\n",
    "    return (P, R)"
   ]
  },
  {
   "cell_type": "code",
   "execution_count": null,
   "metadata": {},
   "outputs": [],
   "source": []
  },
  {
   "cell_type": "code",
   "execution_count": null,
   "metadata": {},
   "outputs": [],
   "source": []
  },
  {
   "cell_type": "code",
   "execution_count": 61,
   "metadata": {},
   "outputs": [],
   "source": [
    "count = 0\n",
    "for i in os.listdir('../data/clean_data/full_sentence/') :\n",
    "    a = json.load(open('../data/clean_data/full_sentence/%s'%i))\n",
    "    count+= (len(a)- a.count([]))"
   ]
  },
  {
   "cell_type": "code",
   "execution_count": 60,
   "metadata": {},
   "outputs": [
    {
     "data": {
      "text/plain": [
       "8194714"
      ]
     },
     "execution_count": 60,
     "metadata": {},
     "output_type": "execute_result"
    }
   ],
   "source": [
    "count"
   ]
  },
  {
   "cell_type": "code",
   "execution_count": 62,
   "metadata": {},
   "outputs": [
    {
     "data": {
      "text/plain": [
       "9478121"
      ]
     },
     "execution_count": 62,
     "metadata": {},
     "output_type": "execute_result"
    }
   ],
   "source": [
    "count"
   ]
  },
  {
   "cell_type": "code",
   "execution_count": 67,
   "metadata": {},
   "outputs": [
    {
     "name": "stdout",
     "output_type": "stream",
     "text": [
      "1497475\n",
      "1563225\n",
      "13480483785966\n"
     ]
    }
   ],
   "source": [
    "count_1 = 0\n",
    "count_2 = 0\n",
    "count_3 = 0\n",
    "count_4 = 0\n",
    "for i in os.listdir('../data/clean_data/only_entity//') :\n",
    "    a = json.load(open('../data/clean_data/only_entity/%s'%i))\n",
    "    count_1+= len([x for x in a if len(x) == 1 ])\n",
    "    count_2+= len([x for x in a if len(x) == 2 ])\n",
    "    count_3+= len([x for x in a if len(x) == 3 ])\n",
    "    count_4+= len([x for x in a if len(x) > 3 ])\n",
    "###\n",
    "print('%s\\n%s\\n%s\\n%s'%(count_1,count_2,count_3,count_4))"
   ]
  },
  {
   "cell_type": "code",
   "execution_count": 73,
   "metadata": {},
   "outputs": [
    {
     "name": "stdout",
     "output_type": "stream",
     "text": [
      "217658\n",
      "102868\n",
      "132494\n",
      "9021845\n"
     ]
    }
   ],
   "source": [
    "count_1 = 0\n",
    "count_2 = 0\n",
    "count_3 = 0\n",
    "count_4 = 0\n",
    "for i in os.listdir('../data/clean_data/without_adjective/') :\n",
    "    a = json.load(open('../data/clean_data/without_adjective/%s'%i))\n",
    "    count_1+= len([x for x in a if len(x) == 1 ])\n",
    "    count_2+= len([x for x in a if len(x) == 2 ])\n",
    "    count_3+= len([x for x in a if len(x) == 3 ])\n",
    "    count_4+= len([x for x in a if len(x) > 3 ])\n",
    "###\n",
    "print('%s\\n%s\\n%s\\n%s'%(count_1,count_2,count_3,count_4))"
   ]
  },
  {
   "cell_type": "code",
   "execution_count": null,
   "metadata": {},
   "outputs": [],
   "source": []
  },
  {
   "cell_type": "code",
   "execution_count": 2,
   "metadata": {},
   "outputs": [],
   "source": [
    "###### Import ref without effect\n",
    "ref = json.load(open('..//data/preprocessing/standard_ref/standard_ref_without_effect.json'))\n",
    "entity = open('..//data/clean_data/entity_replaced.csv').read().split('\\n')[:-1]"
   ]
  },
  {
   "cell_type": "code",
   "execution_count": 3,
   "metadata": {},
   "outputs": [],
   "source": [
    "###### Entity dict \n",
    "entity_dict = {}\n",
    "for row in entity :\n",
    "    entity_dict[row.split('\\t')[1]] = row.split('\\t')[0]"
   ]
  },
  {
   "cell_type": "code",
   "execution_count": 53,
   "metadata": {},
   "outputs": [
    {
     "name": "stdout",
     "output_type": "stream",
     "text": [
      "249\n"
     ]
    }
   ],
   "source": [
    "count = 0\n",
    "for drug in drug_herb_dict :\n",
    "    for herb in drug_herb_dict[drug] :\n",
    "        count+=1\n",
    "print(count)"
   ]
  },
  {
   "cell_type": "code",
   "execution_count": 4,
   "metadata": {},
   "outputs": [],
   "source": [
    "###### Ref pair drug - herb\n",
    "drug_herb_dict = {}\n",
    "for herb in ref :\n",
    "    for drug in ref[herb] :\n",
    "        try :\n",
    "            if entity_dict[drug] not in drug_herb_dict :\n",
    "                drug_herb_dict[entity_dict[drug]] = [entity_dict[herb]]\n",
    "            else :\n",
    "                drug_herb_dict[entity_dict[drug]].append(entity_dict[herb])\n",
    "        except :\n",
    "            pass"
   ]
  },
  {
   "cell_type": "code",
   "execution_count": 5,
   "metadata": {},
   "outputs": [],
   "source": [
    "###### Ref pair herb - drug \n",
    "herb_drug_dict = {}\n",
    "for herb in ref :\n",
    "    for drug in ref[herb] :\n",
    "        try :\n",
    "            if entity_dict[herb] not in herb_drug_dict :\n",
    "                herb_drug_dict[entity_dict[herb]] = [entity_dict[drug]]\n",
    "            else :\n",
    "                herb_drug_dict[entity_dict[herb]].append(entity_dict[drug])\n",
    "        except :\n",
    "            pass"
   ]
  },
  {
   "cell_type": "code",
   "execution_count": 45,
   "metadata": {},
   "outputs": [],
   "source": [
    "full = {'ERR': [0.49422730642940366, 0.4956973293768546, 0.49654874892148404, 0.4949664429530201, 0.5135135135135135, 0.5222222222222223], 'precis': [0.5058262711864406, 0.5044523597506678, 0.5043215211754538, 0.5084459459459459, 0.5294117647058824, 0.5119047619047619], 'recal': [0.5057726935705963, 0.5043026706231454, 0.503451251078516, 0.5050335570469798, 0.4864864864864865, 0.4777777777777778], 'F': [0.505799480959695, 0.5043775040807242, 0.5038860103626943, 0.5067340067340067, 0.5070422535211269, 0.49425287356321834]}\n",
    "\n",
    "only_entity = {'ERR': [0.4904996481351161, 0.483695652173913, 0.48158640226628896, 0.4810924369747899, 0.4766536964980545, 0.4782608695652174], 'precis': [0.5098591549295775, 0.5185589519650655, 0.5228571428571429, 0.5300429184549357, 0.5295275590551181, 0.5309734513274337], 'recal': [0.5095003518648838, 0.5163043478260869, 0.5184135977337111, 0.5189075630252101, 0.5233463035019456, 0.5217391304347826], 'F': [0.509679690249912, 0.5174291938997821, 0.5206258890469417, 0.524416135881104, 0.5264187866927593, 0.5263157894736842]}\n",
    "\n",
    "only_noun = {'ERR': [0.4944306930693069, 0.4936708860759494, 0.493431855500821, 0.4864864864864865, 0.4888392857142857, 0.4957627118644068], 'precis': [0.5056475321058332, 0.5070842654735273, 0.509075907590759, 0.5277777777777778, 0.5180995475113123, 0.5219298245614035], 'recal': [0.505569306930693, 0.5063291139240507, 0.506568144499179, 0.5135135135135135, 0.5111607142857143, 0.5042372881355932], 'F': [0.5056084164926125, 0.5067064083457526, 0.5078189300411522, 0.5205479452054794, 0.5146067415730338, 0.5129310344827586]}\n",
    "\n",
    "without_adj = {'ERR': [0.4943487018800358, 0.4951893234016139, 0.4965811965811966, 0.4977324263038549, 0.5, 0.5714285714285714], 'precis': [0.5057078903189703, 0.5049674014281279, 0.5042808219178082, 0.5057077625570776, 0.5227272727272727, 0.5], 'recal': [0.5056512981199642, 0.5048106765983861, 0.5034188034188034, 0.5022675736961452, 0.5, 0.42857142857142855], 'F': [0.5056795926361144, 0.5048890268508458, 0.5038494439692045, 0.503981797497156, 0.5111111111111111, 0.4615384615384615]}\n",
    "\n",
    "\n"
   ]
  },
  {
   "cell_type": "code",
   "execution_count": 51,
   "metadata": {},
   "outputs": [
    {
     "name": "stdout",
     "output_type": "stream",
     "text": [
      "full - F  0.5070422535211269\n",
      "only_entity - F  0.5264187866927593\n",
      "only_noun - F  0.5205479452054794\n",
      "without_adj - F  0.5111111111111111\n"
     ]
    }
   ],
   "source": [
    "print( 'full - F  ' + str(max(full['F'])) )\n",
    "print( 'only_entity - F  ' + str(max(only_entity['F'])) )\n",
    "print( 'only_noun - F  ' + str(max(only_noun['F'])) )\n",
    "print( 'without_adj - F  ' + str(max(without_adj['F']) ))"
   ]
  },
  {
   "cell_type": "code",
   "execution_count": 2,
   "metadata": {},
   "outputs": [],
   "source": [
    "path = '..//data/model/only_noun/300/model'\n",
    "model = Word2Vec.load(path)"
   ]
  },
  {
   "cell_type": "code",
   "execution_count": 37,
   "metadata": {},
   "outputs": [
    {
     "name": "stdout",
     "output_type": "stream",
     "text": [
      "drug_entity_463\n",
      "herb_entity_2736\n",
      "drug_entity_1520\n",
      "herb_entity_2736\n",
      "drug_entity_345\n",
      "herb_entity_2741\n",
      "drug_entity_424\n",
      "herb_entity_2496\n",
      "drug_entity_793\n",
      "herb_entity_2496\n",
      "drug_entity_510\n",
      "herb_entity_2496\n",
      "drug_entity_378\n",
      "herb_entity_2496\n",
      "drug_entity_1097\n",
      "herb_entity_2752\n",
      "drug_entity_273\n",
      "herb_entity_2752\n",
      "drug_entity_970\n",
      "herb_entity_2752\n",
      "drug_entity_355\n",
      "herb_entity_2752\n",
      "drug_entity_882\n",
      "herb_entity_2734\n",
      "drug_entity_765\n",
      "herb_entity_2734\n",
      "drug_entity_333\n",
      "herb_entity_2734\n",
      "drug_entity_5514\n",
      "herb_entity_2734\n",
      "drug_entity_690\n",
      "herb_entity_2734\n",
      "drug_entity_5329\n",
      "herb_entity_2734\n",
      "drug_entity_1034\n",
      "herb_entity_2755\n",
      "18\n",
      "1888\n"
     ]
    },
    {
     "ename": "TypeError",
     "evalue": "list indices must be integers or slices, not str",
     "output_type": "error",
     "traceback": [
      "\u001b[1;31m---------------------------------------------------------------------------\u001b[0m",
      "\u001b[1;31mTypeError\u001b[0m                                 Traceback (most recent call last)",
      "\u001b[1;32m<ipython-input-37-624e189d4584>\u001b[0m in \u001b[0;36m<module>\u001b[1;34m()\u001b[0m\n\u001b[1;32m----> 1\u001b[1;33m \u001b[0mevaluate\u001b[0m\u001b[1;33m(\u001b[0m\u001b[0mmodel\u001b[0m\u001b[1;33m,\u001b[0m\u001b[0mherb_drug_dict\u001b[0m\u001b[1;33m,\u001b[0m\u001b[0mdrug_herb_dict\u001b[0m\u001b[1;33m,\u001b[0m\u001b[0mcoor_y\u001b[0m\u001b[1;33m)\u001b[0m\u001b[1;33m\u001b[0m\u001b[0m\n\u001b[0m",
      "\u001b[1;32m<ipython-input-36-951a5860613b>\u001b[0m in \u001b[0;36mevaluate\u001b[1;34m(model, herb_drug_dict, drug_herb_dict, coor_y)\u001b[0m\n\u001b[0;32m     89\u001b[0m \u001b[1;33m\u001b[0m\u001b[0m\n\u001b[0;32m     90\u001b[0m         \u001b[1;31m####### Plot\u001b[0m\u001b[1;33m\u001b[0m\u001b[1;33m\u001b[0m\u001b[0m\n\u001b[1;32m---> 91\u001b[1;33m         \u001b[0mcoor_y\u001b[0m\u001b[1;33m[\u001b[0m\u001b[1;34m'ERR'\u001b[0m\u001b[1;33m]\u001b[0m\u001b[1;33m.\u001b[0m\u001b[0mappend\u001b[0m\u001b[1;33m(\u001b[0m\u001b[0mERR\u001b[0m\u001b[1;33m)\u001b[0m\u001b[1;33m\u001b[0m\u001b[0m\n\u001b[0m\u001b[0;32m     92\u001b[0m         \u001b[1;31m#coor_y['und'].append(und)\u001b[0m\u001b[1;33m\u001b[0m\u001b[1;33m\u001b[0m\u001b[0m\n\u001b[0;32m     93\u001b[0m         \u001b[1;31m#coor_y['over'].append(over)\u001b[0m\u001b[1;33m\u001b[0m\u001b[1;33m\u001b[0m\u001b[0m\n",
      "\u001b[1;31mTypeError\u001b[0m: list indices must be integers or slices, not str"
     ]
    }
   ],
   "source": [
    "evaluate(model,herb_drug_dict,drug_herb_dict,coor_y)"
   ]
  },
  {
   "cell_type": "code",
   "execution_count": 3,
   "metadata": {},
   "outputs": [
    {
     "data": {
      "text/plain": [
       "[('john´s', 0.6983307600021362),\n",
       " ('herb–drug', 0.6652954816818237),\n",
       " ('immune-suppressants', 0.6625698804855347),\n",
       " ('s.nowadays', 0.6614799499511719),\n",
       " ('pharmacologies', 0.6605209112167358),\n",
       " ('events.19', 0.65882408618927),\n",
       " ('s.100', 0.6571766138076782),\n",
       " ('medicines.we', 0.6521384716033936),\n",
       " ('androgenic', 0.6518225073814392),\n",
       " ('drugs.many', 0.6508476138114929)]"
      ]
     },
     "execution_count": 3,
     "metadata": {},
     "output_type": "execute_result"
    }
   ],
   "source": [
    "model.wv.most_similar(positive=['herb_entity_2734','trigger_entity']) "
   ]
  },
  {
   "cell_type": "code",
   "execution_count": 45,
   "metadata": {},
   "outputs": [
    {
     "data": {
      "text/plain": [
       "[('cardiotonics', 0.6780471205711365),\n",
       " ('l-thyroxin', 0.6639195680618286),\n",
       " ('.diure', 0.6637479066848755),\n",
       " ('-ii-receptor', 0.66225266456604),\n",
       " ('triple-therapy', 0.6602212190628052),\n",
       " ('spirolactones', 0.6597456932067871),\n",
       " ('antitarget', 0.6596860289573669),\n",
       " ('α-antagonists', 0.6577006578445435),\n",
       " ('ace-i', 0.6530631184577942),\n",
       " ('immune-suppressants', 0.65228271484375)]"
      ]
     },
     "execution_count": 45,
     "metadata": {},
     "output_type": "execute_result"
    }
   ],
   "source": [
    "model.wv.most_similar(positive=['herb_entity_2496','trigger_entity'],topn = 10)"
   ]
  },
  {
   "cell_type": "code",
   "execution_count": 46,
   "metadata": {},
   "outputs": [
    {
     "data": {
      "text/plain": [
       "'herb_entity_'"
      ]
     },
     "execution_count": 46,
     "metadata": {},
     "output_type": "execute_result"
    }
   ],
   "source": [
    "'herb_entity_2496'[:12]"
   ]
  },
  {
   "cell_type": "code",
   "execution_count": 33,
   "metadata": {},
   "outputs": [
    {
     "data": {
      "text/plain": [
       "0.53934126961501683"
      ]
     },
     "execution_count": 33,
     "metadata": {},
     "output_type": "execute_result"
    }
   ],
   "source": [
    "model.wv.similarity('drug_entity_345', 'herb_entity_2741')"
   ]
  },
  {
   "cell_type": "code",
   "execution_count": 52,
   "metadata": {},
   "outputs": [
    {
     "data": {
      "text/plain": [
       "[('wangchuk', 0.5989446043968201),\n",
       " ('sultan', 0.5982397198677063),\n",
       " ('dorji', 0.5936035513877869),\n",
       " ('apkass', 0.5859648585319519),\n",
       " ('jigme', 0.5838834047317505),\n",
       " ('monarchy', 0.579245388507843),\n",
       " ('naturalist', 0.5780474543571472),\n",
       " ('apothecary', 0.5754852294921875),\n",
       " ('coryat', 0.572774350643158),\n",
       " ('throne', 0.5723790526390076)]"
      ]
     },
     "execution_count": 52,
     "metadata": {},
     "output_type": "execute_result"
    }
   ],
   "source": [
    "model.wv.similar_by_word('king')"
   ]
  },
  {
   "cell_type": "code",
   "execution_count": 48,
   "metadata": {},
   "outputs": [
    {
     "data": {
      "text/plain": [
       "[('drug_entity_1339', 0.6602094173431396),\n",
       " ('drug_entity_9095', 0.6311964392662048),\n",
       " ('drug_entity_1061', 0.6276026964187622),\n",
       " ('drug_entity_647', 0.6147607564926147),\n",
       " ('digifab®', 0.5988057851791382),\n",
       " ('drug_entity_73', 0.5903866291046143),\n",
       " ('drug_entity_4568', 0.5845077037811279),\n",
       " ('drug_entity_332', 0.5716575384140015),\n",
       " ('drug_entity_935', 0.5711963772773743),\n",
       " ('drug_entity_270', 0.5700926780700684)]"
      ]
     },
     "execution_count": 48,
     "metadata": {},
     "output_type": "execute_result"
    }
   ],
   "source": [
    "model.wv.similar_by_word('drug_entity_378')"
   ]
  },
  {
   "cell_type": "code",
   "execution_count": 44,
   "metadata": {},
   "outputs": [
    {
     "name": "stdout",
     "output_type": "stream",
     "text": [
      "full_sentence\n",
      "100\n",
      "0.291024308939\n",
      "110\n",
      "9330\n",
      "200\n",
      "0.3783713165\n",
      "30\n",
      "3339\n",
      "250\n",
      "0.401626265483\n",
      "10\n",
      "1147\n",
      "300\n",
      "0.43060037818\n",
      "5\n",
      "291\n",
      "350\n",
      "0.451645030271\n",
      "2\n",
      "32\n",
      "400\n",
      "0.467390943328\n",
      "1\n",
      "41\n",
      "{'ERR': [0.49422730642940366, 0.4956973293768546, 0.49654874892148404, 0.4949664429530201, 0.5135135135135135, 0.5222222222222223], 'precis': [0.5058262711864406, 0.5044523597506678, 0.5043215211754538, 0.5084459459459459, 0.5294117647058824, 0.5119047619047619], 'recal': [0.5057726935705963, 0.5043026706231454, 0.503451251078516, 0.5050335570469798, 0.4864864864864865, 0.4777777777777778], 'F': [0.505799480959695, 0.5043775040807242, 0.5038860103626943, 0.5067340067340067, 0.5070422535211269, 0.49425287356321834]}\n",
      "only_entity\n",
      "100\n",
      "0.435148640396\n",
      "28\n",
      "1392\n",
      "200\n",
      "0.500241797413\n",
      "17\n",
      "441\n",
      "250\n",
      "0.499429665483\n",
      "16\n",
      "334\n",
      "300\n",
      "0.515288096164\n",
      "14\n",
      "219\n",
      "350\n",
      "0.517687097412\n",
      "15\n",
      "239\n",
      "400\n",
      "0.514681621877\n",
      "14\n",
      "212\n",
      "{'ERR': [0.4904996481351161, 0.483695652173913, 0.48158640226628896, 0.4810924369747899, 0.4766536964980545, 0.4782608695652174], 'precis': [0.5098591549295775, 0.5185589519650655, 0.5228571428571429, 0.5300429184549357, 0.5295275590551181, 0.5309734513274337], 'recal': [0.5095003518648838, 0.5163043478260869, 0.5184135977337111, 0.5189075630252101, 0.5233463035019456, 0.5217391304347826], 'F': [0.509679690249912, 0.5174291938997821, 0.5206258890469417, 0.524416135881104, 0.5264187866927593, 0.5263157894736842]}\n",
      "only_noun\n",
      "100\n",
      "0.323059008533\n",
      "73\n",
      "6390\n",
      "200\n",
      "0.40536082074\n",
      "19\n",
      "1322\n",
      "250\n",
      "0.429450450557\n",
      "11\n",
      "595\n",
      "300\n",
      "0.458157455635\n",
      "6\n",
      "102\n",
      "350\n",
      "0.473787961266\n",
      "8\n",
      "213\n",
      "400\n",
      "0.487485981411\n",
      "5\n",
      "109\n",
      "{'ERR': [0.4944306930693069, 0.4936708860759494, 0.493431855500821, 0.4864864864864865, 0.4888392857142857, 0.4957627118644068], 'precis': [0.5056475321058332, 0.5070842654735273, 0.509075907590759, 0.5277777777777778, 0.5180995475113123, 0.5219298245614035], 'recal': [0.505569306930693, 0.5063291139240507, 0.506568144499179, 0.5135135135135135, 0.5111607142857143, 0.5042372881355932], 'F': [0.5056084164926125, 0.5067064083457526, 0.5078189300411522, 0.5205479452054794, 0.5146067415730338, 0.5129310344827586]}\n",
      "without_adjective\n",
      "100\n",
      "0.299835933018\n",
      "102\n",
      "8833\n",
      "200\n",
      "0.382308384727\n",
      "32\n",
      "3189\n",
      "250\n",
      "0.409503446796\n",
      "10\n",
      "1158\n",
      "300\n",
      "0.442492264901\n",
      "5\n",
      "433\n",
      "350\n",
      "0.455273930208\n",
      "3\n",
      "63\n",
      "400\n",
      "0.47640394288\n",
      "0\n",
      "24\n",
      "{'ERR': [0.4943487018800358, 0.4951893234016139, 0.4965811965811966, 0.4977324263038549, 0.5, 0.5714285714285714], 'precis': [0.5057078903189703, 0.5049674014281279, 0.5042808219178082, 0.5057077625570776, 0.5227272727272727, 0.5], 'recal': [0.5056512981199642, 0.5048106765983861, 0.5034188034188034, 0.5022675736961452, 0.5, 0.42857142857142855], 'F': [0.5056795926361144, 0.5048890268508458, 0.5038494439692045, 0.503981797497156, 0.5111111111111111, 0.4615384615384615]}\n"
     ]
    }
   ],
   "source": [
    "######  Plot directory\n",
    "os.system('mkdir \"..//data//plot//\"')\n",
    "###### Import model\n",
    "#coor_y = {'ERR':[],'und':[],'over':[],'sub':[],'precis':[],'recal':[],'F':[]}\n",
    "#coor_y = {'ERR':[],'precis':[],'recal':[],'F':[]}\n",
    "#coor_x = []\n",
    "for folder in os.listdir('..//data/model/') :\n",
    "    os.system('mkdir \"..//data//plot//%s\"'%folder)\n",
    "    coor_y = {'ERR':[],'precis':[],'recal':[],'F':[]}\n",
    "    coor_x = []\n",
    "    print(folder)\n",
    "    for size in os.listdir('..//data/model/%s/'%folder) :\n",
    "        path = '..//data/model/%s/%s/model'%(folder,size)\n",
    "        model = Word2Vec.load(path)\n",
    "        ###### Root mean square\n",
    "        total = 0\n",
    "        N = 0\n",
    "        for herb in herb_drug_dict :\n",
    "            for drug in herb_drug_dict[herb] :\n",
    "                try :\n",
    "                    offset = 1 - model.wv.similarity(herb, drug)\n",
    "                    total+= offset**2\n",
    "                    N+=1\n",
    "                except :\n",
    "                    pass\n",
    "        print(size)\n",
    "        print(total / N)\n",
    "        ######\n",
    "        coor_y = evaluate(model,herb_drug_dict,drug_herb_dict,coor_y)\n",
    "        coor_x.append(size)\n",
    "        model = ''\n",
    "        #true,predict = evaluate(model,herb_drug_dict,drug_herb_dict)\n",
    "        #cf_as(true,predict)\n",
    "        \n",
    "    print(coor_y)\n",
    "    ######## Plot\n",
    "    for key in coor_y :\n",
    "        plt.plot(coor_x,coor_y[key],'o',label = key)\n",
    "        #plt.setp(lines, linewidth=2.0)\n",
    "\n",
    "    plt.legend(loc='best', ncol=2)\n",
    "    plt.savefig('..//data//plot//%s//evaluate.png'%folder)\n",
    "    #plt.show()\n",
    "    plt.clf()\n",
    "    plt.close()\n",
    "    "
   ]
  },
  {
   "cell_type": "code",
   "execution_count": 36,
   "metadata": {},
   "outputs": [],
   "source": [
    "def evaluate(model,herb_drug_dict,drug_herb_dict,coor_y) :    \n",
    "    ###### Testing by herb\n",
    "    ######\n",
    "    predict = []\n",
    "    true = []\n",
    "    classes_name = []\n",
    "    success = 0\n",
    "    fail = 0\n",
    "    ######\n",
    "    cor = 0\n",
    "    par = 0\n",
    "    inc = 0\n",
    "    spu = 0\n",
    "    mis = 0\n",
    "    ######\n",
    "    for herb in herb_drug_dict :\n",
    "        try :\n",
    "            #top = model.wv.similar_by_word(herb,topn=100000)\n",
    "            top = model.wv.most_similar(positive=[herb,'trigger_entity'], topn = 100000)\n",
    "            top_drug = []\n",
    "            for each in top :\n",
    "                if each[0][:11] == 'drug_entity' and each[1] > 0.5 :\n",
    "                    top_drug.append(each[0])\n",
    "                if each[1] < 0.5 :\n",
    "                    break\n",
    "                #elif each[0][:11] != 'drug_entity' and each[1] > 0.6 :\n",
    "                    #inc+=1\n",
    "            if top_drug == [] :\n",
    "                mis+=1\n",
    "            for drug in herb_drug_dict[herb] :\n",
    "                classes_name.append(drug)\n",
    "                for each in top_drug :\n",
    "                    if each == drug :\n",
    "                        predict.append(each)\n",
    "                        true.append(drug)\n",
    "                        classes_name.append(each)\n",
    "                        success+=1\n",
    "                        #######\n",
    "                        cor+=1\n",
    "                        #######\n",
    "                        print(each)\n",
    "                        print(herb)\n",
    "                        break\n",
    "                    elif each != drug and each in drug_herb_dict :\n",
    "                        predict.append(each)\n",
    "                        true.append(drug)\n",
    "                        classes_name.append(each)\n",
    "                        fail+=1\n",
    "                        #######\n",
    "                        par+=1\n",
    "                    #elif each != drug and each not in drug_herb_dict :\n",
    "                        #spu+=1\n",
    "        except :\n",
    "            #spu+=1\n",
    "            mis+=1\n",
    "            pass\n",
    "\n",
    "\n",
    "    classes_name = list(set(classes_name)) \n",
    "    ########\n",
    "    errors = []\n",
    "    for each in predict :\n",
    "        if each not in true :\n",
    "            errors.append(each)\n",
    "    for error in errors :\n",
    "        ind = predict.index(error)\n",
    "        predict.pop(ind)\n",
    "        true.pop(ind)\n",
    "    #######\n",
    "    print(cor)\n",
    "    print(par)\n",
    "    if cor != 0 or par != 0 : \n",
    "        #######\n",
    "        ERR = (inc + float(par)/2 + mis + spu) / (cor + par + inc + mis +spu)\n",
    "        #und = float(mis) / (cor + par + inc + mis  )\n",
    "        #over = float(spu) / ( cor + par + inc + spu )\n",
    "        #sub = (inc + float(par)/2 ) / (cor + par + inc)\n",
    "\n",
    "        #######\n",
    "        recal = (cor + par*0.5 ) / (cor + par + inc + mis  )\n",
    "        precis = (cor + par*0.5 ) / ( cor + par + inc + spu )\n",
    "\n",
    "        #######\n",
    "        F = 2*(precis*recal) / (precis + recal)\n",
    "\n",
    "        #######\n",
    "        #print('%s - %s - %s - %s'%(ERR,und,over,sub))\n",
    "        #print('%s - %s - %s '%(recal,precis,F))\n",
    "\n",
    "        ####### Plot\n",
    "        coor_y['ERR'].append(ERR)\n",
    "        #coor_y['und'].append(und)\n",
    "        #coor_y['over'].append(over)\n",
    "        #coor_y['sub'].append(sub)\n",
    "        coor_y['precis'].append(precis)\n",
    "        coor_y['recal'].append(recal)\n",
    "        coor_y['F'].append(F)\n",
    "        #######\n",
    "        return coor_y\n",
    "    else :\n",
    "        ####### Plot\n",
    "        coor_y['ERR'].append(0)\n",
    "        #coor_y['und'].append(und)\n",
    "        #coor_y['over'].append(over)\n",
    "        #coor_y['sub'].append(sub)\n",
    "        coor_y['precis'].append(0)\n",
    "        coor_y['recal'].append(0)\n",
    "        coor_y['F'].append(0)\n",
    "        return coor_y\n",
    "    #######\n",
    "    true = np.array(true)\n",
    "    predict = np.array(predict)\n",
    "    #return true , predict\n",
    "    "
   ]
  },
  {
   "cell_type": "code",
   "execution_count": 7,
   "metadata": {},
   "outputs": [],
   "source": [
    "def cf_as(true,predict) :\n",
    "    ###### Confusion Matrix\n",
    "    cnf_matrix = confusion_matrix(true,predict)\n",
    "    np.set_printoptions(precision=2)\n",
    "    plt.figure()\n",
    "    plot_confusion_matrix(cnf_matrix, [] , normalize= False ,title='Confusion matrix without normalization')\n",
    "    plt.show()\n",
    "    ###### Accuracy score\n",
    "    print(len(cnf_matrix))\n",
    "    print('accuracy = ',accuracy_score(true,predict))"
   ]
  },
  {
   "cell_type": "code",
   "execution_count": 23,
   "metadata": {
    "scrolled": true
   },
   "outputs": [
    {
     "name": "stdout",
     "output_type": "stream",
     "text": [
      "accuracy =  0.153846153846\n"
     ]
    }
   ],
   "source": [
    "###### Accuracy score\n",
    "print('accuracy = ',accuracy_score(true,predict))"
   ]
  },
  {
   "cell_type": "code",
   "execution_count": 26,
   "metadata": {},
   "outputs": [],
   "source": [
    "a = [1,2,3,4]\n",
    "b = [1,4,9,16]\n",
    "\n",
    "#plt.plot([1,2,3,4], [1,4,9,16],'o' )\n",
    "#plt.plot([2,3,4,5],[2,3,6,8], 'o')\n",
    "plt.plot(a,b,'o')\n",
    "plt.axis([0, 6, 0, 20])\n",
    "#plt.show()\n",
    "plt.savefig('..//data//plot//evaluate.png')\n",
    "plt.clf()\n",
    "plt.close()\n",
    "\n",
    "a = [2,3,6,8]\n",
    "b = [1,4,9,16]\n",
    "\n",
    "plt.plot(a,b,'o')\n",
    "#plt.plot([1,2,3,4], [1,4,9,16],'o' )\n",
    "#plt.plot([1,2,3,4],[2,3,6,8], 'o')\n",
    "plt.axis([0, 6, 0, 20])\n",
    "#plt.show()\n",
    "plt.savefig('..//data//plot//evaluate1.png')\n",
    "plt.clf()\n",
    "plt.close()"
   ]
  },
  {
   "cell_type": "code",
   "execution_count": 126,
   "metadata": {},
   "outputs": [
    {
     "data": {
      "image/png": "[encoded data removed]",
      "text/plain": [
       "<Figure size 432x288 with 1 Axes>"
      ]
     },
     "metadata": {},
     "output_type": "display_data"
    }
   ],
   "source": [
    "plt.plot(coor_x,coor_y['ERR'],'o',linewidth=2.0)\n",
    "#plt.plot(coor_x,coor_y['und'],'o')\n",
    "#plt.plot(coor_x,coor_y['over'],'o')\n",
    "#plt.plot(coor_x,coor_y['sub'],'o')\n",
    "plt.plot(coor_x,coor_y['precis'],'o')\n",
    "plt.plot(coor_x,coor_y['recal'],'o')\n",
    "plt.plot(coor_x,coor_y['F'],'o')\n",
    "#plt.axis([100, 400, 0 , 1])\n",
    "plt.show()"
   ]
  },
  {
   "cell_type": "code",
   "execution_count": null,
   "metadata": {},
   "outputs": [],
   "source": []
  }
 ],
 "metadata": {
  "kernelspec": {
   "display_name": "Python 3",
   "language": "python",
   "name": "python3"
  },
  "language_info": {
   "codemirror_mode": {
    "name": "ipython",
    "version": 3
   },
   "file_extension": ".py",
   "mimetype": "text/x-python",
   "name": "python",
   "nbconvert_exporter": "python",
   "pygments_lexer": "ipython3",
   "version": "3.6.1"
  }
 },
 "nbformat": 4,
 "nbformat_minor": 2
}
