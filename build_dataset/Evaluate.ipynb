{
 "cells": [
  {
   "cell_type": "code",
   "execution_count": 58,
   "metadata": {},
   "outputs": [],
   "source": [
    "import os\n",
    "import sys\n",
    "import json\n",
    "from sklearn.metrics import confusion_matrix\n",
    "import matplotlib.pyplot as plt\n",
    "import numpy as np\n",
    "import itertools\n",
    "from sklearn.metrics import accuracy_score\n",
    "from gensim.models import Word2Vec\n",
    "import time"
   ]
  },
  {
   "cell_type": "code",
   "execution_count": 59,
   "metadata": {},
   "outputs": [],
   "source": [
    "def plot_confusion_matrix(cm, classes,\n",
    "                          normalize=False,\n",
    "                          title='Confusion matrix',\n",
    "                          cmap=plt.cm.Blues):\n",
    "    \"\"\"\n",
    "    This function prints and plots the confusion matrix.\n",
    "    Normalization can be applied by setting `normalize=True`.\n",
    "    \"\"\"\n",
    "    if normalize:\n",
    "        cm = cm.astype('float') / cm.sum(axis=1)[:, np.newaxis]\n",
    "        print(\"Normalized confusion matrix\")\n",
    "    else:\n",
    "        print('Confusion matrix, without normalization')\n",
    "\n",
    "    print(cm)\n",
    "\n",
    "    plt.imshow(cm, interpolation='nearest', cmap=cmap)\n",
    "    plt.title(title)\n",
    "    plt.colorbar()\n",
    "    tick_marks = np.arange(len(classes))\n",
    "    plt.xticks(tick_marks, classes, rotation=45)\n",
    "    plt.yticks(tick_marks, classes)\n",
    "\n",
    "    fmt = '.2f' if normalize else 'd'\n",
    "    thresh = cm.max() / 2.\n",
    "    for i, j in itertools.product(range(cm.shape[0]), range(cm.shape[1])):\n",
    "        plt.text(j, i, format(cm[i, j], fmt),\n",
    "                 horizontalalignment=\"center\",\n",
    "                 color=\"white\" if cm[i, j] > thresh else \"black\")\n",
    "\n",
    "    plt.tight_layout()\n",
    "    plt.ylabel('True label')\n",
    "    plt.xlabel('Predicted label')\n",
    "    \n",
    "    \n",
    "''''''\n",
    "''''''\n",
    "\n",
    "def cm2pr_binary(cm):\n",
    "    p = cm[0,0]/np.sum(cm[:,0])\n",
    "    r = cm[0,0]/np.sum(cm[0])\n",
    "    return (p, r)\n",
    "\n",
    "''''''\n",
    "''''''\n",
    "def PR(tp, fp, fn):\n",
    "    P = float(tp)/(tp + fp)\n",
    "    R = float(tp)/(tp + fn)\n",
    "    return (P, R)"
   ]
  },
  {
   "cell_type": "code",
   "execution_count": 3,
   "metadata": {},
   "outputs": [],
   "source": [
    "###### Import model\n",
    "model = Word2Vec.load('testmodel')\n"
   ]
  },
  {
   "cell_type": "code",
   "execution_count": 4,
   "metadata": {},
   "outputs": [],
   "source": [
    "###### Import ref without effect\n",
    "ref = json.load(open('./Desktop/thesis/standard_ref_without_effect.json'))\n",
    "entity = open('./Desktop/thesis/entity_replaced.csv').read().split('\\n')[:-1]"
   ]
  },
  {
   "cell_type": "code",
   "execution_count": 5,
   "metadata": {},
   "outputs": [],
   "source": [
    "###### Entity dict \n",
    "entity_dict = {}\n",
    "for row in entity :\n",
    "    entity_dict[row.split('\\t')[1]] = row.split('\\t')[0]"
   ]
  },
  {
   "cell_type": "code",
   "execution_count": 6,
   "metadata": {},
   "outputs": [],
   "source": [
    "###### Ref pair drug - herb\n",
    "drug_herb_dict = {}\n",
    "for herb in ref :\n",
    "    for drug in ref[herb] :\n",
    "        try :\n",
    "            if entity_dict[drug] not in drug_herb_dict :\n",
    "                drug_herb_dict[entity_dict[drug]] = [entity_dict[herb]]\n",
    "            else :\n",
    "                drug_herb_dict[entity_dict[drug]].append(entity_dict[herb])\n",
    "        except :\n",
    "            pass"
   ]
  },
  {
   "cell_type": "code",
   "execution_count": 34,
   "metadata": {},
   "outputs": [],
   "source": [
    "###### Ref pair herb - drug \n",
    "herb_drug_dict = {}\n",
    "for herb in ref :\n",
    "    for drug in ref[herb] :\n",
    "        try :\n",
    "            if entity_dict[herb] not in herb_drug_dict :\n",
    "                herb_drug_dict[entity_dict[herb]] = [entity_dict[drug]]\n",
    "            else :\n",
    "                herb_drug_dict[entity_dict[herb]].append(entity_dict[drug])\n",
    "        except :\n",
    "            pass"
   ]
  },
  {
   "cell_type": "code",
   "execution_count": 211,
   "metadata": {},
   "outputs": [],
   "source": [
    "###### Testing by herb\n",
    "predict = []\n",
    "true = []\n",
    "classes_name = []\n",
    "success = 0\n",
    "fail = 0\n",
    "for herb in herb_drug_dict :\n",
    "    top = model.wv.similar_by_word(herb,topn=5000)\n",
    "    top_drug = []\n",
    "    for each in top :\n",
    "        if each[0][:11] == 'drug_entity' :\n",
    "            top_drug.append(each[0])\n",
    "    for drug in herb_drug_dict[herb] :\n",
    "        classes_name.append(drug)\n",
    "        for each in top_drug :\n",
    "            if each == drug :\n",
    "                predict.append(each)\n",
    "                true.append(drug)\n",
    "                classes_name.append(each)\n",
    "                success+=1\n",
    "                break\n",
    "            elif each != drug and each in drug_herb_dict :\n",
    "                predict.append(each)\n",
    "                true.append(drug)\n",
    "                classes_name.append(each)\n",
    "                fail+=1\n",
    "\n",
    "\n",
    "classes_name = list(set(classes_name)) "
   ]
  },
  {
   "cell_type": "code",
   "execution_count": 212,
   "metadata": {},
   "outputs": [
    {
     "data": {
      "text/plain": [
       "27"
      ]
     },
     "execution_count": 212,
     "metadata": {},
     "output_type": "execute_result"
    }
   ],
   "source": [
    "len(predict)"
   ]
  },
  {
   "cell_type": "code",
   "execution_count": 213,
   "metadata": {},
   "outputs": [
    {
     "data": {
      "text/plain": [
       "27"
      ]
     },
     "execution_count": 213,
     "metadata": {},
     "output_type": "execute_result"
    }
   ],
   "source": [
    "len(true)"
   ]
  },
  {
   "cell_type": "code",
   "execution_count": null,
   "metadata": {},
   "outputs": [],
   "source": []
  },
  {
   "cell_type": "code",
   "execution_count": null,
   "metadata": {},
   "outputs": [],
   "source": []
  },
  {
   "cell_type": "code",
   "execution_count": 240,
   "metadata": {},
   "outputs": [],
   "source": [
    "###### Testing by drug\n",
    "predict = []\n",
    "true = []\n",
    "classes_name = []\n",
    "success = 0\n",
    "fail = 0\n",
    "for drug in drug_herb_dict :\n",
    "    top_100 = model.wv.similar_by_word(drug,topn=1000)\n",
    "    top_herb = []\n",
    "    for each in top_100 :\n",
    "        if each[0][:11] == 'herb_entity' :\n",
    "            top_herb.append(each)\n",
    "    for herb in drug_herb_dict[drug] :\n",
    "        #classes_name.append(herb)\n",
    "        for each in top_herb :\n",
    "            if each[0] == herb :\n",
    "                predict.append(each[0])\n",
    "                true.append(herb)\n",
    "                classes_name.append(herb)\n",
    "                success+=1\n",
    "                break\n",
    "            elif each[0] != herb and each[0] in herb_drug_dict :\n",
    "                if each[1] > 0.9 :\n",
    "                    predict.append(each[0])\n",
    "                    true.append(herb)\n",
    "                    classes_name.append(each[0])\n",
    "                    classes_name.append(herb)\n",
    "                    fail+=1\n",
    "\n",
    "\n",
    "classes_name = list(set(classes_name))\n",
    "\n",
    "errors = []\n",
    "\n",
    "for each in predict :\n",
    "    if each not in true :\n",
    "        errors.append(each)\n",
    "for error in errors :\n",
    "    ind = predict.index(error)\n",
    "    predict.pop(ind)\n",
    "    true.pop(ind)\n",
    "    \n",
    "\n",
    "#true = np.array(true)\n",
    "#predict = np.array(predict)\n",
    "            "
   ]
  },
  {
   "cell_type": "code",
   "execution_count": 245,
   "metadata": {},
   "outputs": [],
   "source": [
    "true = np.array(true)\n",
    "predict = np.array(predict)"
   ]
  },
  {
   "cell_type": "code",
   "execution_count": 228,
   "metadata": {},
   "outputs": [
    {
     "name": "stdout",
     "output_type": "stream",
     "text": [
      "10\n",
      "115\n",
      "114\n"
     ]
    }
   ],
   "source": [
    "print(success)\n",
    "print(fail)\n",
    "print(len(predict))"
   ]
  },
  {
   "cell_type": "code",
   "execution_count": 242,
   "metadata": {},
   "outputs": [],
   "source": [
    "errors = []\n",
    "for each in predict :\n",
    "    if each not in true :\n",
    "        errors.append(each)\n"
   ]
  },
  {
   "cell_type": "code",
   "execution_count": 243,
   "metadata": {},
   "outputs": [
    {
     "data": {
      "text/plain": [
       "[]"
      ]
     },
     "execution_count": 243,
     "metadata": {},
     "output_type": "execute_result"
    }
   ],
   "source": [
    "errors"
   ]
  },
  {
   "cell_type": "code",
   "execution_count": 209,
   "metadata": {},
   "outputs": [],
   "source": [
    "true = np.array(['c','b','b','c'])\n",
    "predict = np.array(['a','b','b','c'])"
   ]
  },
  {
   "cell_type": "code",
   "execution_count": 246,
   "metadata": {},
   "outputs": [
    {
     "name": "stdout",
     "output_type": "stream",
     "text": [
      "Confusion matrix, without normalization\n",
      "[[1 0 1 0 1 1 1 0 0 0 1 0 0 1 0 0 0 0 0 2 0 0 0]\n",
      " [1 1 1 0 0 0 1 0 0 0 1 0 0 0 0 1 1 0 0 1 0 0 0]\n",
      " [1 1 1 0 0 0 1 0 0 0 1 0 0 1 0 1 1 0 0 1 0 1 0]\n",
      " [1 1 0 0 0 0 1 0 0 0 1 0 0 0 0 1 1 0 0 1 0 0 0]\n",
      " [1 1 0 0 0 0 1 0 0 0 1 0 0 0 0 1 1 0 0 1 0 1 0]\n",
      " [1 1 0 0 0 0 1 0 0 0 1 0 0 0 0 1 1 0 0 1 0 0 0]\n",
      " [0 0 0 1 0 0 2 0 0 0 0 0 0 0 1 0 0 0 0 1 0 0 0]\n",
      " [1 1 0 0 0 0 1 1 0 0 1 0 0 0 0 1 1 0 0 1 0 1 0]\n",
      " [1 1 0 0 0 0 1 0 0 0 1 0 0 0 0 1 1 0 0 1 0 0 0]\n",
      " [0 0 1 0 0 0 0 0 0 0 0 0 0 0 0 0 0 0 0 0 0 0 0]\n",
      " [0 0 0 0 0 0 0 0 0 0 0 0 0 0 0 0 0 0 0 0 0 1 0]\n",
      " [0 0 0 0 0 0 0 0 0 0 0 1 0 0 0 0 0 0 0 0 0 0 0]\n",
      " [0 0 0 0 0 0 0 0 0 0 0 0 0 0 0 0 0 0 0 1 0 1 0]\n",
      " [0 0 0 0 0 0 0 0 0 0 0 0 0 0 0 0 0 0 0 0 0 1 0]\n",
      " [0 0 0 0 0 0 0 0 0 0 0 0 0 0 0 0 0 0 0 1 0 0 0]\n",
      " [0 0 1 0 0 1 0 0 0 0 0 0 0 1 0 1 0 0 0 1 0 1 0]\n",
      " [0 0 1 0 1 1 0 0 0 0 0 0 0 0 1 0 0 0 0 0 0 0 1]\n",
      " [0 0 1 0 1 1 0 0 0 0 0 0 0 0 1 0 0 0 0 0 0 0 1]\n",
      " [0 0 0 0 0 0 0 0 0 0 0 0 0 0 0 0 0 0 0 0 0 1 0]\n",
      " [0 0 0 0 0 0 0 0 0 0 0 0 0 0 0 0 0 0 0 1 0 0 0]\n",
      " [0 0 1 0 0 1 0 0 0 0 0 0 0 0 0 0 0 0 0 0 0 1 0]\n",
      " [0 0 0 0 0 0 0 0 0 0 0 0 0 0 0 0 0 0 0 0 0 1 0]\n",
      " [1 1 0 0 0 0 1 0 0 0 1 0 0 0 0 1 1 0 0 1 0 0 0]]\n"
     ]
    },
    {
     "data": {
      "image/png": "[encoded data removed]",
      "text/plain": [
       "<matplotlib.figure.Figure at 0xba5e860>"
      ]
     },
     "metadata": {},
     "output_type": "display_data"
    }
   ],
   "source": [
    "###### Confusion Matrix\n",
    "cnf_matrix = confusion_matrix(true,predict)\n",
    "np.set_printoptions(precision=2)\n",
    "plt.figure()\n",
    "plot_confusion_matrix(cnf_matrix, [] , normalize= False ,title='Confusion matrix without normalization')\n",
    "plt.show()"
   ]
  },
  {
   "cell_type": "code",
   "execution_count": 247,
   "metadata": {
    "scrolled": true
   },
   "outputs": [
    {
     "name": "stdout",
     "output_type": "stream",
     "text": [
      "accuracy =  0.0943396226415\n"
     ]
    }
   ],
   "source": [
    "###### Accuracy score\n",
    "print('accuracy = ',accuracy_score(true,predict))"
   ]
  },
  {
   "cell_type": "code",
   "execution_count": 248,
   "metadata": {},
   "outputs": [
    {
     "name": "stdout",
     "output_type": "stream",
     "text": [
      "0.0943396226415\n",
      "0.0943396226415\n",
      "0.174516908213\n",
      "nan\n",
      "0.0943396226415\n"
     ]
    }
   ],
   "source": [
    "###### Calculate Precision and Recall for each class\n",
    "Precision_list = []\n",
    "Recall_list = []\n",
    "Total_TP = 0\n",
    "Total_FP = 0\n",
    "Total_FN = 0\n",
    "\n",
    "for i in range(len(cnf_matrix[0])) :\n",
    "    ######\n",
    "    buf_tp = 0\n",
    "    buf_fp = 0\n",
    "    buf_fn = 0\n",
    "    ######\n",
    "    Total_TP+= cnf_matrix[i][i]\n",
    "    buf_tp = cnf_matrix[i][i]\n",
    "    ######\n",
    "    Total_FP+= (sum(cnf_matrix[i]) - cnf_matrix[i][i])\n",
    "    buf_fp = (sum(cnf_matrix[i]) - cnf_matrix[i][i])\n",
    "    ######\n",
    "    for each in cnf_matrix :\n",
    "        Total_FN+= each[i]\n",
    "        buf_fn+= each[i]\n",
    "    ######\n",
    "    Total_FN-= cnf_matrix[i][i]\n",
    "    buf_fn-= cnf_matrix[i][i]\n",
    "    ######\n",
    "    (P, R) = PR(buf_tp, buf_fp, buf_fn)\n",
    "    Precision_list.append(P)\n",
    "    Recall_list.append(R)\n",
    "######\n",
    "micro_ap = float(Total_TP)/(Total_TP + Total_FP)\n",
    "micro_ar = float(Total_TP)/(Total_TP + Total_FN)\n",
    "\n",
    "######\n",
    "macro_ap = (sum(Precision_list))/ len(Precision_list)\n",
    "macro_ar = (sum(Recall_list))/ len(Recall_list)\n",
    "\n",
    "######\n",
    "print(micro_ap)\n",
    "print(micro_ar)\n",
    "print(macro_ap)\n",
    "print(macro_ar)\n",
    "######\n",
    "\n",
    "###### F1-score\n",
    "F_score = (2*micro_ap*micro_ar)/(micro_ap+micro_ar) \n",
    "\n",
    "print(F_score)"
   ]
  },
  {
   "cell_type": "code",
   "execution_count": 250,
   "metadata": {},
   "outputs": [
    {
     "data": {
      "text/plain": [
       "[0.1111111111111111,\n",
       " 0.125,\n",
       " 0.125,\n",
       " 0.0,\n",
       " 0.0,\n",
       " 0.0,\n",
       " 0.18181818181818182,\n",
       " 1.0,\n",
       " nan,\n",
       " nan,\n",
       " 0.0,\n",
       " 1.0,\n",
       " nan,\n",
       " 0.0,\n",
       " 0.0,\n",
       " 0.1111111111111111,\n",
       " 0.0,\n",
       " nan,\n",
       " nan,\n",
       " 0.066666666666666666,\n",
       " nan,\n",
       " 0.10000000000000001,\n",
       " 0.0]"
      ]
     },
     "execution_count": 250,
     "metadata": {},
     "output_type": "execute_result"
    }
   ],
   "source": [
    "Recall_list"
   ]
  },
  {
   "cell_type": "code",
   "execution_count": 144,
   "metadata": {},
   "outputs": [
    {
     "data": {
      "text/plain": [
       "array([0, 1, 1, 0, 1, 0, 0, 0, 1, 0, 0, 0, 1, 0, 0, 0, 0, 0, 1, 1, 0, 0, 1,\n",
       "       0, 0, 0])"
      ]
     },
     "execution_count": 144,
     "metadata": {},
     "output_type": "execute_result"
    }
   ],
   "source": [
    "buf_tp = 0\n",
    "buf_fp = 0\n",
    "buf_fn = 0\n",
    "\n",
    "buf_tp = cnf_matrix[10][10]\n",
    "buf_fp = (sum(cnf_matrix[10]) - cnf_matrix[10][10])"
   ]
  },
  {
   "cell_type": "code",
   "execution_count": 191,
   "metadata": {},
   "outputs": [
    {
     "data": {
      "text/plain": [
       "8"
      ]
     },
     "execution_count": 191,
     "metadata": {},
     "output_type": "execute_result"
    }
   ],
   "source": [
    "sum(cnf_matrix[10])"
   ]
  },
  {
   "cell_type": "code",
   "execution_count": 57,
   "metadata": {},
   "outputs": [
    {
     "name": "stdout",
     "output_type": "stream",
     "text": [
      "precition = 0.67, recall = 0.50\n"
     ]
    }
   ],
   "source": [
    "###### Precision and Recall\n",
    "\n",
    "p,r = cm2pr_binary(cnf_matrix)\n",
    "print(\"precition = {0:.2f}, recall = {1:.2f}\".format(p, r))"
   ]
  },
  {
   "cell_type": "code",
   "execution_count": 64,
   "metadata": {},
   "outputs": [
    {
     "name": "stdout",
     "output_type": "stream",
     "text": [
      "0.571428571429\n"
     ]
    }
   ],
   "source": [
    "###### F1-score\n",
    "F_score = (2*p*r)/(p+r) \n",
    "\n",
    "print(F_score)\n"
   ]
  },
  {
   "cell_type": "code",
   "execution_count": 65,
   "metadata": {},
   "outputs": [],
   "source": [
    "cm = np.array([[100., 10], [20, 70]])"
   ]
  },
  {
   "cell_type": "code",
   "execution_count": 66,
   "metadata": {},
   "outputs": [
    {
     "data": {
      "text/plain": [
       "array([[ 100.,   10.],\n",
       "       [  20.,   70.]])"
      ]
     },
     "execution_count": 66,
     "metadata": {},
     "output_type": "execute_result"
    }
   ],
   "source": [
    "cm"
   ]
  },
  {
   "cell_type": "code",
   "execution_count": null,
   "metadata": {},
   "outputs": [],
   "source": []
  }
 ],
 "metadata": {
  "kernelspec": {
   "display_name": "Python 3",
   "language": "python",
   "name": "python3"
  },
  "language_info": {
   "codemirror_mode": {
    "name": "ipython",
    "version": 3
   },
   "file_extension": ".py",
   "mimetype": "text/x-python",
   "name": "python",
   "nbconvert_exporter": "python",
   "pygments_lexer": "ipython3",
   "version": "3.6.4"
  }
 },
 "nbformat": 4,
 "nbformat_minor": 2
}
